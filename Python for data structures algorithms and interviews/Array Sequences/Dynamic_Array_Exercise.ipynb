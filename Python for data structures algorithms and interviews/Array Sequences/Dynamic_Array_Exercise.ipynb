{
  "nbformat": 4,
  "nbformat_minor": 0,
  "metadata": {
    "kernelspec": {
      "display_name": "Python 3",
      "language": "python",
      "name": "python3"
    },
    "language_info": {
      "codemirror_mode": {
        "name": "ipython",
        "version": 3
      },
      "file_extension": ".py",
      "mimetype": "text/x-python",
      "name": "python",
      "nbconvert_exporter": "python",
      "pygments_lexer": "ipython3",
      "version": "3.6.2"
    },
    "colab": {
      "name": "Dynamic Array Exercise.ipynb",
      "provenance": [],
      "collapsed_sections": []
    }
  },
  "cells": [
    {
      "cell_type": "markdown",
      "metadata": {
        "id": "nFGR6av63Q2t",
        "colab_type": "text"
      },
      "source": [
        "# Dynamic Array Exercise\n",
        "____\n",
        "\n",
        "In this exercise we will create our own Dynamic Array class!\n",
        "\n",
        "We'll be using a built in library called [ctypes](https://docs.python.org/2/library/ctypes.html). Check out the documentation for more info, but its basically going to be used here as a raw array from the ctypes module.\n",
        "If you find yourself very interested in it, check out: [Ctypes Tutorial](http://starship.python.net/crew/theller/ctypes/tutorial.html)\n",
        "\n",
        "Also..."
      ]
    },
    {
      "cell_type": "markdown",
      "metadata": {
        "id": "GqYASOJ53Q21",
        "colab_type": "text"
      },
      "source": [
        "**A quick note on public vs private methods, we can use an underscore _ before the method name to keep it non-public. For example:**"
      ]
    },
    {
      "cell_type": "code",
      "metadata": {
        "id": "-c0DsGnu3Q26",
        "colab_type": "code",
        "colab": {}
      },
      "source": [
        "class M(object):\n",
        "    \n",
        "    def public(self):\n",
        "        print ('Use Tab to see me!')\n",
        "        \n",
        "    def _private(self):\n",
        "        print (\"You won't be able to Tab to see me!\")"
      ],
      "execution_count": 0,
      "outputs": []
    },
    {
      "cell_type": "code",
      "metadata": {
        "id": "hUUzfTnJ3Q3P",
        "colab_type": "code",
        "colab": {}
      },
      "source": [
        "m = M()"
      ],
      "execution_count": 0,
      "outputs": []
    },
    {
      "cell_type": "code",
      "metadata": {
        "id": "Guhg_jYm3Q3a",
        "colab_type": "code",
        "colab": {
          "base_uri": "https://localhost:8080/",
          "height": 35
        },
        "outputId": "aeb1fd10-96d6-4972-9993-3084325b743c"
      },
      "source": [
        "m.public()"
      ],
      "execution_count": 4,
      "outputs": [
        {
          "output_type": "stream",
          "text": [
            "Use Tab to see me!\n"
          ],
          "name": "stdout"
        }
      ]
    },
    {
      "cell_type": "code",
      "metadata": {
        "id": "oMpMP8CK3Q3l",
        "colab_type": "code",
        "colab": {
          "base_uri": "https://localhost:8080/",
          "height": 35
        },
        "outputId": "87323c97-8af8-41d3-da8c-9b42e9b8d9af"
      },
      "source": [
        "m._private()"
      ],
      "execution_count": 5,
      "outputs": [
        {
          "output_type": "stream",
          "text": [
            "You won't be able to Tab to see me!\n"
          ],
          "name": "stdout"
        }
      ]
    },
    {
      "cell_type": "markdown",
      "metadata": {
        "id": "dCLada853Q3u",
        "colab_type": "text"
      },
      "source": [
        "Check out PEP 8 and the Python docs for more info on this!\n",
        "_____\n",
        "\n",
        "### Dynamic Array Implementation"
      ]
    },
    {
      "cell_type": "code",
      "metadata": {
        "id": "EDV0PHoQ3Q3w",
        "colab_type": "code",
        "colab": {}
      },
      "source": [
        "import ctypes\n",
        "\n",
        "class DynamicArray(object):\n",
        "    '''\n",
        "    DYNAMIC ARRAY CLASS (Similar to Python List)\n",
        "    '''\n",
        "    \n",
        "    def __init__(self):\n",
        "        self.n = 0 # Count actual elements (Default is 0)\n",
        "        self.capacity = 1 # Default Capacity\n",
        "        self.A = self.make_array(self.capacity)\n",
        "        \n",
        "    def __len__(self):\n",
        "        \"\"\"\n",
        "        Return number of elements sorted in array\n",
        "        \"\"\"\n",
        "        return self.n\n",
        "    \n",
        "    def __getitem__(self,k):\n",
        "        \"\"\"\n",
        "        Return element at index k\n",
        "        \"\"\"\n",
        "        if not 0 <= k <self.n:\n",
        "            return IndexError('K is out of bounds!') # Check it k index is in bounds of array\n",
        "        \n",
        "        return self.A[k] #Retrieve from array at index k\n",
        "        \n",
        "    def append(self, ele):\n",
        "        \"\"\"\n",
        "        Add element to end of the array\n",
        "        \"\"\"\n",
        "        if self.n == self.capacity:\n",
        "            self._resize(2*self.capacity) #Double capacity if not enough room\n",
        "        \n",
        "        self.A[self.n] = ele #Set self.n index to element\n",
        "        self.n += 1\n",
        "        \n",
        "    def _resize(self,new_cap):\n",
        "        \"\"\"\n",
        "        Resize internal array to capacity new_cap\n",
        "        \"\"\"\n",
        "        \n",
        "        B = self.make_array(new_cap) # New bigger array\n",
        "        \n",
        "        for k in range(self.n): # Reference all existing values\n",
        "            B[k] = self.A[k]\n",
        "            \n",
        "        self.A = B # Call A the new bigger array\n",
        "        self.capacity = new_cap # Reset the capacity\n",
        "        \n",
        "    def make_array(self,new_cap):\n",
        "        \"\"\"\n",
        "        Returns a new array with new_cap capacity\n",
        "        \"\"\"\n",
        "        return (new_cap * ctypes.py_object)()"
      ],
      "execution_count": 0,
      "outputs": []
    },
    {
      "cell_type": "code",
      "metadata": {
        "id": "fShCeFW_6z5t",
        "colab_type": "code",
        "colab": {}
      },
      "source": [
        "arr1 = DynamicArray()"
      ],
      "execution_count": 0,
      "outputs": []
    },
    {
      "cell_type": "code",
      "metadata": {
        "id": "07mzDWq-6z4F",
        "colab_type": "code",
        "colab": {
          "base_uri": "https://localhost:8080/",
          "height": 35
        },
        "outputId": "3190e6f2-85d3-41de-a5a4-af97a34f23c9"
      },
      "source": [
        "arr1.capacity"
      ],
      "execution_count": 19,
      "outputs": [
        {
          "output_type": "execute_result",
          "data": {
            "text/plain": [
              "1"
            ]
          },
          "metadata": {
            "tags": []
          },
          "execution_count": 19
        }
      ]
    },
    {
      "cell_type": "code",
      "metadata": {
        "id": "larpshrq6zzW",
        "colab_type": "code",
        "colab": {}
      },
      "source": [
        "arr1.append(1000000)"
      ],
      "execution_count": 0,
      "outputs": []
    },
    {
      "cell_type": "code",
      "metadata": {
        "id": "1FQSvOa26zu5",
        "colab_type": "code",
        "colab": {
          "base_uri": "https://localhost:8080/",
          "height": 35
        },
        "outputId": "0cc94c87-128c-4ffd-a87c-3ca535b4660a"
      },
      "source": [
        "arr1.capacity"
      ],
      "execution_count": 21,
      "outputs": [
        {
          "output_type": "execute_result",
          "data": {
            "text/plain": [
              "1"
            ]
          },
          "metadata": {
            "tags": []
          },
          "execution_count": 21
        }
      ]
    },
    {
      "cell_type": "code",
      "metadata": {
        "id": "uGiuZtyd6zp7",
        "colab_type": "code",
        "colab": {
          "base_uri": "https://localhost:8080/",
          "height": 35
        },
        "outputId": "040a6fba-bd12-4d5a-d9aa-76c8ddda0188"
      },
      "source": [
        "arr1"
      ],
      "execution_count": 22,
      "outputs": [
        {
          "output_type": "execute_result",
          "data": {
            "text/plain": [
              "<__main__.DynamicArray at 0x7f7a3b5116a0>"
            ]
          },
          "metadata": {
            "tags": []
          },
          "execution_count": 22
        }
      ]
    },
    {
      "cell_type": "code",
      "metadata": {
        "id": "oes3EPRE6zjh",
        "colab_type": "code",
        "colab": {
          "base_uri": "https://localhost:8080/",
          "height": 35
        },
        "outputId": "f22e24b5-157c-46bc-916e-2743a3879cb0"
      },
      "source": [
        "arr1[0]"
      ],
      "execution_count": 30,
      "outputs": [
        {
          "output_type": "execute_result",
          "data": {
            "text/plain": [
              "1000000"
            ]
          },
          "metadata": {
            "tags": []
          },
          "execution_count": 30
        }
      ]
    },
    {
      "cell_type": "code",
      "metadata": {
        "id": "-lSTruk27XaW",
        "colab_type": "code",
        "colab": {}
      },
      "source": [
        "arr1.append(list(range(1000000)))"
      ],
      "execution_count": 0,
      "outputs": []
    },
    {
      "cell_type": "code",
      "metadata": {
        "id": "ybvpU6VI7Sco",
        "colab_type": "code",
        "colab": {
          "base_uri": "https://localhost:8080/",
          "height": 35
        },
        "outputId": "7e04b108-9d1f-498a-b485-6db176416047"
      },
      "source": [
        "arr1.__len__()"
      ],
      "execution_count": 34,
      "outputs": [
        {
          "output_type": "execute_result",
          "data": {
            "text/plain": [
              "2"
            ]
          },
          "metadata": {
            "tags": []
          },
          "execution_count": 34
        }
      ]
    },
    {
      "cell_type": "code",
      "metadata": {
        "id": "erO6nGdm3Q33",
        "colab_type": "code",
        "colab": {}
      },
      "source": [
        "# Instantiate\n",
        "arr = DynamicArray()"
      ],
      "execution_count": 0,
      "outputs": []
    },
    {
      "cell_type": "code",
      "metadata": {
        "id": "Pn5aa1BK3Q39",
        "colab_type": "code",
        "colab": {}
      },
      "source": [
        "# Append new element\n",
        "arr.append(1)"
      ],
      "execution_count": 0,
      "outputs": []
    },
    {
      "cell_type": "code",
      "metadata": {
        "id": "dB2U5gia3Q4H",
        "colab_type": "code",
        "colab": {
          "base_uri": "https://localhost:8080/",
          "height": 35
        },
        "outputId": "e03be7dc-b35e-450f-f461-ed01eae9b102"
      },
      "source": [
        "# Check length\n",
        "len(arr)"
      ],
      "execution_count": 25,
      "outputs": [
        {
          "output_type": "execute_result",
          "data": {
            "text/plain": [
              "1"
            ]
          },
          "metadata": {
            "tags": []
          },
          "execution_count": 25
        }
      ]
    },
    {
      "cell_type": "code",
      "metadata": {
        "id": "tHXwk8nn3Q4P",
        "colab_type": "code",
        "colab": {}
      },
      "source": [
        "# Append new element\n",
        "arr.append(2)"
      ],
      "execution_count": 0,
      "outputs": []
    },
    {
      "cell_type": "code",
      "metadata": {
        "id": "k8hLCpsg3Q4W",
        "colab_type": "code",
        "colab": {
          "base_uri": "https://localhost:8080/",
          "height": 35
        },
        "outputId": "63e13633-3676-4c44-a3eb-a4522f4c4284"
      },
      "source": [
        "# Check length\n",
        "len(arr)"
      ],
      "execution_count": 27,
      "outputs": [
        {
          "output_type": "execute_result",
          "data": {
            "text/plain": [
              "2"
            ]
          },
          "metadata": {
            "tags": []
          },
          "execution_count": 27
        }
      ]
    },
    {
      "cell_type": "code",
      "metadata": {
        "id": "uohPP7Qp3Q4f",
        "colab_type": "code",
        "colab": {
          "base_uri": "https://localhost:8080/",
          "height": 35
        },
        "outputId": "ee26eb04-8b93-41b6-e0c6-5327cba8d73d"
      },
      "source": [
        "# Index\n",
        "arr[0]"
      ],
      "execution_count": 28,
      "outputs": [
        {
          "output_type": "execute_result",
          "data": {
            "text/plain": [
              "1"
            ]
          },
          "metadata": {
            "tags": []
          },
          "execution_count": 28
        }
      ]
    },
    {
      "cell_type": "code",
      "metadata": {
        "id": "FrfeOsoo3Q4l",
        "colab_type": "code",
        "colab": {
          "base_uri": "https://localhost:8080/",
          "height": 35
        },
        "outputId": "fe95671f-9bc5-46bf-f38a-54e759c2c96e"
      },
      "source": [
        "arr[1]"
      ],
      "execution_count": 29,
      "outputs": [
        {
          "output_type": "execute_result",
          "data": {
            "text/plain": [
              "2"
            ]
          },
          "metadata": {
            "tags": []
          },
          "execution_count": 29
        }
      ]
    },
    {
      "cell_type": "code",
      "metadata": {
        "id": "_srRYMM07qUD",
        "colab_type": "code",
        "colab": {}
      },
      "source": [
        "for i in range(1000):\n",
        "  arr.append(54)"
      ],
      "execution_count": 0,
      "outputs": []
    },
    {
      "cell_type": "code",
      "metadata": {
        "id": "NnCxwM5y7im2",
        "colab_type": "code",
        "colab": {}
      },
      "source": [
        "import sys"
      ],
      "execution_count": 0,
      "outputs": []
    },
    {
      "cell_type": "code",
      "metadata": {
        "id": "-7qYa8JL7k9t",
        "colab_type": "code",
        "colab": {
          "base_uri": "https://localhost:8080/",
          "height": 35
        },
        "outputId": "f89ea739-b92f-4c2d-e99e-d0d20ecc6500"
      },
      "source": [
        "sys.getsizeof(arr)"
      ],
      "execution_count": 44,
      "outputs": [
        {
          "output_type": "execute_result",
          "data": {
            "text/plain": [
              "56"
            ]
          },
          "metadata": {
            "tags": []
          },
          "execution_count": 44
        }
      ]
    },
    {
      "cell_type": "code",
      "metadata": {
        "id": "QQUnzWhY7kx9",
        "colab_type": "code",
        "colab": {
          "base_uri": "https://localhost:8080/",
          "height": 35
        },
        "outputId": "77ffc6bb-113e-43dd-e472-6c2c186cf8dc"
      },
      "source": [
        "sys.getsizeof(arr1)"
      ],
      "execution_count": 45,
      "outputs": [
        {
          "output_type": "execute_result",
          "data": {
            "text/plain": [
              "56"
            ]
          },
          "metadata": {
            "tags": []
          },
          "execution_count": 45
        }
      ]
    },
    {
      "cell_type": "markdown",
      "metadata": {
        "id": "ffytUDDe3Q4s",
        "colab_type": "text"
      },
      "source": [
        "Awesome, we made our own dynamic array! Play around with it and see how it auto-resizes. Try using the same **sys.getsizeof()** function we worked with previously!"
      ]
    },
    {
      "cell_type": "markdown",
      "metadata": {
        "id": "avmdhyoq3Q4u",
        "colab_type": "text"
      },
      "source": [
        "# Great Job!"
      ]
    }
  ]
}