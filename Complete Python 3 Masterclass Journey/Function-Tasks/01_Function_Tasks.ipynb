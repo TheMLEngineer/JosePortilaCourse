{
  "nbformat": 4,
  "nbformat_minor": 0,
  "metadata": {
    "kernelspec": {
      "display_name": "Python 3",
      "language": "python",
      "name": "python3"
    },
    "language_info": {
      "codemirror_mode": {
        "name": "ipython",
        "version": 3
      },
      "file_extension": ".py",
      "mimetype": "text/x-python",
      "name": "python",
      "nbconvert_exporter": "python",
      "pygments_lexer": "ipython3",
      "version": "3.6.1"
    },
    "colab": {
      "name": "01-Function-Tasks.ipynb",
      "provenance": [],
      "collapsed_sections": []
    }
  },
  "cells": [
    {
      "cell_type": "markdown",
      "metadata": {
        "collapsed": true,
        "id": "AJ4cv4XJAIss",
        "colab_type": "text"
      },
      "source": [
        "# Function Tasks \n",
        "\n",
        "\n",
        "Welcome Recruit! Let's see if you can solve these word problems by creating functions. The function \"skeleton\" has been set up for you to fill in below the problem description, as well as example outputs of what the function should return given certain inputs. Best of luck, some of these will be challenging! \n",
        "\n",
        "The tasks will start off easy and proceed to get harder and harder."
      ]
    },
    {
      "cell_type": "markdown",
      "metadata": {
        "id": "tEvWL1FoAIs0",
        "colab_type": "text"
      },
      "source": [
        "## Task 1\n",
        "\n",
        "**Create a function that takes in two integers and returns True if their sum is 10, False if their sum is something else.**"
      ]
    },
    {
      "cell_type": "code",
      "metadata": {
        "id": "Xf_mGOHnAIs8",
        "colab_type": "code",
        "colab": {}
      },
      "source": [
        "def check_ten(n1,n2):\n",
        "    # Code Here\n",
        "    return n1 + n2 == 10"
      ],
      "execution_count": 0,
      "outputs": []
    },
    {
      "cell_type": "code",
      "metadata": {
        "id": "-jmOXBGMAItJ",
        "colab_type": "code",
        "colab": {}
      },
      "source": [
        "# Example Inputs and Outputs:"
      ],
      "execution_count": 0,
      "outputs": []
    },
    {
      "cell_type": "code",
      "metadata": {
        "id": "9MlxBZLbAItT",
        "colab_type": "code",
        "colab": {
          "base_uri": "https://localhost:8080/",
          "height": 35
        },
        "outputId": "4ba4bbaf-b418-4a86-e5d1-1d322602339f"
      },
      "source": [
        "check_ten(10,0)"
      ],
      "execution_count": 77,
      "outputs": [
        {
          "output_type": "execute_result",
          "data": {
            "text/plain": [
              "True"
            ]
          },
          "metadata": {
            "tags": []
          },
          "execution_count": 77
        }
      ]
    },
    {
      "cell_type": "code",
      "metadata": {
        "id": "Cj37q1oRAItd",
        "colab_type": "code",
        "colab": {
          "base_uri": "https://localhost:8080/",
          "height": 35
        },
        "outputId": "dcfaf2be-45bf-44e2-838b-6e1c0adc97df"
      },
      "source": [
        "check_ten(5,5)"
      ],
      "execution_count": 78,
      "outputs": [
        {
          "output_type": "execute_result",
          "data": {
            "text/plain": [
              "True"
            ]
          },
          "metadata": {
            "tags": []
          },
          "execution_count": 78
        }
      ]
    },
    {
      "cell_type": "code",
      "metadata": {
        "id": "sF7eZelZAItl",
        "colab_type": "code",
        "colab": {
          "base_uri": "https://localhost:8080/",
          "height": 35
        },
        "outputId": "7f97c509-3f93-41d2-f568-682da0e8127c"
      },
      "source": [
        "check_ten(2,7)"
      ],
      "execution_count": 79,
      "outputs": [
        {
          "output_type": "execute_result",
          "data": {
            "text/plain": [
              "False"
            ]
          },
          "metadata": {
            "tags": []
          },
          "execution_count": 79
        }
      ]
    },
    {
      "cell_type": "markdown",
      "metadata": {
        "id": "6R8cTaVYAIts",
        "colab_type": "text"
      },
      "source": [
        "## Task 2\n",
        "\n",
        "**Create a function that takes in two integers and returns True if their sum is 10, otherwise, return the actual sum value.**"
      ]
    },
    {
      "cell_type": "code",
      "metadata": {
        "id": "tzv3RZztAItt",
        "colab_type": "code",
        "colab": {}
      },
      "source": [
        "def check_ten_sum(n1,n2):\n",
        "    # Code Here\n",
        "    return (n1 + n2) if n1 + n2 != 10 else n1+n2 == 10"
      ],
      "execution_count": 0,
      "outputs": []
    },
    {
      "cell_type": "code",
      "metadata": {
        "id": "nwR3LrGRAIt1",
        "colab_type": "code",
        "colab": {
          "base_uri": "https://localhost:8080/",
          "height": 35
        },
        "outputId": "4aa82775-1eac-44ce-e642-c20ce601c0c1"
      },
      "source": [
        "# Example Inputs and Outputs:\n",
        "check_ten_sum(5,5)"
      ],
      "execution_count": 81,
      "outputs": [
        {
          "output_type": "execute_result",
          "data": {
            "text/plain": [
              "True"
            ]
          },
          "metadata": {
            "tags": []
          },
          "execution_count": 81
        }
      ]
    },
    {
      "cell_type": "code",
      "metadata": {
        "id": "6o4M4-8EAIt_",
        "colab_type": "code",
        "colab": {
          "base_uri": "https://localhost:8080/",
          "height": 35
        },
        "outputId": "2010796e-e642-4240-e0a2-a27c9d751188"
      },
      "source": [
        "check_ten_sum(10,0)"
      ],
      "execution_count": 82,
      "outputs": [
        {
          "output_type": "execute_result",
          "data": {
            "text/plain": [
              "True"
            ]
          },
          "metadata": {
            "tags": []
          },
          "execution_count": 82
        }
      ]
    },
    {
      "cell_type": "code",
      "metadata": {
        "id": "VZRgaMq4AIuG",
        "colab_type": "code",
        "colab": {
          "base_uri": "https://localhost:8080/",
          "height": 35
        },
        "outputId": "210729e6-a28c-416e-e396-db2c13960e4e"
      },
      "source": [
        "check_ten_sum(2,7)"
      ],
      "execution_count": 83,
      "outputs": [
        {
          "output_type": "execute_result",
          "data": {
            "text/plain": [
              "9"
            ]
          },
          "metadata": {
            "tags": []
          },
          "execution_count": 83
        }
      ]
    },
    {
      "cell_type": "markdown",
      "metadata": {
        "id": "DG1UiRT0AIuN",
        "colab_type": "text"
      },
      "source": [
        "## Task 3\n",
        "\n",
        "Create a function that takes in a string and returns back the first character of that string in upper case."
      ]
    },
    {
      "cell_type": "code",
      "metadata": {
        "id": "r9EPBkfZAIuR",
        "colab_type": "code",
        "colab": {}
      },
      "source": [
        "def first_upper(mystring):\n",
        "    # Code Here\n",
        "    return mystring[0].upper()"
      ],
      "execution_count": 0,
      "outputs": []
    },
    {
      "cell_type": "code",
      "metadata": {
        "id": "M_gSZQWTAIuX",
        "colab_type": "code",
        "colab": {}
      },
      "source": [
        "# Example Inputs and Outputs:"
      ],
      "execution_count": 0,
      "outputs": []
    },
    {
      "cell_type": "code",
      "metadata": {
        "id": "UZ1ctxaPAIue",
        "colab_type": "code",
        "colab": {
          "base_uri": "https://localhost:8080/",
          "height": 35
        },
        "outputId": "f43612c4-29a1-4a39-8372-18e5b5b37ab4"
      },
      "source": [
        "first_upper('hello')"
      ],
      "execution_count": 86,
      "outputs": [
        {
          "output_type": "execute_result",
          "data": {
            "text/plain": [
              "'H'"
            ]
          },
          "metadata": {
            "tags": []
          },
          "execution_count": 86
        }
      ]
    },
    {
      "cell_type": "code",
      "metadata": {
        "id": "OkXbjLguAIuk",
        "colab_type": "code",
        "colab": {
          "base_uri": "https://localhost:8080/",
          "height": 35
        },
        "outputId": "45e41b5f-19b9-4d9c-a01a-531b87233fdb"
      },
      "source": [
        "first_upper('agent')"
      ],
      "execution_count": 87,
      "outputs": [
        {
          "output_type": "execute_result",
          "data": {
            "text/plain": [
              "'A'"
            ]
          },
          "metadata": {
            "tags": []
          },
          "execution_count": 87
        }
      ]
    },
    {
      "cell_type": "markdown",
      "metadata": {
        "id": "wVL4PPZpAIur",
        "colab_type": "text"
      },
      "source": [
        "## Task 4\n",
        "\n",
        "**Create a function that takes in a string and returns the last two characters. If there are less than two chracters, return the string:  \"Error\". [Use this link if you need help/hint.](https://stackoverflow.com/questions/7983820/get-the-last-4-characters-of-a-string)**"
      ]
    },
    {
      "cell_type": "code",
      "metadata": {
        "id": "kKqfygdWAIut",
        "colab_type": "code",
        "colab": {}
      },
      "source": [
        "def last_two(mystring):\n",
        "    # Code Here\n",
        "    return mystring[-2:] if len(mystring) >= 2 else 'Error'"
      ],
      "execution_count": 0,
      "outputs": []
    },
    {
      "cell_type": "code",
      "metadata": {
        "id": "0dNfKF5lAIuy",
        "colab_type": "code",
        "colab": {}
      },
      "source": [
        "# Example Inputs and Outputs:"
      ],
      "execution_count": 0,
      "outputs": []
    },
    {
      "cell_type": "code",
      "metadata": {
        "id": "QoJOKgVTAIu5",
        "colab_type": "code",
        "colab": {
          "base_uri": "https://localhost:8080/",
          "height": 35
        },
        "outputId": "74dd1b02-7782-4102-9202-e022b6ea5978"
      },
      "source": [
        "last_two('hello')"
      ],
      "execution_count": 90,
      "outputs": [
        {
          "output_type": "execute_result",
          "data": {
            "text/plain": [
              "'lo'"
            ]
          },
          "metadata": {
            "tags": []
          },
          "execution_count": 90
        }
      ]
    },
    {
      "cell_type": "code",
      "metadata": {
        "id": "GkKT_JuFAIu-",
        "colab_type": "code",
        "colab": {
          "base_uri": "https://localhost:8080/",
          "height": 35
        },
        "outputId": "f2ff1be4-d5d8-440b-b1a8-7148a6982928"
      },
      "source": [
        "last_two('hi')"
      ],
      "execution_count": 91,
      "outputs": [
        {
          "output_type": "execute_result",
          "data": {
            "text/plain": [
              "'hi'"
            ]
          },
          "metadata": {
            "tags": []
          },
          "execution_count": 91
        }
      ]
    },
    {
      "cell_type": "code",
      "metadata": {
        "id": "3e4_XdpyAIvE",
        "colab_type": "code",
        "colab": {
          "base_uri": "https://localhost:8080/",
          "height": 35
        },
        "outputId": "e58a173c-b43a-4ba1-c361-22027d72829d"
      },
      "source": [
        "last_two('a')"
      ],
      "execution_count": 92,
      "outputs": [
        {
          "output_type": "execute_result",
          "data": {
            "text/plain": [
              "'Error'"
            ]
          },
          "metadata": {
            "tags": []
          },
          "execution_count": 92
        }
      ]
    },
    {
      "cell_type": "markdown",
      "metadata": {
        "id": "IAS_EQ-zAIvJ",
        "colab_type": "text"
      },
      "source": [
        "## Task 5\n",
        "\n",
        "**Given a list of integers, return True if the sequence [1,2,3] is somewhere in the list. Hint: Use slicing and a for loop.**"
      ]
    },
    {
      "cell_type": "code",
      "metadata": {
        "id": "qiPVdtD8AIvL",
        "colab_type": "code",
        "colab": {}
      },
      "source": [
        "def seq_check(nums):\n",
        "    \n",
        "    # Code here\n",
        "    output = None\n",
        "    for index , value in enumerate(nums):\n",
        "      if nums[index : index+3] == [1,2,3]:\n",
        "        output = True\n",
        "        break\n",
        "      else:\n",
        "        output = False\n",
        "    return output"
      ],
      "execution_count": 0,
      "outputs": []
    },
    {
      "cell_type": "code",
      "metadata": {
        "id": "oq9lsX1cAIvR",
        "colab_type": "code",
        "colab": {}
      },
      "source": [
        "# Example Inputs and Outputs:"
      ],
      "execution_count": 0,
      "outputs": []
    },
    {
      "cell_type": "code",
      "metadata": {
        "id": "ybsQdlNPAIvV",
        "colab_type": "code",
        "colab": {
          "base_uri": "https://localhost:8080/",
          "height": 35
        },
        "outputId": "f5ef9c4e-d207-4345-8f7d-a496be628a96"
      },
      "source": [
        "seq_check([1,2,3])"
      ],
      "execution_count": 95,
      "outputs": [
        {
          "output_type": "execute_result",
          "data": {
            "text/plain": [
              "True"
            ]
          },
          "metadata": {
            "tags": []
          },
          "execution_count": 95
        }
      ]
    },
    {
      "cell_type": "code",
      "metadata": {
        "id": "wdLDuRBGAIvd",
        "colab_type": "code",
        "colab": {
          "base_uri": "https://localhost:8080/",
          "height": 35
        },
        "outputId": "57e65e80-e749-4898-ebfb-70d55852cdaa"
      },
      "source": [
        "seq_check([7,7,7,1,2,3,7,7,7])"
      ],
      "execution_count": 96,
      "outputs": [
        {
          "output_type": "execute_result",
          "data": {
            "text/plain": [
              "True"
            ]
          },
          "metadata": {
            "tags": []
          },
          "execution_count": 96
        }
      ]
    },
    {
      "cell_type": "code",
      "metadata": {
        "id": "j0_3TkW8AIvh",
        "colab_type": "code",
        "colab": {
          "base_uri": "https://localhost:8080/",
          "height": 35
        },
        "outputId": "49aca67e-575c-416c-c615-45eabdfa8810"
      },
      "source": [
        "seq_check([3,2,1,3,2,1,1,1,2,2,3,3,3])"
      ],
      "execution_count": 97,
      "outputs": [
        {
          "output_type": "execute_result",
          "data": {
            "text/plain": [
              "False"
            ]
          },
          "metadata": {
            "tags": []
          },
          "execution_count": 97
        }
      ]
    },
    {
      "cell_type": "markdown",
      "metadata": {
        "collapsed": true,
        "id": "0ckRvUk2AIvk",
        "colab_type": "text"
      },
      "source": [
        "## Task 6\n",
        "\n",
        "**Given a 2 strings, create a function that returns the difference in length between them. This difference in length should always be a positive number (or just 0). Hint: Absolute Value.**"
      ]
    },
    {
      "cell_type": "code",
      "metadata": {
        "id": "ej6dffpBAIvm",
        "colab_type": "code",
        "colab": {}
      },
      "source": [
        "def compare_len(s1,s2):\n",
        "    # Code Here\n",
        "    return abs(len(s1) - len(s2))"
      ],
      "execution_count": 0,
      "outputs": []
    },
    {
      "cell_type": "code",
      "metadata": {
        "id": "62TbCAyeAIvs",
        "colab_type": "code",
        "colab": {}
      },
      "source": [
        "# Example Inputs and Outputs:"
      ],
      "execution_count": 0,
      "outputs": []
    },
    {
      "cell_type": "code",
      "metadata": {
        "id": "XW-BexzgAIvy",
        "colab_type": "code",
        "colab": {
          "base_uri": "https://localhost:8080/",
          "height": 35
        },
        "outputId": "0745f6c5-2fb1-4606-b112-6c6c46ddc66f"
      },
      "source": [
        "compare_len('aa','aa')"
      ],
      "execution_count": 100,
      "outputs": [
        {
          "output_type": "execute_result",
          "data": {
            "text/plain": [
              "0"
            ]
          },
          "metadata": {
            "tags": []
          },
          "execution_count": 100
        }
      ]
    },
    {
      "cell_type": "code",
      "metadata": {
        "id": "kRf-14N6AIv4",
        "colab_type": "code",
        "colab": {
          "base_uri": "https://localhost:8080/",
          "height": 35
        },
        "outputId": "f62b97a2-df4f-47db-d1e4-e941e51ba27d"
      },
      "source": [
        "compare_len('a','bb')"
      ],
      "execution_count": 101,
      "outputs": [
        {
          "output_type": "execute_result",
          "data": {
            "text/plain": [
              "1"
            ]
          },
          "metadata": {
            "tags": []
          },
          "execution_count": 101
        }
      ]
    },
    {
      "cell_type": "code",
      "metadata": {
        "id": "oHMsOW1EAIv7",
        "colab_type": "code",
        "colab": {
          "base_uri": "https://localhost:8080/",
          "height": 35
        },
        "outputId": "6de08cff-a4bd-4777-9540-21d0f6f09bfd"
      },
      "source": [
        "compare_len('bb','a')"
      ],
      "execution_count": 102,
      "outputs": [
        {
          "output_type": "execute_result",
          "data": {
            "text/plain": [
              "1"
            ]
          },
          "metadata": {
            "tags": []
          },
          "execution_count": 102
        }
      ]
    },
    {
      "cell_type": "markdown",
      "metadata": {
        "id": "wdAgxz1VAIv_",
        "colab_type": "text"
      },
      "source": [
        "## Task 7\n",
        "\n",
        "**Given a list of integers, if the length of the list is an even number, return the sum of the list. If the length of the list is odd, return the max value in that list.**"
      ]
    },
    {
      "cell_type": "code",
      "metadata": {
        "id": "ij6DM3-VAIwB",
        "colab_type": "code",
        "colab": {}
      },
      "source": [
        "def sum_or_max(mylist):\n",
        "    \n",
        "    # Code Here\n",
        "    return sum(mylist) if len(mylist) %2 ==0 else max(mylist)"
      ],
      "execution_count": 0,
      "outputs": []
    },
    {
      "cell_type": "code",
      "metadata": {
        "id": "xLOnaeleAIwE",
        "colab_type": "code",
        "colab": {}
      },
      "source": [
        "# Example Inputs and Outputs:"
      ],
      "execution_count": 0,
      "outputs": []
    },
    {
      "cell_type": "code",
      "metadata": {
        "id": "h0QeTDbvAIwI",
        "colab_type": "code",
        "colab": {
          "base_uri": "https://localhost:8080/",
          "height": 35
        },
        "outputId": "96c1f126-e354-4c33-d308-fadb568fd596"
      },
      "source": [
        "sum_or_max([1,2,3])"
      ],
      "execution_count": 105,
      "outputs": [
        {
          "output_type": "execute_result",
          "data": {
            "text/plain": [
              "3"
            ]
          },
          "metadata": {
            "tags": []
          },
          "execution_count": 105
        }
      ]
    },
    {
      "cell_type": "code",
      "metadata": {
        "id": "YUOLdnn8AIwN",
        "colab_type": "code",
        "colab": {
          "base_uri": "https://localhost:8080/",
          "height": 35
        },
        "outputId": "0833f8ce-b3a8-4524-9b5a-6b08b058fe83"
      },
      "source": [
        "sum_or_max([0,1,2,3])"
      ],
      "execution_count": 106,
      "outputs": [
        {
          "output_type": "execute_result",
          "data": {
            "text/plain": [
              "6"
            ]
          },
          "metadata": {
            "tags": []
          },
          "execution_count": 106
        }
      ]
    },
    {
      "cell_type": "markdown",
      "metadata": {
        "id": "1EAfkYyUAIwS",
        "colab_type": "text"
      },
      "source": [
        "## Task 8\n",
        "\n",
        "**Agents in the field sometimes need to speak in code. Create a function that takes in a string name (e.g. \"James\", \"Cindy\", etc...) and replaces all vowels with the letter x. For our purposes, consider these letters as vowels: [a,e,i,o,u]). Then switch the position of the first and last letters.**\n",
        "\n",
        "**This task is challenging, break it down into multiple pieces.**"
      ]
    },
    {
      "cell_type": "code",
      "metadata": {
        "id": "IyyYjCVTAIwT",
        "colab_type": "code",
        "colab": {}
      },
      "source": [
        "def replace_and_switch(name):\n",
        "    \n",
        "    # Code Here\n",
        "    output = list(name)\n",
        "    for index , value in enumerate(list(name)):\n",
        "      if name[index].lower() in ['a' , 'e' , 'i' , 'o' ,'u']:\n",
        "        output[index] = 'x'\n",
        "    temp_first , temp_last = output[::-1][0] , output[::-1][-1] \n",
        "    output[0] = temp_first\n",
        "    output[-1] = temp_last\n",
        "    return ''.join(output)\n",
        "    #print(temp_first , temp_last)"
      ],
      "execution_count": 0,
      "outputs": []
    },
    {
      "cell_type": "code",
      "metadata": {
        "id": "lnHgU8XlAIwW",
        "colab_type": "code",
        "colab": {
          "base_uri": "https://localhost:8080/",
          "height": 35
        },
        "outputId": "910a8694-17e6-4002-e864-ec308ec129a4"
      },
      "source": [
        "# Example Inputs and Outputs:\n",
        "replace_and_switch('aa')"
      ],
      "execution_count": 108,
      "outputs": [
        {
          "output_type": "execute_result",
          "data": {
            "text/plain": [
              "'xx'"
            ]
          },
          "metadata": {
            "tags": []
          },
          "execution_count": 108
        }
      ]
    },
    {
      "cell_type": "code",
      "metadata": {
        "id": "69tu-E0hAIwa",
        "colab_type": "code",
        "colab": {
          "base_uri": "https://localhost:8080/",
          "height": 35
        },
        "outputId": "567a8c63-9199-4891-f32a-1bd32faf436e"
      },
      "source": [
        "replace_and_switch('James')"
      ],
      "execution_count": 109,
      "outputs": [
        {
          "output_type": "execute_result",
          "data": {
            "text/plain": [
              "'sxmxJ'"
            ]
          },
          "metadata": {
            "tags": []
          },
          "execution_count": 109
        }
      ]
    },
    {
      "cell_type": "code",
      "metadata": {
        "id": "zfGBQl9LAIwc",
        "colab_type": "code",
        "colab": {
          "base_uri": "https://localhost:8080/",
          "height": 35
        },
        "outputId": "7d6fdbca-dc47-497e-9889-3db8f395218f"
      },
      "source": [
        "replace_and_switch('Cindy')"
      ],
      "execution_count": 110,
      "outputs": [
        {
          "output_type": "execute_result",
          "data": {
            "text/plain": [
              "'yxndC'"
            ]
          },
          "metadata": {
            "tags": []
          },
          "execution_count": 110
        }
      ]
    },
    {
      "cell_type": "code",
      "metadata": {
        "id": "7EH6C3DOAIwf",
        "colab_type": "code",
        "colab": {
          "base_uri": "https://localhost:8080/",
          "height": 35
        },
        "outputId": "d4ecaefa-0720-4a86-b2ee-06ab3a61e8ac"
      },
      "source": [
        "replace_and_switch(\"Alfred\")"
      ],
      "execution_count": 111,
      "outputs": [
        {
          "output_type": "execute_result",
          "data": {
            "text/plain": [
              "'dlfrxx'"
            ]
          },
          "metadata": {
            "tags": []
          },
          "execution_count": 111
        }
      ]
    },
    {
      "cell_type": "markdown",
      "metadata": {
        "id": "1QLeQI7-AIwn",
        "colab_type": "text"
      },
      "source": [
        "Excellent work recruit! Later on you will be able to combine multiple functions to create large working pieces of code that accomplish complex tasks!"
      ]
    }
  ]
}