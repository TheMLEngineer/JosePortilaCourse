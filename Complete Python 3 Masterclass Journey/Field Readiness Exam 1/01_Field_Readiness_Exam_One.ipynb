{
  "nbformat": 4,
  "nbformat_minor": 0,
  "metadata": {
    "kernelspec": {
      "display_name": "Python 3",
      "language": "python",
      "name": "python3"
    },
    "language_info": {
      "codemirror_mode": {
        "name": "ipython",
        "version": 3
      },
      "file_extension": ".py",
      "mimetype": "text/x-python",
      "name": "python",
      "nbconvert_exporter": "python",
      "pygments_lexer": "ipython3",
      "version": "3.6.1"
    },
    "colab": {
      "name": "01-Field-Readiness-Exam-One.ipynb",
      "provenance": [],
      "collapsed_sections": []
    }
  },
  "cells": [
    {
      "cell_type": "markdown",
      "metadata": {
        "id": "CldILtGaZSvi",
        "colab_type": "text"
      },
      "source": [
        "# Field Readiness Exam\n",
        "\n",
        "** Welcome to your first FRE - Field Readiness Exam Recruit! This is where we test your skills to see if you qualify to become a full field agent. Complete the tasks below to the best of your ability. Immediately after this we will go over the solutions and check your performance. **\n",
        "_______"
      ]
    },
    {
      "cell_type": "markdown",
      "metadata": {
        "id": "I6ogLIRaZSvn",
        "colab_type": "text"
      },
      "source": [
        "### Task 1\n",
        "\n",
        "**Open the exam.txt file with Python and with only read permission and store the contents in a list called exam_lines**"
      ]
    },
    {
      "cell_type": "code",
      "metadata": {
        "id": "R4R3ZNvLbY8E",
        "colab_type": "code",
        "colab": {
          "base_uri": "https://localhost:8080/",
          "height": 129
        },
        "outputId": "1aa92241-a121-46ed-bf6f-fabc27686518"
      },
      "source": [
        "from google.colab import drive\n",
        "drive.mount('/content/drive')"
      ],
      "execution_count": 1,
      "outputs": [
        {
          "output_type": "stream",
          "text": [
            "Go to this URL in a browser: https://accounts.google.com/o/oauth2/auth?client_id=947318989803-6bn6qk8qdgf4n4g3pfee6491hc0brc4i.apps.googleusercontent.com&redirect_uri=urn%3aietf%3awg%3aoauth%3a2.0%3aoob&response_type=code&scope=email%20https%3a%2f%2fwww.googleapis.com%2fauth%2fdocs.test%20https%3a%2f%2fwww.googleapis.com%2fauth%2fdrive%20https%3a%2f%2fwww.googleapis.com%2fauth%2fdrive.photos.readonly%20https%3a%2f%2fwww.googleapis.com%2fauth%2fpeopleapi.readonly\n",
            "\n",
            "Enter your authorization code:\n",
            "··········\n",
            "Mounted at /content/drive\n"
          ],
          "name": "stdout"
        }
      ]
    },
    {
      "cell_type": "code",
      "metadata": {
        "id": "64BpwI78ZSvs",
        "colab_type": "code",
        "colab": {
          "base_uri": "https://localhost:8080/",
          "height": 146
        },
        "outputId": "b5045a5c-0a5b-45b2-e12b-d04e4a7d0894"
      },
      "source": [
        "# Code Here\n",
        "\n",
        "f = open('/content/drive/My Drive/Colab Notebooks/Udemy/Python-Narrative-Journey-master/02-Field-Readiness-Exam-1/exam.txt')\n",
        "a = f.readlines()\n",
        "a"
      ],
      "execution_count": 3,
      "outputs": [
        {
          "output_type": "execute_result",
          "data": {
            "text/plain": [
              "['Welcome to your First Exam Recruit.\\n',\n",
              " 'Only the best recruits can become agents.\\n',\n",
              " 'Do you have what it takes?\\n',\n",
              " 'We will test your knowledge with this field readiness exam.\\n',\n",
              " 'It should be pretty simple, since you only know the basics so far.\\n',\n",
              " \"Let's get started.\\n\",\n",
              " 'Best of luck recruit.']"
            ]
          },
          "metadata": {
            "tags": []
          },
          "execution_count": 3
        }
      ]
    },
    {
      "cell_type": "markdown",
      "metadata": {
        "id": "ZPga0yjKZSwE",
        "colab_type": "text"
      },
      "source": [
        "### Task 2\n",
        "\n",
        "How many lines does this file have?"
      ]
    },
    {
      "cell_type": "code",
      "metadata": {
        "id": "1Lq1MMCPZSwG",
        "colab_type": "code",
        "colab": {
          "base_uri": "https://localhost:8080/",
          "height": 35
        },
        "outputId": "16e84eb4-d43a-4b46-d2c0-dbca140b0496"
      },
      "source": [
        "len(a)"
      ],
      "execution_count": 4,
      "outputs": [
        {
          "output_type": "execute_result",
          "data": {
            "text/plain": [
              "7"
            ]
          },
          "metadata": {
            "tags": []
          },
          "execution_count": 4
        }
      ]
    },
    {
      "cell_type": "markdown",
      "metadata": {
        "id": "wAHL0QPcZSwY",
        "colab_type": "text"
      },
      "source": [
        "### Task 3\n",
        "\n",
        "Print out the 5th line of the text file."
      ]
    },
    {
      "cell_type": "code",
      "metadata": {
        "id": "fvPV__TCZSwa",
        "colab_type": "code",
        "colab": {
          "base_uri": "https://localhost:8080/",
          "height": 54
        },
        "outputId": "c7c030e8-ce96-45bd-bbcf-b00464a3c203"
      },
      "source": [
        "print(a[4])"
      ],
      "execution_count": 6,
      "outputs": [
        {
          "output_type": "stream",
          "text": [
            "It should be pretty simple, since you only know the basics so far.\n",
            "\n"
          ],
          "name": "stdout"
        }
      ]
    },
    {
      "cell_type": "markdown",
      "metadata": {
        "id": "_xdEhW_xZSwo",
        "colab_type": "text"
      },
      "source": [
        "### Task 4\n",
        "\n",
        "Grab the last line of the text file and save it to a variable called last."
      ]
    },
    {
      "cell_type": "code",
      "metadata": {
        "id": "lOOTWyKZZSwq",
        "colab_type": "code",
        "colab": {
          "base_uri": "https://localhost:8080/",
          "height": 35
        },
        "outputId": "bf1db962-cc39-48ad-d85c-81f041c0a4ad"
      },
      "source": [
        "last = a[-1]\n",
        "last"
      ],
      "execution_count": 7,
      "outputs": [
        {
          "output_type": "execute_result",
          "data": {
            "text/plain": [
              "'Best of luck recruit.'"
            ]
          },
          "metadata": {
            "tags": []
          },
          "execution_count": 7
        }
      ]
    },
    {
      "cell_type": "markdown",
      "metadata": {
        "id": "M5kGxodXZSw5",
        "colab_type": "text"
      },
      "source": [
        "### Task 5\n",
        "\n",
        "Use indexing to grab the letter 'o' from the last line of the file."
      ]
    },
    {
      "cell_type": "code",
      "metadata": {
        "id": "LLGf0Xf4ZSw8",
        "colab_type": "code",
        "colab": {
          "base_uri": "https://localhost:8080/",
          "height": 35
        },
        "outputId": "13688463-86d8-4fcf-bab7-e446bdb9caea"
      },
      "source": [
        "last[5]"
      ],
      "execution_count": 8,
      "outputs": [
        {
          "output_type": "execute_result",
          "data": {
            "text/plain": [
              "'o'"
            ]
          },
          "metadata": {
            "tags": []
          },
          "execution_count": 8
        }
      ]
    },
    {
      "cell_type": "markdown",
      "metadata": {
        "id": "JTkYtJYkZSxH",
        "colab_type": "text"
      },
      "source": [
        "### Task 6\n",
        "\n",
        "How could you use Python to count how many words there are in the last line?"
      ]
    },
    {
      "cell_type": "code",
      "metadata": {
        "id": "fkg-Zg7eZSxJ",
        "colab_type": "code",
        "colab": {
          "base_uri": "https://localhost:8080/",
          "height": 35
        },
        "outputId": "19033845-ba0e-4c5f-fd6a-50c960d6eca3"
      },
      "source": [
        "len(last.split())"
      ],
      "execution_count": 10,
      "outputs": [
        {
          "output_type": "execute_result",
          "data": {
            "text/plain": [
              "4"
            ]
          },
          "metadata": {
            "tags": []
          },
          "execution_count": 10
        }
      ]
    },
    {
      "cell_type": "markdown",
      "metadata": {
        "id": "nE1SdWhPZSxY",
        "colab_type": "text"
      },
      "source": [
        "### Task 7\n",
        "\n",
        "What data types are returned by the following lines of code:\n",
        "\n",
        "    1.)  2/3\n",
        "    2.)  2 + 2.0\n",
        "    3.)  1 + 1\n",
        "    4.)  \"2\" + \"2\"\n",
        "    5.)  1 > 2\n",
        "    \n",
        "Try to do these in your head before checking by running the code in python."
      ]
    },
    {
      "cell_type": "code",
      "metadata": {
        "id": "7KRbwQ6xZSxa",
        "colab_type": "code",
        "colab": {}
      },
      "source": [
        "# No need to write down your answers, just use this cell to self check is necessary."
      ],
      "execution_count": 0,
      "outputs": []
    },
    {
      "cell_type": "code",
      "metadata": {
        "id": "5Dz1LvaZcQEO",
        "colab_type": "code",
        "colab": {
          "base_uri": "https://localhost:8080/",
          "height": 35
        },
        "outputId": "a0b7a802-2404-40d9-f186-f777858e94a5"
      },
      "source": [
        "2/3"
      ],
      "execution_count": 11,
      "outputs": [
        {
          "output_type": "execute_result",
          "data": {
            "text/plain": [
              "0.6666666666666666"
            ]
          },
          "metadata": {
            "tags": []
          },
          "execution_count": 11
        }
      ]
    },
    {
      "cell_type": "code",
      "metadata": {
        "id": "Z4GndHROcP7o",
        "colab_type": "code",
        "colab": {
          "base_uri": "https://localhost:8080/",
          "height": 35
        },
        "outputId": "6e197753-8240-4a60-9df3-dd977c0efda4"
      },
      "source": [
        "2 + 2.0"
      ],
      "execution_count": 12,
      "outputs": [
        {
          "output_type": "execute_result",
          "data": {
            "text/plain": [
              "4.0"
            ]
          },
          "metadata": {
            "tags": []
          },
          "execution_count": 12
        }
      ]
    },
    {
      "cell_type": "code",
      "metadata": {
        "id": "lkSckv_kcPy8",
        "colab_type": "code",
        "colab": {
          "base_uri": "https://localhost:8080/",
          "height": 35
        },
        "outputId": "5ee5098f-ac12-4ea0-81fa-7ab108121bfc"
      },
      "source": [
        "1+1"
      ],
      "execution_count": 13,
      "outputs": [
        {
          "output_type": "execute_result",
          "data": {
            "text/plain": [
              "2"
            ]
          },
          "metadata": {
            "tags": []
          },
          "execution_count": 13
        }
      ]
    },
    {
      "cell_type": "code",
      "metadata": {
        "id": "z7tDtP2ucPpC",
        "colab_type": "code",
        "colab": {
          "base_uri": "https://localhost:8080/",
          "height": 35
        },
        "outputId": "72a49a6d-3d21-4725-f5fd-1ce5d1b43693"
      },
      "source": [
        "\"2\" + \"2\""
      ],
      "execution_count": 14,
      "outputs": [
        {
          "output_type": "execute_result",
          "data": {
            "text/plain": [
              "'22'"
            ]
          },
          "metadata": {
            "tags": []
          },
          "execution_count": 14
        }
      ]
    },
    {
      "cell_type": "code",
      "metadata": {
        "id": "Lf6D5TlZcVQo",
        "colab_type": "code",
        "colab": {
          "base_uri": "https://localhost:8080/",
          "height": 35
        },
        "outputId": "5b53ecba-2f38-4a2c-8071-4af9e7ca2728"
      },
      "source": [
        "1 > 2"
      ],
      "execution_count": 15,
      "outputs": [
        {
          "output_type": "execute_result",
          "data": {
            "text/plain": [
              "False"
            ]
          },
          "metadata": {
            "tags": []
          },
          "execution_count": 15
        }
      ]
    },
    {
      "cell_type": "markdown",
      "metadata": {
        "id": "tzsEsNXmZSxi",
        "colab_type": "text"
      },
      "source": [
        "### Task 8\n",
        "\n",
        "Let's check how well you understand indexing and key calls. Here we present to you a set of dictionaries and lists that are nested inside a single dictionary **d**. While this is an unrealistic representation of how you would use these data types in the field, this is just for practice:"
      ]
    },
    {
      "cell_type": "code",
      "metadata": {
        "id": "coOEdc96ZSxk",
        "colab_type": "code",
        "colab": {}
      },
      "source": [
        "d = {\"levelone\":[1,2,{'leveltwo':[5,6,[1,['get me please']]]}]}"
      ],
      "execution_count": 0,
      "outputs": []
    },
    {
      "cell_type": "markdown",
      "metadata": {
        "id": "vxpTQGGQZSxp",
        "colab_type": "text"
      },
      "source": [
        "Your task is to retrieve the string \"get me please\" from the dictionary with stacked index and key calls.\n",
        "\n",
        "Hint: Approach this step by step, slowly adding on more and more index calls. Recall that you can use .keys() to figure out what keys are in a  dictionary."
      ]
    },
    {
      "cell_type": "code",
      "metadata": {
        "id": "jT7aiZ1uZSxr",
        "colab_type": "code",
        "colab": {
          "base_uri": "https://localhost:8080/",
          "height": 35
        },
        "outputId": "9b05dc87-e0f8-4753-d514-6a79fa5f6002"
      },
      "source": [
        "d[\"levelone\"][-1]['leveltwo'][-1][-1][0]"
      ],
      "execution_count": 23,
      "outputs": [
        {
          "output_type": "execute_result",
          "data": {
            "text/plain": [
              "'get me please'"
            ]
          },
          "metadata": {
            "tags": []
          },
          "execution_count": 23
        }
      ]
    },
    {
      "cell_type": "markdown",
      "metadata": {
        "id": "wLVFHyPkZSx5",
        "colab_type": "text"
      },
      "source": [
        "### Bonus Task\n",
        "\n",
        "How many unique integers are in this list? (You will need to use a casting method we haven't shown you yet)"
      ]
    },
    {
      "cell_type": "code",
      "metadata": {
        "id": "MOq1-P5eZSx6",
        "colab_type": "code",
        "colab": {}
      },
      "source": [
        "mylist = [1,2,3,4,5,6,4,3,2,1,2,3,4,5,6,6,7,8,5,6,7,8,9,8,9,8,9,7,10,123,1,2,2,3,1,3,2,4,1,4,4,1,2,2,22,3,4,1,4,1]"
      ],
      "execution_count": 0,
      "outputs": []
    },
    {
      "cell_type": "code",
      "metadata": {
        "id": "W3urguMPZSx_",
        "colab_type": "code",
        "colab": {
          "base_uri": "https://localhost:8080/",
          "height": 35
        },
        "outputId": "7e51e7ca-6d11-48ee-cca3-a749a49fdd40"
      },
      "source": [
        "len(set(mylist))"
      ],
      "execution_count": 26,
      "outputs": [
        {
          "output_type": "execute_result",
          "data": {
            "text/plain": [
              "12"
            ]
          },
          "metadata": {
            "tags": []
          },
          "execution_count": 26
        }
      ]
    },
    {
      "cell_type": "markdown",
      "metadata": {
        "id": "RErZRAVxZSyL",
        "colab_type": "text"
      },
      "source": [
        "Excellent work recruit, now that you are done with the basics of data types and storage with Python, let's move on to learning about control flow with Python."
      ]
    }
  ]
}