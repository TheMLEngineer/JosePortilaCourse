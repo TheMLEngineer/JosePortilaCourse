{
 "cells": [
  {
   "cell_type": "markdown",
   "metadata": {
    "collapsed": true
   },
   "source": [
    "# Overview of Green Mission\n",
    "\n",
    "It seems like the email we obtained from the previous mission:\n",
    "\n",
    "    info@thegoldbugs.com\n",
    "    \n",
    "has been set to an auto-reply function that will reveal more information.\n",
    "\n",
    "Send an email to the address and use Python to see what the reply is.\n",
    "\n",
    "**Note: We expect that this email will probably send some sort of auto-reply with a reference link in HTML. Because of this, the content_type() may be 'text/html' instead of 'test/plain'. If you do get some text mixed with HTML code, try pasting the HTML code into a markdown cell in the jupyter notebook, it should be able to format the message correctly.**\n",
    "\n",
    "Best of luck agent!"
   ]
  },
  {
   "cell_type": "markdown",
   "metadata": {},
   "source": [
    "# Sending Mail"
   ]
  },
  {
   "cell_type": "code",
   "execution_count": 1,
   "metadata": {},
   "outputs": [],
   "source": [
    "import smtplib"
   ]
  },
  {
   "cell_type": "code",
   "execution_count": 2,
   "metadata": {},
   "outputs": [],
   "source": [
    "smtp_obj = smtplib.SMTP('smtp.gmail.com' , 587)"
   ]
  },
  {
   "cell_type": "code",
   "execution_count": 3,
   "metadata": {},
   "outputs": [
    {
     "data": {
      "text/plain": [
       "<smtplib.SMTP at 0x7f6a4c007cd0>"
      ]
     },
     "execution_count": 3,
     "metadata": {},
     "output_type": "execute_result"
    }
   ],
   "source": [
    "smtp_obj"
   ]
  },
  {
   "cell_type": "code",
   "execution_count": 4,
   "metadata": {},
   "outputs": [
    {
     "data": {
      "text/plain": [
       "(250,\n",
       " b'smtp.gmail.com at your service, [106.51.84.161]\\nSIZE 35882577\\n8BITMIME\\nSTARTTLS\\nENHANCEDSTATUSCODES\\nPIPELINING\\nCHUNKING\\nSMTPUTF8')"
      ]
     },
     "execution_count": 4,
     "metadata": {},
     "output_type": "execute_result"
    }
   ],
   "source": [
    "smtp_obj.ehlo()"
   ]
  },
  {
   "cell_type": "code",
   "execution_count": 5,
   "metadata": {},
   "outputs": [],
   "source": [
    "import getpass"
   ]
  },
  {
   "cell_type": "code",
   "execution_count": 6,
   "metadata": {},
   "outputs": [
    {
     "name": "stdout",
     "output_type": "stream",
     "text": [
      "Email : ········\n"
     ]
    }
   ],
   "source": [
    "email = getpass.getpass('Email : ')"
   ]
  },
  {
   "cell_type": "code",
   "execution_count": 7,
   "metadata": {},
   "outputs": [
    {
     "name": "stdout",
     "output_type": "stream",
     "text": [
      "Password : ········\n"
     ]
    }
   ],
   "source": [
    "password = getpass.getpass('Password : ')"
   ]
  },
  {
   "cell_type": "code",
   "execution_count": 8,
   "metadata": {},
   "outputs": [
    {
     "data": {
      "text/plain": [
       "(220, b'2.0.0 Ready to start TLS')"
      ]
     },
     "execution_count": 8,
     "metadata": {},
     "output_type": "execute_result"
    }
   ],
   "source": [
    "smtp_obj.starttls()"
   ]
  },
  {
   "cell_type": "code",
   "execution_count": 9,
   "metadata": {},
   "outputs": [
    {
     "data": {
      "text/plain": [
       "(235, b'2.7.0 Accepted')"
      ]
     },
     "execution_count": 9,
     "metadata": {},
     "output_type": "execute_result"
    }
   ],
   "source": [
    "smtp_obj.login(email , password)"
   ]
  },
  {
   "cell_type": "code",
   "execution_count": 13,
   "metadata": {},
   "outputs": [],
   "source": [
    "sender = email"
   ]
  },
  {
   "cell_type": "code",
   "execution_count": 14,
   "metadata": {},
   "outputs": [],
   "source": [
    "receiver = 'info@thegoldbugs.com'"
   ]
  },
  {
   "cell_type": "code",
   "execution_count": 15,
   "metadata": {},
   "outputs": [],
   "source": [
    "message = 'Subject : ' + 'Hello' + '\\n' + 'Green Mission overview'"
   ]
  },
  {
   "cell_type": "code",
   "execution_count": 16,
   "metadata": {},
   "outputs": [
    {
     "data": {
      "text/plain": [
       "{}"
      ]
     },
     "execution_count": 16,
     "metadata": {},
     "output_type": "execute_result"
    }
   ],
   "source": [
    "smtp_obj.sendmail(sender , receiver , message)"
   ]
  },
  {
   "cell_type": "markdown",
   "metadata": {},
   "source": [
    "# Reading Mail"
   ]
  },
  {
   "cell_type": "code",
   "execution_count": 17,
   "metadata": {},
   "outputs": [],
   "source": [
    "import imaplib"
   ]
  },
  {
   "cell_type": "code",
   "execution_count": 18,
   "metadata": {},
   "outputs": [],
   "source": [
    "M = imaplib.IMAP4_SSL('imap.gmail.com')"
   ]
  },
  {
   "cell_type": "code",
   "execution_count": 19,
   "metadata": {},
   "outputs": [
    {
     "data": {
      "text/plain": [
       "('OK', [b'phenomenalkarthikeyan@gmail.com authenticated (Success)'])"
      ]
     },
     "execution_count": 19,
     "metadata": {},
     "output_type": "execute_result"
    }
   ],
   "source": [
    "M.login(email , password)"
   ]
  },
  {
   "cell_type": "code",
   "execution_count": 20,
   "metadata": {},
   "outputs": [
    {
     "data": {
      "text/plain": [
       "('OK',\n",
       " [b'(\\\\HasNoChildren) \"/\" \"INBOX\"',\n",
       "  b'(\\\\HasNoChildren) \"/\" \"Lazy Programmer\"',\n",
       "  b'(\\\\HasNoChildren) \"/\" \"PyDataBanglore\"',\n",
       "  b'(\\\\HasNoChildren) \"/\" \"Udemy\"',\n",
       "  b'(\\\\HasChildren \\\\Noselect) \"/\" \"[Gmail]\"',\n",
       "  b'(\\\\All \\\\HasNoChildren) \"/\" \"[Gmail]/All Mail\"',\n",
       "  b'(\\\\Drafts \\\\HasNoChildren) \"/\" \"[Gmail]/Drafts\"',\n",
       "  b'(\\\\HasNoChildren \\\\Important) \"/\" \"[Gmail]/Important\"',\n",
       "  b'(\\\\HasNoChildren \\\\Sent) \"/\" \"[Gmail]/Sent Mail\"',\n",
       "  b'(\\\\HasNoChildren \\\\Junk) \"/\" \"[Gmail]/Spam\"',\n",
       "  b'(\\\\Flagged \\\\HasNoChildren) \"/\" \"[Gmail]/Starred\"',\n",
       "  b'(\\\\HasNoChildren \\\\Trash) \"/\" \"[Gmail]/Trash\"'])"
      ]
     },
     "execution_count": 20,
     "metadata": {},
     "output_type": "execute_result"
    }
   ],
   "source": [
    "M.list()"
   ]
  },
  {
   "cell_type": "code",
   "execution_count": 21,
   "metadata": {},
   "outputs": [
    {
     "data": {
      "text/plain": [
       "('OK', [b'10066'])"
      ]
     },
     "execution_count": 21,
     "metadata": {},
     "output_type": "execute_result"
    }
   ],
   "source": [
    "M.select('inbox')"
   ]
  },
  {
   "cell_type": "code",
   "execution_count": 22,
   "metadata": {},
   "outputs": [],
   "source": [
    "typ , data = M.search(None , 'FROM \"info@thegoldbugs.com\"')"
   ]
  },
  {
   "cell_type": "code",
   "execution_count": 23,
   "metadata": {},
   "outputs": [
    {
     "data": {
      "text/plain": [
       "'OK'"
      ]
     },
     "execution_count": 23,
     "metadata": {},
     "output_type": "execute_result"
    }
   ],
   "source": [
    "typ"
   ]
  },
  {
   "cell_type": "code",
   "execution_count": 24,
   "metadata": {},
   "outputs": [
    {
     "data": {
      "text/plain": [
       "[b'10058']"
      ]
     },
     "execution_count": 24,
     "metadata": {},
     "output_type": "execute_result"
    }
   ],
   "source": [
    "data"
   ]
  },
  {
   "cell_type": "code",
   "execution_count": 25,
   "metadata": {},
   "outputs": [
    {
     "data": {
      "text/plain": [
       "b'10058'"
      ]
     },
     "execution_count": 25,
     "metadata": {},
     "output_type": "execute_result"
    }
   ],
   "source": [
    "data[0]"
   ]
  },
  {
   "cell_type": "code",
   "execution_count": 26,
   "metadata": {},
   "outputs": [],
   "source": [
    "email_id = data[0]"
   ]
  },
  {
   "cell_type": "code",
   "execution_count": 27,
   "metadata": {},
   "outputs": [],
   "source": [
    "result , email_data = M.fetch(email_id , '(RFC822)')\n",
    "\n",
    "# '(RFC822)' is protocol"
   ]
  },
  {
   "cell_type": "code",
   "execution_count": 28,
   "metadata": {},
   "outputs": [
    {
     "data": {
      "text/plain": [
       "'OK'"
      ]
     },
     "execution_count": 28,
     "metadata": {},
     "output_type": "execute_result"
    }
   ],
   "source": [
    "result"
   ]
  },
  {
   "cell_type": "code",
   "execution_count": 29,
   "metadata": {},
   "outputs": [
    {
     "data": {
      "text/plain": [
       "[(b'10058 (RFC822 {5774}',\n",
       "  b'Delivered-To: phenomenalkarthikeyan@gmail.com\\r\\nReceived: by 2002:a67:6993:0:0:0:0:0 with SMTP id e141csp6853395vsc;\\r\\n        Wed, 15 Jan 2020 00:40:31 -0800 (PST)\\r\\nX-Received: by 2002:a63:7944:: with SMTP id u65mr29491851pgc.298.1579077631471;\\r\\n        Wed, 15 Jan 2020 00:40:31 -0800 (PST)\\r\\nARC-Seal: i=1; a=rsa-sha256; t=1579077631; cv=none;\\r\\n        d=google.com; s=arc-20160816;\\r\\n        b=OLwkC2Q7VzSQPEqxvTuESvDNL4AsKbhZivIp39VCnkVwTDH704s9uWtBeEM2sVRxCQ\\r\\n         69m5BHyzOsxLozMIqIIBaYg5a0Nq2fgPShGdPzvCCbvyO/eiDmkwccFdDc9fPLYZLxy+\\r\\n         DCJfYmnyCgFACngDL7enehcQCH/GnisDsnQ3aGvAHGOjuyWSdQZ0+NHkntoxdgP6Wajo\\r\\n         GMUw52QkovkC0aQoMKek+cZAa6aICzJ5hzpH/h2Cz9N2aV4j3l9/vuA6OrrB1WO7jeb6\\r\\n         4i+CjLSA96UH6DAN/XRANRaOMYOfGlrMDIrKLW3UuL2MtPm5/eTNG0zmsLWZ45NtDw1f\\r\\n         Kszg==\\r\\nARC-Message-Signature: i=1; a=rsa-sha256; c=relaxed/relaxed; d=google.com; s=arc-20160816;\\r\\n        h=auto-submitted:precedence:content-disposition\\r\\n         :content-transfer-encoding:mime-version:subject:message-id:date:from\\r\\n         :to:dkim-signature;\\r\\n        bh=6W6xC1fDoIzP5ysodW04yWxZbPF2YEhjzMl3FbJvE5k=;\\r\\n        b=kvXWc7MHlVMkdX8Ys0EoRuRS6JpxXZG1UwOskc9Egi1CkkcDlTI3HahyA/+muPb/3J\\r\\n         h6QeyGZJIPMVGJwlyYnZ2IHF9Y3rd75G79TxLOuhuB7aX1owTbgr1B9WBW1RkTWtWV2U\\r\\n         8B4LHQU935cn4faMpDb47dbbRIspY60xp5fWLO8RfUomm4ZouzWfaTQwim4/E3eEJSfe\\r\\n         hRbpIb4MXGk4zkmHIuhlg60181rAISJNA/ldZwSmSw93X76RVirBj8Kh+D+ND9Vp+Vb2\\r\\n         stI4588bCHSa3m95iCnWQD9Z53JkmNFz1eHVDb9fTmM6sB9NE1pmTVFRC6blDvDsTyoV\\r\\n         /6fw==\\r\\nARC-Authentication-Results: i=1; mx.google.com;\\r\\n       dkim=pass header.i=@thegoldbugs-com.20150623.gappssmtp.com header.s=20150623 header.b=H59zGkhh;\\r\\n       spf=neutral (google.com: 209.85.220.41 is neither permitted nor denied by best guess record for domain of info@thegoldbugs.com) smtp.mailfrom=info@thegoldbugs.com\\r\\nReturn-Path: <info@thegoldbugs.com>\\r\\nReceived: from mail-sor-f41.google.com (mail-sor-f41.google.com. [209.85.220.41])\\r\\n        by mx.google.com with SMTPS id 59sor20095024plb.28.2020.01.15.00.40.31\\r\\n        for <phenomenalkarthikeyan@gmail.com>\\r\\n        (Google Transport Security);\\r\\n        Wed, 15 Jan 2020 00:40:31 -0800 (PST)\\r\\nReceived-SPF: neutral (google.com: 209.85.220.41 is neither permitted nor denied by best guess record for domain of info@thegoldbugs.com) client-ip=209.85.220.41;\\r\\nAuthentication-Results: mx.google.com;\\r\\n       dkim=pass header.i=@thegoldbugs-com.20150623.gappssmtp.com header.s=20150623 header.b=H59zGkhh;\\r\\n       spf=neutral (google.com: 209.85.220.41 is neither permitted nor denied by best guess record for domain of info@thegoldbugs.com) smtp.mailfrom=info@thegoldbugs.com\\r\\nDKIM-Signature: v=1; a=rsa-sha256; c=relaxed/relaxed;\\r\\n        d=thegoldbugs-com.20150623.gappssmtp.com; s=20150623;\\r\\n        h=to:from:date:message-id:subject:mime-version\\r\\n         :content-transfer-encoding:content-disposition:precedence\\r\\n         :auto-submitted;\\r\\n        bh=6W6xC1fDoIzP5ysodW04yWxZbPF2YEhjzMl3FbJvE5k=;\\r\\n        b=H59zGkhhIRUlHGqbP/p/kBkNHgrJJGER/HWGeZWdZ55brLSRlDZaD3X8SHln9Jf/cc\\r\\n         OZhZEqQdh3B58fTC+sx/uejcHjtL/d1oU+R1sQCZx7xU37gbCdMSyqVlOOyMEckYlZ8A\\r\\n         faXRrgf4notlyqJwxDKS+NIBm8AwP/Ar0Et2ds9ZxPIKQ7oelLKIHR5Aw3swGqjmcxpC\\r\\n         gLPxEB9FpezzoX0QN/Y1U2Ea/MAHvUq14r3p4c7fdPv7uZ6fx/2CaKvC7j8NECVcGs9s\\r\\n         BUP8SkzsU3aA2UhK6/pAumVlaX3HTzEtCfF18Ojq3gT/fCxdMJdlBw3ibdDPJT9SRUTu\\r\\n         kQ4w==\\r\\nX-Google-DKIM-Signature: v=1; a=rsa-sha256; c=relaxed/relaxed;\\r\\n        d=1e100.net; s=20161025;\\r\\n        h=x-gm-message-state:to:from:date:message-id:subject:mime-version\\r\\n         :content-transfer-encoding:content-disposition:precedence\\r\\n         :auto-submitted;\\r\\n        bh=6W6xC1fDoIzP5ysodW04yWxZbPF2YEhjzMl3FbJvE5k=;\\r\\n        b=WaHUG8qQf3JCdeTN3AKIjjmFVHabRdy3VvfVJjaYTdsaiG4AyKLvQN5Irs9HJm38zs\\r\\n         caX3OO9+7glreJvbV9l6bT1/vYc12JDD7DbOB1KeDpnP50JFXL8MWg1HKCLzgJXbu4xv\\r\\n         DYrEkvxnuMCcClmcSgYm7HfGLL4HMl0H/fy8LioBzB16+dfjzbIkCKZFRfnDL0nANJXQ\\r\\n         zgBlN5CLWcLxs6VTHyRZI0XL2SEiozWWtkaIi4vgYCWvNLeTlF6isyKxtFrD1Mx37h4S\\r\\n         UZZa1uYBNdNf6XY8NQpXbaicK+fGvPPqI+UGrITEBJ5qH4ArAiAHaOmkFnhBtJCFsZZB\\r\\n         XczQ==\\r\\nX-Gm-Message-State: APjAAAWyOfjqzgMrttc85L9/1Tk1N3oAC0s99tfJ5gMtn+V1oSJGxIC7\\r\\n\\tGgctRaX5cBWoS/SNOneL5nKTAQ6nsgXnDcxO1RR/mWP5dM5fKA+RTa63VVEHqA==\\r\\nX-Google-Smtp-Source: APXvYqzdfbzCadgXDKnu6DP6nkMOyBkZOhGbP9c46EBzFhsENobrQnsekYCs2z0RdgnbQ5E2EhrtSHF3tsLbDAJ2ysdp2m1Z86//ColGPgXS\\r\\nX-Received: by 2002:a17:902:321:: with SMTP id 30mr25793096pld.130.1579077630987;\\r\\n        Wed, 15 Jan 2020 00:40:30 -0800 (PST)\\r\\nTo: phenomenalkarthikeyan@gmail.com\\r\\nFrom: \"The Gold Bug\" <info@thegoldbugs.com>\\r\\nDate: Wed, 15 Jan 2020 00:40:30 -0800\\r\\nMessage-ID: <CAHA=A6FMYRZigwoBaz4UZGjHU+AvkaLviL9ntze3whWiDH21_A@mail.gmail.com>\\r\\nSubject: Welcome Back Re: Complete Python 3 Masterclass\\r\\nMIME-Version: 1.0\\r\\nContent-Type: text/html; charset=UTF-8\\r\\nContent-Transfer-Encoding: 7bit\\r\\nContent-Disposition: inline\\r\\nPrecedence: bulk\\r\\nX-Autoreply: yes\\r\\nAuto-Submitted: auto-replied\\r\\n\\r\\n<div dir=\"ltr\">If you are reading this message, you were able to find the email from the PDF using the CSV file.<div><br></div><div>Here is what you will need for the next phase:</div><div><br></div><div><span style=\"font-size:12.8px\"><a href=\"https://drive.google.com/file/d/15YyLqIuGlsCLr4ioKUeHRw8H2QjBNOz2/view?usp=sharing\" target=\"_blank\">https://drive.google.com/file/d/15YyLqIuGlsCLr4ioKUeHRw8H2QjBNOz2/view?usp=sharing</a></span><br></div><div><span style=\"font-size:12.8px\"><br></span></div><div><span style=\"font-size:12.8px\"><a href=\"https://drive.google.com/file/d/128MRLNuytoW7dVm6B7AF_cDVMeACyTFk/view?usp=sharing\" target=\"_blank\">https://drive.google.com/file/d/128MRLNuytoW7dVm6B7AF_cDVMeACyTFk/view?usp=sharing</a></span><br></div><div><br></div><div><br></div></div>\\r\\n'),\n",
       " b')']"
      ]
     },
     "execution_count": 29,
     "metadata": {},
     "output_type": "execute_result"
    }
   ],
   "source": [
    "email_data"
   ]
  },
  {
   "cell_type": "code",
   "execution_count": 30,
   "metadata": {},
   "outputs": [
    {
     "data": {
      "text/plain": [
       "(b'10058 (RFC822 {5774}',\n",
       " b'Delivered-To: phenomenalkarthikeyan@gmail.com\\r\\nReceived: by 2002:a67:6993:0:0:0:0:0 with SMTP id e141csp6853395vsc;\\r\\n        Wed, 15 Jan 2020 00:40:31 -0800 (PST)\\r\\nX-Received: by 2002:a63:7944:: with SMTP id u65mr29491851pgc.298.1579077631471;\\r\\n        Wed, 15 Jan 2020 00:40:31 -0800 (PST)\\r\\nARC-Seal: i=1; a=rsa-sha256; t=1579077631; cv=none;\\r\\n        d=google.com; s=arc-20160816;\\r\\n        b=OLwkC2Q7VzSQPEqxvTuESvDNL4AsKbhZivIp39VCnkVwTDH704s9uWtBeEM2sVRxCQ\\r\\n         69m5BHyzOsxLozMIqIIBaYg5a0Nq2fgPShGdPzvCCbvyO/eiDmkwccFdDc9fPLYZLxy+\\r\\n         DCJfYmnyCgFACngDL7enehcQCH/GnisDsnQ3aGvAHGOjuyWSdQZ0+NHkntoxdgP6Wajo\\r\\n         GMUw52QkovkC0aQoMKek+cZAa6aICzJ5hzpH/h2Cz9N2aV4j3l9/vuA6OrrB1WO7jeb6\\r\\n         4i+CjLSA96UH6DAN/XRANRaOMYOfGlrMDIrKLW3UuL2MtPm5/eTNG0zmsLWZ45NtDw1f\\r\\n         Kszg==\\r\\nARC-Message-Signature: i=1; a=rsa-sha256; c=relaxed/relaxed; d=google.com; s=arc-20160816;\\r\\n        h=auto-submitted:precedence:content-disposition\\r\\n         :content-transfer-encoding:mime-version:subject:message-id:date:from\\r\\n         :to:dkim-signature;\\r\\n        bh=6W6xC1fDoIzP5ysodW04yWxZbPF2YEhjzMl3FbJvE5k=;\\r\\n        b=kvXWc7MHlVMkdX8Ys0EoRuRS6JpxXZG1UwOskc9Egi1CkkcDlTI3HahyA/+muPb/3J\\r\\n         h6QeyGZJIPMVGJwlyYnZ2IHF9Y3rd75G79TxLOuhuB7aX1owTbgr1B9WBW1RkTWtWV2U\\r\\n         8B4LHQU935cn4faMpDb47dbbRIspY60xp5fWLO8RfUomm4ZouzWfaTQwim4/E3eEJSfe\\r\\n         hRbpIb4MXGk4zkmHIuhlg60181rAISJNA/ldZwSmSw93X76RVirBj8Kh+D+ND9Vp+Vb2\\r\\n         stI4588bCHSa3m95iCnWQD9Z53JkmNFz1eHVDb9fTmM6sB9NE1pmTVFRC6blDvDsTyoV\\r\\n         /6fw==\\r\\nARC-Authentication-Results: i=1; mx.google.com;\\r\\n       dkim=pass header.i=@thegoldbugs-com.20150623.gappssmtp.com header.s=20150623 header.b=H59zGkhh;\\r\\n       spf=neutral (google.com: 209.85.220.41 is neither permitted nor denied by best guess record for domain of info@thegoldbugs.com) smtp.mailfrom=info@thegoldbugs.com\\r\\nReturn-Path: <info@thegoldbugs.com>\\r\\nReceived: from mail-sor-f41.google.com (mail-sor-f41.google.com. [209.85.220.41])\\r\\n        by mx.google.com with SMTPS id 59sor20095024plb.28.2020.01.15.00.40.31\\r\\n        for <phenomenalkarthikeyan@gmail.com>\\r\\n        (Google Transport Security);\\r\\n        Wed, 15 Jan 2020 00:40:31 -0800 (PST)\\r\\nReceived-SPF: neutral (google.com: 209.85.220.41 is neither permitted nor denied by best guess record for domain of info@thegoldbugs.com) client-ip=209.85.220.41;\\r\\nAuthentication-Results: mx.google.com;\\r\\n       dkim=pass header.i=@thegoldbugs-com.20150623.gappssmtp.com header.s=20150623 header.b=H59zGkhh;\\r\\n       spf=neutral (google.com: 209.85.220.41 is neither permitted nor denied by best guess record for domain of info@thegoldbugs.com) smtp.mailfrom=info@thegoldbugs.com\\r\\nDKIM-Signature: v=1; a=rsa-sha256; c=relaxed/relaxed;\\r\\n        d=thegoldbugs-com.20150623.gappssmtp.com; s=20150623;\\r\\n        h=to:from:date:message-id:subject:mime-version\\r\\n         :content-transfer-encoding:content-disposition:precedence\\r\\n         :auto-submitted;\\r\\n        bh=6W6xC1fDoIzP5ysodW04yWxZbPF2YEhjzMl3FbJvE5k=;\\r\\n        b=H59zGkhhIRUlHGqbP/p/kBkNHgrJJGER/HWGeZWdZ55brLSRlDZaD3X8SHln9Jf/cc\\r\\n         OZhZEqQdh3B58fTC+sx/uejcHjtL/d1oU+R1sQCZx7xU37gbCdMSyqVlOOyMEckYlZ8A\\r\\n         faXRrgf4notlyqJwxDKS+NIBm8AwP/Ar0Et2ds9ZxPIKQ7oelLKIHR5Aw3swGqjmcxpC\\r\\n         gLPxEB9FpezzoX0QN/Y1U2Ea/MAHvUq14r3p4c7fdPv7uZ6fx/2CaKvC7j8NECVcGs9s\\r\\n         BUP8SkzsU3aA2UhK6/pAumVlaX3HTzEtCfF18Ojq3gT/fCxdMJdlBw3ibdDPJT9SRUTu\\r\\n         kQ4w==\\r\\nX-Google-DKIM-Signature: v=1; a=rsa-sha256; c=relaxed/relaxed;\\r\\n        d=1e100.net; s=20161025;\\r\\n        h=x-gm-message-state:to:from:date:message-id:subject:mime-version\\r\\n         :content-transfer-encoding:content-disposition:precedence\\r\\n         :auto-submitted;\\r\\n        bh=6W6xC1fDoIzP5ysodW04yWxZbPF2YEhjzMl3FbJvE5k=;\\r\\n        b=WaHUG8qQf3JCdeTN3AKIjjmFVHabRdy3VvfVJjaYTdsaiG4AyKLvQN5Irs9HJm38zs\\r\\n         caX3OO9+7glreJvbV9l6bT1/vYc12JDD7DbOB1KeDpnP50JFXL8MWg1HKCLzgJXbu4xv\\r\\n         DYrEkvxnuMCcClmcSgYm7HfGLL4HMl0H/fy8LioBzB16+dfjzbIkCKZFRfnDL0nANJXQ\\r\\n         zgBlN5CLWcLxs6VTHyRZI0XL2SEiozWWtkaIi4vgYCWvNLeTlF6isyKxtFrD1Mx37h4S\\r\\n         UZZa1uYBNdNf6XY8NQpXbaicK+fGvPPqI+UGrITEBJ5qH4ArAiAHaOmkFnhBtJCFsZZB\\r\\n         XczQ==\\r\\nX-Gm-Message-State: APjAAAWyOfjqzgMrttc85L9/1Tk1N3oAC0s99tfJ5gMtn+V1oSJGxIC7\\r\\n\\tGgctRaX5cBWoS/SNOneL5nKTAQ6nsgXnDcxO1RR/mWP5dM5fKA+RTa63VVEHqA==\\r\\nX-Google-Smtp-Source: APXvYqzdfbzCadgXDKnu6DP6nkMOyBkZOhGbP9c46EBzFhsENobrQnsekYCs2z0RdgnbQ5E2EhrtSHF3tsLbDAJ2ysdp2m1Z86//ColGPgXS\\r\\nX-Received: by 2002:a17:902:321:: with SMTP id 30mr25793096pld.130.1579077630987;\\r\\n        Wed, 15 Jan 2020 00:40:30 -0800 (PST)\\r\\nTo: phenomenalkarthikeyan@gmail.com\\r\\nFrom: \"The Gold Bug\" <info@thegoldbugs.com>\\r\\nDate: Wed, 15 Jan 2020 00:40:30 -0800\\r\\nMessage-ID: <CAHA=A6FMYRZigwoBaz4UZGjHU+AvkaLviL9ntze3whWiDH21_A@mail.gmail.com>\\r\\nSubject: Welcome Back Re: Complete Python 3 Masterclass\\r\\nMIME-Version: 1.0\\r\\nContent-Type: text/html; charset=UTF-8\\r\\nContent-Transfer-Encoding: 7bit\\r\\nContent-Disposition: inline\\r\\nPrecedence: bulk\\r\\nX-Autoreply: yes\\r\\nAuto-Submitted: auto-replied\\r\\n\\r\\n<div dir=\"ltr\">If you are reading this message, you were able to find the email from the PDF using the CSV file.<div><br></div><div>Here is what you will need for the next phase:</div><div><br></div><div><span style=\"font-size:12.8px\"><a href=\"https://drive.google.com/file/d/15YyLqIuGlsCLr4ioKUeHRw8H2QjBNOz2/view?usp=sharing\" target=\"_blank\">https://drive.google.com/file/d/15YyLqIuGlsCLr4ioKUeHRw8H2QjBNOz2/view?usp=sharing</a></span><br></div><div><span style=\"font-size:12.8px\"><br></span></div><div><span style=\"font-size:12.8px\"><a href=\"https://drive.google.com/file/d/128MRLNuytoW7dVm6B7AF_cDVMeACyTFk/view?usp=sharing\" target=\"_blank\">https://drive.google.com/file/d/128MRLNuytoW7dVm6B7AF_cDVMeACyTFk/view?usp=sharing</a></span><br></div><div><br></div><div><br></div></div>\\r\\n')"
      ]
     },
     "execution_count": 30,
     "metadata": {},
     "output_type": "execute_result"
    }
   ],
   "source": [
    "email_data[0]"
   ]
  },
  {
   "cell_type": "code",
   "execution_count": 31,
   "metadata": {},
   "outputs": [
    {
     "data": {
      "text/plain": [
       "b'Delivered-To: phenomenalkarthikeyan@gmail.com\\r\\nReceived: by 2002:a67:6993:0:0:0:0:0 with SMTP id e141csp6853395vsc;\\r\\n        Wed, 15 Jan 2020 00:40:31 -0800 (PST)\\r\\nX-Received: by 2002:a63:7944:: with SMTP id u65mr29491851pgc.298.1579077631471;\\r\\n        Wed, 15 Jan 2020 00:40:31 -0800 (PST)\\r\\nARC-Seal: i=1; a=rsa-sha256; t=1579077631; cv=none;\\r\\n        d=google.com; s=arc-20160816;\\r\\n        b=OLwkC2Q7VzSQPEqxvTuESvDNL4AsKbhZivIp39VCnkVwTDH704s9uWtBeEM2sVRxCQ\\r\\n         69m5BHyzOsxLozMIqIIBaYg5a0Nq2fgPShGdPzvCCbvyO/eiDmkwccFdDc9fPLYZLxy+\\r\\n         DCJfYmnyCgFACngDL7enehcQCH/GnisDsnQ3aGvAHGOjuyWSdQZ0+NHkntoxdgP6Wajo\\r\\n         GMUw52QkovkC0aQoMKek+cZAa6aICzJ5hzpH/h2Cz9N2aV4j3l9/vuA6OrrB1WO7jeb6\\r\\n         4i+CjLSA96UH6DAN/XRANRaOMYOfGlrMDIrKLW3UuL2MtPm5/eTNG0zmsLWZ45NtDw1f\\r\\n         Kszg==\\r\\nARC-Message-Signature: i=1; a=rsa-sha256; c=relaxed/relaxed; d=google.com; s=arc-20160816;\\r\\n        h=auto-submitted:precedence:content-disposition\\r\\n         :content-transfer-encoding:mime-version:subject:message-id:date:from\\r\\n         :to:dkim-signature;\\r\\n        bh=6W6xC1fDoIzP5ysodW04yWxZbPF2YEhjzMl3FbJvE5k=;\\r\\n        b=kvXWc7MHlVMkdX8Ys0EoRuRS6JpxXZG1UwOskc9Egi1CkkcDlTI3HahyA/+muPb/3J\\r\\n         h6QeyGZJIPMVGJwlyYnZ2IHF9Y3rd75G79TxLOuhuB7aX1owTbgr1B9WBW1RkTWtWV2U\\r\\n         8B4LHQU935cn4faMpDb47dbbRIspY60xp5fWLO8RfUomm4ZouzWfaTQwim4/E3eEJSfe\\r\\n         hRbpIb4MXGk4zkmHIuhlg60181rAISJNA/ldZwSmSw93X76RVirBj8Kh+D+ND9Vp+Vb2\\r\\n         stI4588bCHSa3m95iCnWQD9Z53JkmNFz1eHVDb9fTmM6sB9NE1pmTVFRC6blDvDsTyoV\\r\\n         /6fw==\\r\\nARC-Authentication-Results: i=1; mx.google.com;\\r\\n       dkim=pass header.i=@thegoldbugs-com.20150623.gappssmtp.com header.s=20150623 header.b=H59zGkhh;\\r\\n       spf=neutral (google.com: 209.85.220.41 is neither permitted nor denied by best guess record for domain of info@thegoldbugs.com) smtp.mailfrom=info@thegoldbugs.com\\r\\nReturn-Path: <info@thegoldbugs.com>\\r\\nReceived: from mail-sor-f41.google.com (mail-sor-f41.google.com. [209.85.220.41])\\r\\n        by mx.google.com with SMTPS id 59sor20095024plb.28.2020.01.15.00.40.31\\r\\n        for <phenomenalkarthikeyan@gmail.com>\\r\\n        (Google Transport Security);\\r\\n        Wed, 15 Jan 2020 00:40:31 -0800 (PST)\\r\\nReceived-SPF: neutral (google.com: 209.85.220.41 is neither permitted nor denied by best guess record for domain of info@thegoldbugs.com) client-ip=209.85.220.41;\\r\\nAuthentication-Results: mx.google.com;\\r\\n       dkim=pass header.i=@thegoldbugs-com.20150623.gappssmtp.com header.s=20150623 header.b=H59zGkhh;\\r\\n       spf=neutral (google.com: 209.85.220.41 is neither permitted nor denied by best guess record for domain of info@thegoldbugs.com) smtp.mailfrom=info@thegoldbugs.com\\r\\nDKIM-Signature: v=1; a=rsa-sha256; c=relaxed/relaxed;\\r\\n        d=thegoldbugs-com.20150623.gappssmtp.com; s=20150623;\\r\\n        h=to:from:date:message-id:subject:mime-version\\r\\n         :content-transfer-encoding:content-disposition:precedence\\r\\n         :auto-submitted;\\r\\n        bh=6W6xC1fDoIzP5ysodW04yWxZbPF2YEhjzMl3FbJvE5k=;\\r\\n        b=H59zGkhhIRUlHGqbP/p/kBkNHgrJJGER/HWGeZWdZ55brLSRlDZaD3X8SHln9Jf/cc\\r\\n         OZhZEqQdh3B58fTC+sx/uejcHjtL/d1oU+R1sQCZx7xU37gbCdMSyqVlOOyMEckYlZ8A\\r\\n         faXRrgf4notlyqJwxDKS+NIBm8AwP/Ar0Et2ds9ZxPIKQ7oelLKIHR5Aw3swGqjmcxpC\\r\\n         gLPxEB9FpezzoX0QN/Y1U2Ea/MAHvUq14r3p4c7fdPv7uZ6fx/2CaKvC7j8NECVcGs9s\\r\\n         BUP8SkzsU3aA2UhK6/pAumVlaX3HTzEtCfF18Ojq3gT/fCxdMJdlBw3ibdDPJT9SRUTu\\r\\n         kQ4w==\\r\\nX-Google-DKIM-Signature: v=1; a=rsa-sha256; c=relaxed/relaxed;\\r\\n        d=1e100.net; s=20161025;\\r\\n        h=x-gm-message-state:to:from:date:message-id:subject:mime-version\\r\\n         :content-transfer-encoding:content-disposition:precedence\\r\\n         :auto-submitted;\\r\\n        bh=6W6xC1fDoIzP5ysodW04yWxZbPF2YEhjzMl3FbJvE5k=;\\r\\n        b=WaHUG8qQf3JCdeTN3AKIjjmFVHabRdy3VvfVJjaYTdsaiG4AyKLvQN5Irs9HJm38zs\\r\\n         caX3OO9+7glreJvbV9l6bT1/vYc12JDD7DbOB1KeDpnP50JFXL8MWg1HKCLzgJXbu4xv\\r\\n         DYrEkvxnuMCcClmcSgYm7HfGLL4HMl0H/fy8LioBzB16+dfjzbIkCKZFRfnDL0nANJXQ\\r\\n         zgBlN5CLWcLxs6VTHyRZI0XL2SEiozWWtkaIi4vgYCWvNLeTlF6isyKxtFrD1Mx37h4S\\r\\n         UZZa1uYBNdNf6XY8NQpXbaicK+fGvPPqI+UGrITEBJ5qH4ArAiAHaOmkFnhBtJCFsZZB\\r\\n         XczQ==\\r\\nX-Gm-Message-State: APjAAAWyOfjqzgMrttc85L9/1Tk1N3oAC0s99tfJ5gMtn+V1oSJGxIC7\\r\\n\\tGgctRaX5cBWoS/SNOneL5nKTAQ6nsgXnDcxO1RR/mWP5dM5fKA+RTa63VVEHqA==\\r\\nX-Google-Smtp-Source: APXvYqzdfbzCadgXDKnu6DP6nkMOyBkZOhGbP9c46EBzFhsENobrQnsekYCs2z0RdgnbQ5E2EhrtSHF3tsLbDAJ2ysdp2m1Z86//ColGPgXS\\r\\nX-Received: by 2002:a17:902:321:: with SMTP id 30mr25793096pld.130.1579077630987;\\r\\n        Wed, 15 Jan 2020 00:40:30 -0800 (PST)\\r\\nTo: phenomenalkarthikeyan@gmail.com\\r\\nFrom: \"The Gold Bug\" <info@thegoldbugs.com>\\r\\nDate: Wed, 15 Jan 2020 00:40:30 -0800\\r\\nMessage-ID: <CAHA=A6FMYRZigwoBaz4UZGjHU+AvkaLviL9ntze3whWiDH21_A@mail.gmail.com>\\r\\nSubject: Welcome Back Re: Complete Python 3 Masterclass\\r\\nMIME-Version: 1.0\\r\\nContent-Type: text/html; charset=UTF-8\\r\\nContent-Transfer-Encoding: 7bit\\r\\nContent-Disposition: inline\\r\\nPrecedence: bulk\\r\\nX-Autoreply: yes\\r\\nAuto-Submitted: auto-replied\\r\\n\\r\\n<div dir=\"ltr\">If you are reading this message, you were able to find the email from the PDF using the CSV file.<div><br></div><div>Here is what you will need for the next phase:</div><div><br></div><div><span style=\"font-size:12.8px\"><a href=\"https://drive.google.com/file/d/15YyLqIuGlsCLr4ioKUeHRw8H2QjBNOz2/view?usp=sharing\" target=\"_blank\">https://drive.google.com/file/d/15YyLqIuGlsCLr4ioKUeHRw8H2QjBNOz2/view?usp=sharing</a></span><br></div><div><span style=\"font-size:12.8px\"><br></span></div><div><span style=\"font-size:12.8px\"><a href=\"https://drive.google.com/file/d/128MRLNuytoW7dVm6B7AF_cDVMeACyTFk/view?usp=sharing\" target=\"_blank\">https://drive.google.com/file/d/128MRLNuytoW7dVm6B7AF_cDVMeACyTFk/view?usp=sharing</a></span><br></div><div><br></div><div><br></div></div>\\r\\n'"
      ]
     },
     "execution_count": 31,
     "metadata": {},
     "output_type": "execute_result"
    }
   ],
   "source": [
    "email_data[0][1]"
   ]
  },
  {
   "cell_type": "code",
   "execution_count": 32,
   "metadata": {},
   "outputs": [],
   "source": [
    "raw_email = email_data[0][1]"
   ]
  },
  {
   "cell_type": "code",
   "execution_count": 33,
   "metadata": {},
   "outputs": [],
   "source": [
    "raw_email_string = raw_email.decode('utf-8')"
   ]
  },
  {
   "cell_type": "code",
   "execution_count": 34,
   "metadata": {},
   "outputs": [],
   "source": [
    "import email"
   ]
  },
  {
   "cell_type": "code",
   "execution_count": 35,
   "metadata": {},
   "outputs": [],
   "source": [
    "email_message = email.message_from_string(raw_email_string)"
   ]
  },
  {
   "cell_type": "code",
   "execution_count": 36,
   "metadata": {},
   "outputs": [
    {
     "data": {
      "text/plain": [
       "<email.message.Message at 0x7f6a3d1de6d0>"
      ]
     },
     "execution_count": 36,
     "metadata": {},
     "output_type": "execute_result"
    }
   ],
   "source": [
    "email_message"
   ]
  },
  {
   "cell_type": "code",
   "execution_count": 37,
   "metadata": {},
   "outputs": [
    {
     "name": "stdout",
     "output_type": "stream",
     "text": [
      "b'<div dir=\"ltr\">If you are reading this message, you were able to find the email from the PDF using the CSV file.<div><br></div><div>Here is what you will need for the next phase:</div><div><br></div><div><span style=\"font-size:12.8px\"><a href=\"https://drive.google.com/file/d/15YyLqIuGlsCLr4ioKUeHRw8H2QjBNOz2/view?usp=sharing\" target=\"_blank\">https://drive.google.com/file/d/15YyLqIuGlsCLr4ioKUeHRw8H2QjBNOz2/view?usp=sharing</a></span><br></div><div><span style=\"font-size:12.8px\"><br></span></div><div><span style=\"font-size:12.8px\"><a href=\"https://drive.google.com/file/d/128MRLNuytoW7dVm6B7AF_cDVMeACyTFk/view?usp=sharing\" target=\"_blank\">https://drive.google.com/file/d/128MRLNuytoW7dVm6B7AF_cDVMeACyTFk/view?usp=sharing</a></span><br></div><div><br></div><div><br></div></div>\\r\\n'\n"
     ]
    }
   ],
   "source": [
    "for part in email_message.walk():\n",
    "    \n",
    "    if part.get_content_type() == 'text/html':\n",
    "        \n",
    "        body = part.get_payload(decode = True)\n",
    "        \n",
    "        print(body)"
   ]
  },
  {
   "cell_type": "code",
   "execution_count": 38,
   "metadata": {},
   "outputs": [],
   "source": [
    "# Putting above html text in Markdown cell gives us the below answer"
   ]
  },
  {
   "cell_type": "markdown",
   "metadata": {},
   "source": [
    "b'<div dir=\"ltr\">If you are reading this message, you were able to find the email from the PDF using the CSV file.<div><br></div><div>Here is what you will need for the next phase:</div><div><br></div><div><span style=\"font-size:12.8px\"><a href=\"https://drive.google.com/file/d/15YyLqIuGlsCLr4ioKUeHRw8H2QjBNOz2/view?usp=sharing\" target=\"_blank\">https://drive.google.com/file/d/15YyLqIuGlsCLr4ioKUeHRw8H2QjBNOz2/view?usp=sharing</a></span><br></div><div><span style=\"font-size:12.8px\"><br></span></div><div><span style=\"font-size:12.8px\"><a href=\"https://drive.google.com/file/d/128MRLNuytoW7dVm6B7AF_cDVMeACyTFk/view?usp=sharing\" target=\"_blank\">https://drive.google.com/file/d/128MRLNuytoW7dVm6B7AF_cDVMeACyTFk/view?usp=sharing</a></span><br></div><div><br></div><div><br></div></div>\\r\\n'"
   ]
  }
 ],
 "metadata": {
  "kernelspec": {
   "display_name": "Python 3",
   "language": "python",
   "name": "python3"
  },
  "language_info": {
   "codemirror_mode": {
    "name": "ipython",
    "version": 3
   },
   "file_extension": ".py",
   "mimetype": "text/x-python",
   "name": "python",
   "nbconvert_exporter": "python",
   "pygments_lexer": "ipython3",
   "version": "3.7.4"
  }
 },
 "nbformat": 4,
 "nbformat_minor": 1
}
