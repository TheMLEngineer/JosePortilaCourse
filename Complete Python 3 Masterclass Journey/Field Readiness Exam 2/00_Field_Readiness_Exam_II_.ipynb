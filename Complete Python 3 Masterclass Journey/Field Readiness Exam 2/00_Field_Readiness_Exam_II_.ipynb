{
  "nbformat": 4,
  "nbformat_minor": 0,
  "metadata": {
    "kernelspec": {
      "display_name": "Python 3",
      "language": "python",
      "name": "python3"
    },
    "language_info": {
      "codemirror_mode": {
        "name": "ipython",
        "version": 3
      },
      "file_extension": ".py",
      "mimetype": "text/x-python",
      "name": "python",
      "nbconvert_exporter": "python",
      "pygments_lexer": "ipython3",
      "version": "3.6.1"
    },
    "colab": {
      "name": "00-Field-Readiness-Exam-II .ipynb",
      "provenance": [],
      "collapsed_sections": []
    }
  },
  "cells": [
    {
      "cell_type": "markdown",
      "metadata": {
        "id": "mFB_e8rGAVkD",
        "colab_type": "text"
      },
      "source": [
        "# Field Readiness Exam II\n",
        "\n",
        "**Welcome to your second field readiness exam recruit! Let's quickly check your understanding on loops, python operators, functions like range and input, and list comprehensions.**\n",
        "\n",
        "**Complete the tasks below:**"
      ]
    },
    {
      "cell_type": "markdown",
      "metadata": {
        "collapsed": true,
        "id": "BPfutPE7AVkJ",
        "colab_type": "text"
      },
      "source": [
        "### Task 1\n",
        "**Use a for loop and indexing to print out only the words that start with an s in this sentence:** \n",
        "\n",
        "    \"Secret agents are super good at staying hidden.\"\n",
        "\n",
        "**Hint: the .split() method may be useful here!**"
      ]
    },
    {
      "cell_type": "code",
      "metadata": {
        "id": "bf2-rILMAVkN",
        "colab_type": "code",
        "colab": {}
      },
      "source": [
        "mystring = \"Secret agents are super good at staying hidden.\""
      ],
      "execution_count": 0,
      "outputs": []
    },
    {
      "cell_type": "code",
      "metadata": {
        "id": "9xE7ngaTCQVV",
        "colab_type": "code",
        "colab": {}
      },
      "source": [
        "ms = [i for i in mystring.split() if i[0] =='s' or i[0] == 'S'] "
      ],
      "execution_count": 0,
      "outputs": []
    },
    {
      "cell_type": "code",
      "metadata": {
        "id": "WLRMsVp6CQHT",
        "colab_type": "code",
        "colab": {
          "base_uri": "https://localhost:8080/",
          "height": 72
        },
        "outputId": "114339ca-cd20-40f9-e39e-97ec5f06b246"
      },
      "source": [
        "for i in ms:\n",
        "  print(i)"
      ],
      "execution_count": 46,
      "outputs": [
        {
          "output_type": "stream",
          "text": [
            "Secret\n",
            "super\n",
            "staying\n"
          ],
          "name": "stdout"
        }
      ]
    },
    {
      "cell_type": "markdown",
      "metadata": {
        "id": "juHF_DmrAVkj",
        "colab_type": "text"
      },
      "source": [
        "### Task 2"
      ]
    },
    {
      "cell_type": "markdown",
      "metadata": {
        "id": "o1egoUecAVkl",
        "colab_type": "text"
      },
      "source": [
        "**Using the same string as previously used:**\n",
        "\n",
        "    \"Secret agents are super good at staying hidden.\"\n",
        "\n",
        "**Use a for loop to only print out the words with an even number of characters/letters.**"
      ]
    },
    {
      "cell_type": "code",
      "metadata": {
        "id": "eTCOkpTSC7fU",
        "colab_type": "code",
        "colab": {}
      },
      "source": [
        "ms = [i for i in mystring.split() if len(i) % 2 == 0]"
      ],
      "execution_count": 0,
      "outputs": []
    },
    {
      "cell_type": "code",
      "metadata": {
        "id": "XruUJqT4C7dV",
        "colab_type": "code",
        "colab": {
          "base_uri": "https://localhost:8080/",
          "height": 90
        },
        "outputId": "f37807ff-bad6-4792-8a53-380eef4350fe"
      },
      "source": [
        "for i in ms:\n",
        "  print(i)"
      ],
      "execution_count": 48,
      "outputs": [
        {
          "output_type": "stream",
          "text": [
            "Secret\n",
            "agents\n",
            "good\n",
            "at\n"
          ],
          "name": "stdout"
        }
      ]
    },
    {
      "cell_type": "markdown",
      "metadata": {
        "id": "azDmYoTaAVkv",
        "colab_type": "text"
      },
      "source": [
        "### Task 3\n",
        "\n",
        "**Use a list comprehension to create a list of every first letter in this string:**\n",
        "\n",
        "    mystring = \"Secret agents are super good at staying hidden.\""
      ]
    },
    {
      "cell_type": "code",
      "metadata": {
        "id": "-VTlCOYrAVkx",
        "colab_type": "code",
        "colab": {}
      },
      "source": [
        "mystring = \"Secret agents are super good at staying hidden.\""
      ],
      "execution_count": 0,
      "outputs": []
    },
    {
      "cell_type": "code",
      "metadata": {
        "id": "X26J3I4DDKSV",
        "colab_type": "code",
        "colab": {
          "base_uri": "https://localhost:8080/",
          "height": 35
        },
        "outputId": "e2872689-c9a3-4a69-ec9b-f98f590c7835"
      },
      "source": [
        "[i[0] for i in mystring.split()]"
      ],
      "execution_count": 50,
      "outputs": [
        {
          "output_type": "execute_result",
          "data": {
            "text/plain": [
              "['S', 'a', 'a', 's', 'g', 'a', 's', 'h']"
            ]
          },
          "metadata": {
            "tags": []
          },
          "execution_count": 50
        }
      ]
    },
    {
      "cell_type": "markdown",
      "metadata": {
        "id": "sI6w4I3cAVk8",
        "colab_type": "text"
      },
      "source": [
        "### Task 4\n",
        "\n",
        "**Use list comprehension to create a list of all the even numbers from 0 to 10.**"
      ]
    },
    {
      "cell_type": "code",
      "metadata": {
        "id": "bgb7sxsyDUt8",
        "colab_type": "code",
        "colab": {
          "base_uri": "https://localhost:8080/",
          "height": 35
        },
        "outputId": "9d0ec17d-4172-4433-e8c5-f4693feb0335"
      },
      "source": [
        "[i for i in range(11) if i %2 ==0]"
      ],
      "execution_count": 51,
      "outputs": [
        {
          "output_type": "execute_result",
          "data": {
            "text/plain": [
              "[0, 2, 4, 6, 8, 10]"
            ]
          },
          "metadata": {
            "tags": []
          },
          "execution_count": 51
        }
      ]
    },
    {
      "cell_type": "markdown",
      "metadata": {
        "id": "nTzqaWOtAVlG",
        "colab_type": "text"
      },
      "source": [
        "### Task 5\n",
        "\n",
        "**Use the range function to create a list of all the even numbers from 0 to 10.**"
      ]
    },
    {
      "cell_type": "code",
      "metadata": {
        "id": "Xkh8zdzHDhZ6",
        "colab_type": "code",
        "colab": {
          "base_uri": "https://localhost:8080/",
          "height": 35
        },
        "outputId": "dd1f0b0b-44bf-47b8-c407-a080cf695355"
      },
      "source": [
        "list(range(0 , 11 , 2))"
      ],
      "execution_count": 52,
      "outputs": [
        {
          "output_type": "execute_result",
          "data": {
            "text/plain": [
              "[0, 2, 4, 6, 8, 10]"
            ]
          },
          "metadata": {
            "tags": []
          },
          "execution_count": 52
        }
      ]
    },
    {
      "cell_type": "markdown",
      "metadata": {
        "id": "wT5lFBKTAVlN",
        "colab_type": "text"
      },
      "source": [
        "### Task 6\n",
        "\n",
        "**Create a for loop that uses the random library to create a list of 10 random numbers.**"
      ]
    },
    {
      "cell_type": "code",
      "metadata": {
        "id": "B9xpmw3HAVlP",
        "colab_type": "code",
        "colab": {}
      },
      "source": [
        "import random"
      ],
      "execution_count": 0,
      "outputs": []
    },
    {
      "cell_type": "code",
      "metadata": {
        "id": "redrUcYEE1pV",
        "colab_type": "code",
        "colab": {
          "base_uri": "https://localhost:8080/",
          "height": 35
        },
        "outputId": "e72309d4-2bd1-431d-aa13-d91d676f20b6"
      },
      "source": [
        "l = list()\n",
        "for i , j in [(32,545) ,(32,545) ,(32,545) ,(32,545) ,(32,545) , (32,545) ,(32,545) ,(32,545) ,(32,545) ,(32,545) ]:\n",
        "   l.append(random.randint(i , j))\n",
        "l"
      ],
      "execution_count": 54,
      "outputs": [
        {
          "output_type": "execute_result",
          "data": {
            "text/plain": [
              "[433, 266, 424, 127, 489, 349, 181, 409, 516, 476]"
            ]
          },
          "metadata": {
            "tags": []
          },
          "execution_count": 54
        }
      ]
    },
    {
      "cell_type": "markdown",
      "metadata": {
        "id": "tune7QZeAVlb",
        "colab_type": "text"
      },
      "source": [
        "### Task 7\n",
        "\n",
        "**Use list comprehension and the random library to create a list of 10 random numbers**"
      ]
    },
    {
      "cell_type": "code",
      "metadata": {
        "id": "mOdP3ncPEtJM",
        "colab_type": "code",
        "colab": {
          "base_uri": "https://localhost:8080/",
          "height": 35
        },
        "outputId": "c8c145c8-b784-48f7-c172-12455f42ce32"
      },
      "source": [
        "[random.randint(i , j) for i , j in [(32,545) ,(32,545) ,(32,545) ,(32,545) ,(32,545) ,\n",
        "                                     (32,545) ,(32,545) ,(32,545) ,(32,545) ,(32,545) ]]"
      ],
      "execution_count": 55,
      "outputs": [
        {
          "output_type": "execute_result",
          "data": {
            "text/plain": [
              "[63, 89, 506, 340, 285, 94, 253, 89, 503, 57]"
            ]
          },
          "metadata": {
            "tags": []
          },
          "execution_count": 55
        }
      ]
    },
    {
      "cell_type": "markdown",
      "metadata": {
        "id": "i1pkyxX1AVli",
        "colab_type": "text"
      },
      "source": [
        "### Task 8\n",
        "\n",
        "**Create a while loop that will ask the user to input an even number. It should keep repeating the request until an even integer is provided. You should only need to expect integers to be passed in, if the user provides a string or something else that can't be transformed to an integer with int(), then the loop should break with an error.**\n",
        "\n",
        "**Important things to keep in mind when working with while loops with the input() function:**\n",
        "* It's very easy to get stuck in an infinite loop, click on Kernel in the top toolbar and select Restart Kernel to fix this.\n",
        "* If you re-run a cell still waiting for an input() it will get stuck with In [*\\] , again select Restart Kernel to fix this."
      ]
    },
    {
      "cell_type": "code",
      "metadata": {
        "id": "eiz8GmSDFU_J",
        "colab_type": "code",
        "colab": {
          "base_uri": "https://localhost:8080/",
          "height": 127
        },
        "outputId": "35524e7c-05af-4ad1-b0db-2ea1335b0e1e"
      },
      "source": [
        "while True:\n",
        "  try:\n",
        "    i = int(input('Please provide an even number: '))\n",
        "    if i % 2 == 0:\n",
        "      print('Thank you')\n",
        "      break\n",
        "      \n",
        "  except:\n",
        "    print('you have Entererd Non Numerical Input')\n",
        "    break\n"
      ],
      "execution_count": 56,
      "outputs": [
        {
          "output_type": "stream",
          "text": [
            "Please provide an even number: 3\n",
            "Please provide an even number: 5\n",
            "Please provide an even number: 7\n",
            "Please provide an even number: 99\n",
            "Please provide an even number: 36\n",
            "Thank you\n"
          ],
          "name": "stdout"
        }
      ]
    },
    {
      "cell_type": "markdown",
      "metadata": {
        "collapsed": true,
        "id": "Kgei4qETAVlp",
        "colab_type": "text"
      },
      "source": [
        "Best of luck!"
      ]
    }
  ]
}