{
  "nbformat": 4,
  "nbformat_minor": 0,
  "metadata": {
    "kernelspec": {
      "display_name": "Python 3",
      "language": "python",
      "name": "python3"
    },
    "language_info": {
      "codemirror_mode": {
        "name": "ipython",
        "version": 3
      },
      "file_extension": ".py",
      "mimetype": "text/x-python",
      "name": "python",
      "nbconvert_exporter": "python",
      "pygments_lexer": "ipython3",
      "version": "3.6.1"
    },
    "colab": {
      "name": "00-Field-Readiness-Exam-II .ipynb",
      "provenance": [],
      "collapsed_sections": []
    }
  },
  "cells": [
    {
      "cell_type": "markdown",
      "metadata": {
        "id": "mFB_e8rGAVkD",
        "colab_type": "text"
      },
      "source": [
        "# Field Readiness Exam II\n",
        "\n",
        "**Welcome to your second field readiness exam recruit! Let's quickly check your understanding on loops, python operators, functions like range and input, and list comprehensions.**\n",
        "\n",
        "**Complete the tasks below:**"
      ]
    },
    {
      "cell_type": "markdown",
      "metadata": {
        "collapsed": true,
        "id": "BPfutPE7AVkJ",
        "colab_type": "text"
      },
      "source": [
        "### Task 1\n",
        "**Use a for loop and indexing to print out only the words that start with an s in this sentence:** \n",
        "\n",
        "    \"Secret agents are super good at staying hidden.\"\n",
        "\n",
        "**Hint: the .split() method may be useful here!**"
      ]
    },
    {
      "cell_type": "code",
      "metadata": {
        "id": "bf2-rILMAVkN",
        "colab_type": "code",
        "colab": {}
      },
      "source": [
        "mystring = \"Secret agents are super good at staying hidden.\""
      ],
      "execution_count": 0,
      "outputs": []
    },
    {
      "cell_type": "code",
      "metadata": {
        "id": "9xE7ngaTCQVV",
        "colab_type": "code",
        "colab": {}
      },
      "source": [
        "ms = [i for i in mystring.split() if i[0] =='s' or i[0] == 'S'] "
      ],
      "execution_count": 0,
      "outputs": []
    },
    {
      "cell_type": "code",
      "metadata": {
        "id": "WLRMsVp6CQHT",
        "colab_type": "code",
        "colab": {
          "base_uri": "https://localhost:8080/",
          "height": 72
        },
        "outputId": "929c5c7c-843c-4ef7-a1a1-ca009f4c97b8"
      },
      "source": [
        "for i in ms:\n",
        "  print(i)"
      ],
      "execution_count": 7,
      "outputs": [
        {
          "output_type": "stream",
          "text": [
            "Secret\n",
            "super\n",
            "staying\n"
          ],
          "name": "stdout"
        }
      ]
    },
    {
      "cell_type": "markdown",
      "metadata": {
        "id": "juHF_DmrAVkj",
        "colab_type": "text"
      },
      "source": [
        "### Task 2"
      ]
    },
    {
      "cell_type": "markdown",
      "metadata": {
        "id": "o1egoUecAVkl",
        "colab_type": "text"
      },
      "source": [
        "**Using the same string as previously used:**\n",
        "\n",
        "    \"Secret agents are super good at staying hidden.\"\n",
        "\n",
        "**Use a for loop to only print out the words with an even number of characters/letters.**"
      ]
    },
    {
      "cell_type": "code",
      "metadata": {
        "id": "eTCOkpTSC7fU",
        "colab_type": "code",
        "colab": {}
      },
      "source": [
        "ms = [i for i in mystring.split() if len(i) % 2 == 0]"
      ],
      "execution_count": 0,
      "outputs": []
    },
    {
      "cell_type": "code",
      "metadata": {
        "id": "XruUJqT4C7dV",
        "colab_type": "code",
        "colab": {
          "base_uri": "https://localhost:8080/",
          "height": 90
        },
        "outputId": "e28efddc-8b0e-44df-fec3-3ecc78294b4d"
      },
      "source": [
        "for i in ms:\n",
        "  print(i)"
      ],
      "execution_count": 11,
      "outputs": [
        {
          "output_type": "stream",
          "text": [
            "Secret\n",
            "agents\n",
            "good\n",
            "at\n"
          ],
          "name": "stdout"
        }
      ]
    },
    {
      "cell_type": "markdown",
      "metadata": {
        "id": "azDmYoTaAVkv",
        "colab_type": "text"
      },
      "source": [
        "### Task 3\n",
        "\n",
        "**Use a list comprehension to create a list of every first letter in this string:**\n",
        "\n",
        "    mystring = \"Secret agents are super good at staying hidden.\""
      ]
    },
    {
      "cell_type": "code",
      "metadata": {
        "id": "-VTlCOYrAVkx",
        "colab_type": "code",
        "colab": {}
      },
      "source": [
        "mystring = \"Secret agents are super good at staying hidden.\""
      ],
      "execution_count": 0,
      "outputs": []
    },
    {
      "cell_type": "code",
      "metadata": {
        "id": "X26J3I4DDKSV",
        "colab_type": "code",
        "colab": {
          "base_uri": "https://localhost:8080/",
          "height": 35
        },
        "outputId": "835b5920-d71a-4d05-be53-526fb5256338"
      },
      "source": [
        "[i[0] for i in mystring.split()]"
      ],
      "execution_count": 14,
      "outputs": [
        {
          "output_type": "execute_result",
          "data": {
            "text/plain": [
              "['S', 'a', 'a', 's', 'g', 'a', 's', 'h']"
            ]
          },
          "metadata": {
            "tags": []
          },
          "execution_count": 14
        }
      ]
    },
    {
      "cell_type": "markdown",
      "metadata": {
        "id": "sI6w4I3cAVk8",
        "colab_type": "text"
      },
      "source": [
        "### Task 4\n",
        "\n",
        "**Use list comprehension to create a list of all the even numbers from 0 to 10.**"
      ]
    },
    {
      "cell_type": "code",
      "metadata": {
        "id": "bgb7sxsyDUt8",
        "colab_type": "code",
        "colab": {
          "base_uri": "https://localhost:8080/",
          "height": 35
        },
        "outputId": "bfef96fe-61d2-4264-cebe-14bbffeaf6e0"
      },
      "source": [
        "[i for i in range(11) if i %2 ==0]"
      ],
      "execution_count": 16,
      "outputs": [
        {
          "output_type": "execute_result",
          "data": {
            "text/plain": [
              "[0, 2, 4, 6, 8, 10]"
            ]
          },
          "metadata": {
            "tags": []
          },
          "execution_count": 16
        }
      ]
    },
    {
      "cell_type": "markdown",
      "metadata": {
        "id": "nTzqaWOtAVlG",
        "colab_type": "text"
      },
      "source": [
        "### Task 5\n",
        "\n",
        "**Use the range function to create a list of all the even numbers from 0 to 10.**"
      ]
    },
    {
      "cell_type": "code",
      "metadata": {
        "id": "Xkh8zdzHDhZ6",
        "colab_type": "code",
        "colab": {
          "base_uri": "https://localhost:8080/",
          "height": 35
        },
        "outputId": "df62acbc-269b-4963-b5f0-83344afbed3b"
      },
      "source": [
        "list(range(0 , 11 , 2))"
      ],
      "execution_count": 17,
      "outputs": [
        {
          "output_type": "execute_result",
          "data": {
            "text/plain": [
              "[0, 2, 4, 6, 8, 10]"
            ]
          },
          "metadata": {
            "tags": []
          },
          "execution_count": 17
        }
      ]
    },
    {
      "cell_type": "markdown",
      "metadata": {
        "id": "wT5lFBKTAVlN",
        "colab_type": "text"
      },
      "source": [
        "### Task 6\n",
        "\n",
        "**Create a for loop that uses the random library to create a list of 10 random numbers.**"
      ]
    },
    {
      "cell_type": "code",
      "metadata": {
        "id": "B9xpmw3HAVlP",
        "colab_type": "code",
        "colab": {}
      },
      "source": [
        "import random"
      ],
      "execution_count": 0,
      "outputs": []
    },
    {
      "cell_type": "code",
      "metadata": {
        "id": "redrUcYEE1pV",
        "colab_type": "code",
        "colab": {
          "base_uri": "https://localhost:8080/",
          "height": 35
        },
        "outputId": "90b89d3e-7684-4f76-d517-2cdc5fe35fde"
      },
      "source": [
        "l = list()\n",
        "for i , j in [(32,545) ,(32,545) ,(32,545) ,(32,545) ,(32,545) , (32,545) ,(32,545) ,(32,545) ,(32,545) ,(32,545) ]:\n",
        "   l.append(random.randint(i , j))\n",
        "l"
      ],
      "execution_count": 27,
      "outputs": [
        {
          "output_type": "execute_result",
          "data": {
            "text/plain": [
              "[93, 40, 499, 409, 270, 276, 449, 285, 372, 187]"
            ]
          },
          "metadata": {
            "tags": []
          },
          "execution_count": 27
        }
      ]
    },
    {
      "cell_type": "code",
      "metadata": {
        "id": "o8ET1qyVEDrc",
        "colab_type": "code",
        "colab": {
          "base_uri": "https://localhost:8080/",
          "height": 35
        },
        "outputId": "7d55c9e8-4ca0-4459-c8ac-25569382a5fd"
      },
      "source": [
        "[random.randint(i , j)"
      ],
      "execution_count": 22,
      "outputs": [
        {
          "output_type": "execute_result",
          "data": {
            "text/plain": [
              "[46, 139, 185, 449, 354, 342, 415, 286, 140, 442]"
            ]
          },
          "metadata": {
            "tags": []
          },
          "execution_count": 22
        }
      ]
    },
    {
      "cell_type": "markdown",
      "metadata": {
        "id": "tune7QZeAVlb",
        "colab_type": "text"
      },
      "source": [
        "### Task 7\n",
        "\n",
        "**Use list comprehension and the random library to create a list of 10 random numbers**"
      ]
    },
    {
      "cell_type": "code",
      "metadata": {
        "id": "mOdP3ncPEtJM",
        "colab_type": "code",
        "colab": {
          "base_uri": "https://localhost:8080/",
          "height": 35
        },
        "outputId": "8644cf35-fcb2-43f9-9716-c197cfce7caf"
      },
      "source": [
        "[random.randint(i , j) for i , j in [(32,545) ,(32,545) ,(32,545) ,(32,545) ,(32,545) ,\n",
        "                                     (32,545) ,(32,545) ,(32,545) ,(32,545) ,(32,545) ]]"
      ],
      "execution_count": 23,
      "outputs": [
        {
          "output_type": "execute_result",
          "data": {
            "text/plain": [
              "[238, 304, 347, 462, 175, 42, 324, 95, 236, 121]"
            ]
          },
          "metadata": {
            "tags": []
          },
          "execution_count": 23
        }
      ]
    },
    {
      "cell_type": "markdown",
      "metadata": {
        "id": "i1pkyxX1AVli",
        "colab_type": "text"
      },
      "source": [
        "### Task 8\n",
        "\n",
        "**Create a while loop that will ask the user to input an even number. It should keep repeating the request until an even integer is provided. You should only need to expect integers to be passed in, if the user provides a string or something else that can't be transformed to an integer with int(), then the loop should break with an error.**\n",
        "\n",
        "**Important things to keep in mind when working with while loops with the input() function:**\n",
        "* It's very easy to get stuck in an infinite loop, click on Kernel in the top toolbar and select Restart Kernel to fix this.\n",
        "* If you re-run a cell still waiting for an input() it will get stuck with In [*\\] , again select Restart Kernel to fix this."
      ]
    },
    {
      "cell_type": "code",
      "metadata": {
        "id": "eiz8GmSDFU_J",
        "colab_type": "code",
        "colab": {
          "base_uri": "https://localhost:8080/",
          "height": 54
        },
        "outputId": "46f532a9-b9c7-470a-805b-3b185cb440d4"
      },
      "source": [
        "while True:\n",
        "  try:\n",
        "    i = int(input('Please provide an even number: '))\n",
        "    if i % 2 == 0:\n",
        "      print('Thank you')\n",
        "      break\n",
        "      \n",
        "  except:\n",
        "    print('you have Entererd Non Numerical Input')\n",
        "    break\n"
      ],
      "execution_count": 31,
      "outputs": [
        {
          "output_type": "stream",
          "text": [
            "Please provide an even number: afaf\n",
            "you have Entererd Non Numerical Input\n"
          ],
          "name": "stdout"
        }
      ]
    },
    {
      "cell_type": "markdown",
      "metadata": {
        "collapsed": true,
        "id": "Kgei4qETAVlp",
        "colab_type": "text"
      },
      "source": [
        "Best of luck!"
      ]
    }
  ]
}