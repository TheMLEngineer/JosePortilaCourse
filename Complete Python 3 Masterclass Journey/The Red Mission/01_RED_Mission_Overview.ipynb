{
  "nbformat": 4,
  "nbformat_minor": 0,
  "metadata": {
    "anaconda-cloud": {},
    "kernelspec": {
      "display_name": "Python [default]",
      "language": "python",
      "name": "python3"
    },
    "language_info": {
      "codemirror_mode": {
        "name": "ipython",
        "version": 3
      },
      "file_extension": ".py",
      "mimetype": "text/x-python",
      "name": "python",
      "nbconvert_exporter": "python",
      "pygments_lexer": "ipython3",
      "version": "3.5.3"
    },
    "colab": {
      "name": "01-RED-Mission-Overview.ipynb",
      "provenance": [],
      "collapsed_sections": []
    }
  },
  "cells": [
    {
      "cell_type": "markdown",
      "metadata": {
        "collapsed": true,
        "id": "2aja0pTqh_cw",
        "colab_type": "text"
      },
      "source": [
        "# Red Mission Overview\n",
        "\n",
        "Welcome to the field agent. This is where your training really comes into play. Remember a real agent is never done learning. You will need to constantly adapt to whatever scenario your presented.\n",
        "\n",
        "It is time for you to find the RAINBOW Rogues. We were previously close to cracking this rogue network, but they realized we were on to them and it seems they have completely changed their approach. \n",
        "\n",
        "We believe that they hide their communications through some sort of interwoven series of connections, however we've been having trouble getting any traction.\n",
        "\n",
        "All we know is the following, before  rogue agent leaves the institute, they visit the website of a band:\n",
        "\n",
        "[https://www.thegoldbugs.com](https://www.thegoldbugs.com)\n",
        "\n",
        "It seems like they want other agents to find this site, because before leaving they clear everything in their browsing history except for this site.\n",
        "\n",
        "## Your Mission\n",
        "\n",
        "Visit the site and see if you can gather any evidence indicating the location of the rogue agents.\n",
        "\n",
        "Best of luck Agent."
      ]
    },
    {
      "cell_type": "code",
      "metadata": {
        "id": "uAksW2iViYVj",
        "colab_type": "code",
        "colab": {}
      },
      "source": [
        "url = 'https://www.thegoldbugs.com/blog'"
      ],
      "execution_count": 0,
      "outputs": []
    },
    {
      "cell_type": "code",
      "metadata": {
        "id": "9zDTWfddiYdP",
        "colab_type": "code",
        "colab": {}
      },
      "source": [
        "import requests\n",
        "import bs4"
      ],
      "execution_count": 0,
      "outputs": []
    },
    {
      "cell_type": "code",
      "metadata": {
        "id": "R6VHdTfPiYkP",
        "colab_type": "code",
        "colab": {
          "base_uri": "https://localhost:8080/",
          "height": 35
        },
        "outputId": "3a04111a-41b2-4f51-9d34-baa7086fc92e"
      },
      "source": [
        "res = requests.get(url)\n",
        "res"
      ],
      "execution_count": 3,
      "outputs": [
        {
          "output_type": "execute_result",
          "data": {
            "text/plain": [
              "<Response [200]>"
            ]
          },
          "metadata": {
            "tags": []
          },
          "execution_count": 3
        }
      ]
    },
    {
      "cell_type": "code",
      "metadata": {
        "id": "nZSsFzqDiYxF",
        "colab_type": "code",
        "colab": {
          "base_uri": "https://localhost:8080/",
          "height": 55
        },
        "outputId": "8e36a8b9-832f-43ca-f501-ab76b9ade3b3"
      },
      "source": [
        "res.text"
      ],
      "execution_count": 4,
      "outputs": [
        {
          "output_type": "execute_result",
          "data": {
            "text/plain": [
              "'<!doctype html>\\n<html xmlns:og=\"http://opengraphprotocol.org/schema/\" xmlns:fb=\"http://www.facebook.com/2008/fbml\" lang=\"en-US\"  class=\"touch-styles\">\\n  <head>\\n    <meta http-equiv=\"X-UA-Compatible\" content=\"IE=edge,chrome=1\">\\n    \\n    <meta name=\"viewport\" content=\"width=device-width, initial-scale=1\">\\n    \\n    <!-- This is Squarespace. --><!-- jose-portilla-ds6e -->\\n<base href=\"\">\\n<meta charset=\"utf-8\" />\\n<title>Blog &mdash; The Gold Bugs</title>\\n<link rel=\"shortcut icon\" type=\"image/x-icon\" href=\"https://assets.squarespace.com/universal/default-favicon.ico\"/>\\n<link rel=\"canonical\" href=\"https://www.thegoldbugs.com/blog\"/>\\n<meta property=\"og:site_name\" content=\"The Gold Bugs\"/>\\n<meta property=\"og:title\" content=\"Blog &mdash; The Gold Bugs\"/>\\n<meta property=\"og:url\" content=\"https://www.thegoldbugs.com/blog\"/>\\n<meta property=\"og:type\" content=\"website\"/>\\n<meta itemprop=\"name\" content=\"Blog — The Gold Bugs\"/>\\n<meta itemprop=\"url\" content=\"https://www.thegoldbugs.com/blog\"/>\\n<meta name=\"twitter:title\" content=\"Blog — The Gold Bugs\"/>\\n<meta name=\"twitter:url\" content=\"https://www.thegoldbugs.com/blog\"/>\\n<meta name=\"twitter:card\" content=\"summary\"/>\\n<meta name=\"description\" content=\"\" />\\n<link rel=\"stylesheet\" type=\"text/css\" href=\"//fonts.googleapis.com/css?family=Abel:400|Source+Code+Pro:400,700,500,300\"/>\\n<script type=\"text/javascript\">SQUARESPACE_ROLLUPS = {};</script>\\n<script>(function(rollups, name) { if (!rollups[name]) { rollups[name] = {}; } rollups[name].js = [\"//assets.squarespace.com/universal/scripts-compressed/common-7968a82141b0a0bf656bf-min.en-US.js\"]; })(SQUARESPACE_ROLLUPS, \\'squarespace-common\\');</script>\\n<script crossorigin=\"anonymous\" src=\"//assets.squarespace.com/universal/scripts-compressed/common-7968a82141b0a0bf656bf-min.en-US.js\" ></script><script crossorigin=\"anonymous\" src=\"//assets.squarespace.com/universal/scripts-compressed/performance-6c529d24ffaa4730ab163-min.en-US.js\" defer ></script><script data-name=\"static-context\">Static = window.Static || {}; Static.SQUARESPACE_CONTEXT = {\"facebookAppId\":\"314192535267336\",\"rollups\":{\"squarespace-announcement-bar\":{\"css\":\"//assets.squarespace.com/universal/styles-compressed/announcement-bar-d41d8cd98f00b204e9800998ecf8427e-min.css\",\"js\":\"//assets.squarespace.com/universal/scripts-compressed/announcement-bar-9f22e4313a789d6a23837-min.en-US.js\"},\"squarespace-audio-player\":{\"css\":\"//assets.squarespace.com/universal/styles-compressed/audio-player-a57b8f3aa31918104f57a068648fbc63-min.css\",\"js\":\"//assets.squarespace.com/universal/scripts-compressed/audio-player-9f4a64087ec5252b42d30-min.en-US.js\"},\"squarespace-blog-collection-list\":{\"css\":\"//assets.squarespace.com/universal/styles-compressed/blog-collection-list-d41d8cd98f00b204e9800998ecf8427e-min.css\",\"js\":\"//assets.squarespace.com/universal/scripts-compressed/blog-collection-list-342036262b204974aa269-min.en-US.js\"},\"squarespace-calendar-block-renderer\":{\"css\":\"//assets.squarespace.com/universal/styles-compressed/calendar-block-renderer-a0cc7f57176bc63d87bc9f4149fada5a-min.css\",\"js\":\"//assets.squarespace.com/universal/scripts-compressed/calendar-block-renderer-467f39e39405092d3e306-min.en-US.js\"},\"squarespace-chartjs-helpers\":{\"css\":\"//assets.squarespace.com/universal/styles-compressed/chartjs-helpers-9935a41d63cf08ca108505d288c1712e-min.css\",\"js\":\"//assets.squarespace.com/universal/scripts-compressed/chartjs-helpers-6cafddaef129819c269cb-min.en-US.js\"},\"squarespace-comments\":{\"css\":\"//assets.squarespace.com/universal/styles-compressed/comments-1637eb4ee93bed59528921026e024bf4-min.css\",\"js\":\"//assets.squarespace.com/universal/scripts-compressed/comments-3791b2ce86f072ce5a408-min.en-US.js\"},\"squarespace-commerce-cart\":{\"js\":\"//assets.squarespace.com/universal/scripts-compressed/commerce-cart-dcb31cf26258818e6dbb3-min.en-US.js\"},\"squarespace-dialog\":{\"css\":\"//assets.squarespace.com/universal/styles-compressed/dialog-55710f039fb28505986e61d6b08d7fad-min.css\",\"js\":\"//assets.squarespace.com/universal/scripts-compressed/dialog-e9a722abf2736b8d35296-min.en-US.js\"},\"squarespace-events-collection\":{\"css\":\"//assets.squarespace.com/universal/styles-compressed/events-collection-a0cc7f57176bc63d87bc9f4149fada5a-min.css\",\"js\":\"//assets.squarespace.com/universal/scripts-compressed/events-collection-a6cde802dcd331fb784af-min.en-US.js\"},\"squarespace-form-rendering-utils\":{\"js\":\"//assets.squarespace.com/universal/scripts-compressed/form-rendering-utils-37522bae980ba07e775df-min.en-US.js\"},\"squarespace-forms\":{\"css\":\"//assets.squarespace.com/universal/styles-compressed/forms-f64e0249b577bd29ab8588cd7d02f749-min.css\",\"js\":\"//assets.squarespace.com/universal/scripts-compressed/forms-63872e3e273e9b440bb8c-min.en-US.js\"},\"squarespace-gallery-collection-list\":{\"css\":\"//assets.squarespace.com/universal/styles-compressed/gallery-collection-list-d41d8cd98f00b204e9800998ecf8427e-min.css\",\"js\":\"//assets.squarespace.com/universal/scripts-compressed/gallery-collection-list-e23ee315df466f1dba9ec-min.en-US.js\"},\"squarespace-image-zoom\":{\"css\":\"//assets.squarespace.com/universal/styles-compressed/image-zoom-72b0ab7796582588032aa6472e2e2f14-min.css\",\"js\":\"//assets.squarespace.com/universal/scripts-compressed/image-zoom-5a660e03e667b16c7a076-min.en-US.js\"},\"squarespace-pinterest\":{\"css\":\"//assets.squarespace.com/universal/styles-compressed/pinterest-d41d8cd98f00b204e9800998ecf8427e-min.css\",\"js\":\"//assets.squarespace.com/universal/scripts-compressed/pinterest-4725f00d98ee2610ca950-min.en-US.js\"},\"squarespace-popup-overlay\":{\"css\":\"//assets.squarespace.com/universal/styles-compressed/popup-overlay-0dff2958e7d1b369431f9e724190dc7d-min.css\",\"js\":\"//assets.squarespace.com/universal/scripts-compressed/popup-overlay-ac725066687a7254298a1-min.en-US.js\"},\"squarespace-product-quick-view\":{\"css\":\"//assets.squarespace.com/universal/styles-compressed/product-quick-view-5ecfaf9aeb530f7e2c5ac043ddf653c6-min.css\",\"js\":\"//assets.squarespace.com/universal/scripts-compressed/product-quick-view-360fe917c352b021e167f-min.en-US.js\"},\"squarespace-products-collection-item-v2\":{\"css\":\"//assets.squarespace.com/universal/styles-compressed/products-collection-item-v2-72b0ab7796582588032aa6472e2e2f14-min.css\",\"js\":\"//assets.squarespace.com/universal/scripts-compressed/products-collection-item-v2-828c2fbae302bd3e4fe16-min.en-US.js\"},\"squarespace-products-collection-list-v2\":{\"css\":\"//assets.squarespace.com/universal/styles-compressed/products-collection-list-v2-72b0ab7796582588032aa6472e2e2f14-min.css\",\"js\":\"//assets.squarespace.com/universal/scripts-compressed/products-collection-list-v2-a56ebf82a55eca05e1d4a-min.en-US.js\"},\"squarespace-search-page\":{\"css\":\"//assets.squarespace.com/universal/styles-compressed/search-page-207da8872118254c0a795bf9b187c205-min.css\",\"js\":\"//assets.squarespace.com/universal/scripts-compressed/search-page-6602d79410b7f792d11a2-min.en-US.js\"},\"squarespace-search-preview\":{\"js\":\"//assets.squarespace.com/universal/scripts-compressed/search-preview-3b311551129e90051ec85-min.en-US.js\"},\"squarespace-share-buttons\":{\"js\":\"//assets.squarespace.com/universal/scripts-compressed/share-buttons-a4826d3917e842a465593-min.en-US.js\"},\"squarespace-simple-liking\":{\"css\":\"//assets.squarespace.com/universal/styles-compressed/simple-liking-9ef41bf7ba753d65ec1acf18e093b88a-min.css\",\"js\":\"//assets.squarespace.com/universal/scripts-compressed/simple-liking-c6fa5e1a27d696ae0cdc8-min.en-US.js\"},\"squarespace-social-buttons\":{\"css\":\"//assets.squarespace.com/universal/styles-compressed/social-buttons-bf7788a87c794b73afd9d5c49f72f4f3-min.css\",\"js\":\"//assets.squarespace.com/universal/scripts-compressed/social-buttons-ae76486383db9f69c3b01-min.en-US.js\"},\"squarespace-tourdates\":{\"css\":\"//assets.squarespace.com/universal/styles-compressed/tourdates-d41d8cd98f00b204e9800998ecf8427e-min.css\",\"js\":\"//assets.squarespace.com/universal/scripts-compressed/tourdates-dfda9fc5f74ccfb5f00fa-min.en-US.js\"},\"squarespace-website-overlays-manager\":{\"css\":\"//assets.squarespace.com/universal/styles-compressed/website-overlays-manager-68df56a8135961401cbd590171d6b04a-min.css\",\"js\":\"//assets.squarespace.com/universal/scripts-compressed/website-overlays-manager-4f9ebe9decfd177843057-min.en-US.js\"}},\"pageType\":1,\"website\":{\"id\":\"5a396a0629f1878e76af48cd\",\"identifier\":\"jose-portilla-ds6e\",\"websiteType\":1,\"contentModifiedOn\":1514538498779,\"cloneable\":false,\"siteStatus\":{},\"language\":\"en-US\",\"timeZone\":\"America/Los_Angeles\",\"machineTimeZoneOffset\":-28800000,\"timeZoneOffset\":-28800000,\"timeZoneAbbr\":\"PST\",\"siteTitle\":\"The Gold Bugs\",\"fullSiteTitle\":\"Blog \\\\u2014 The Gold Bugs\",\"siteTagLine\":\"Listen Up.\",\"siteDescription\":\"<p>Welcome to the Gold Bug. Your journey begins now.</p>\",\"shareButtonOptions\":{\"3\":true,\"2\":true,\"1\":true,\"7\":true,\"5\":true,\"6\":true,\"4\":true,\"8\":true},\"authenticUrl\":\"https://www.thegoldbugs.com\",\"internalUrl\":\"https://jose-portilla-ds6e.squarespace.com\",\"baseUrl\":\"https://www.thegoldbugs.com\",\"primaryDomain\":\"www.thegoldbugs.com\",\"sslSetting\":3,\"isHstsEnabled\":false,\"socialAccounts\":[{\"serviceId\":4,\"userId\":\"943253355136139264\",\"userName\":\"TheGoldBugs\",\"screenname\":\"The Gold Bugs\",\"addedOn\":1513731304919,\"profileUrl\":\"https://twitter.com/TheGoldBugs\",\"iconUrl\":\"http://abs.twimg.com/sticky/default_profile_images/default_profile_normal.png\",\"collectionId\":\"5a39b4e8f09ca4b9a68250e1\",\"iconEnabled\":true,\"serviceName\":\"twitter\"}],\"typekitId\":\"\",\"statsMigrated\":false,\"imageMetadataProcessingEnabled\":false,\"screenshotId\":\"54603ba3\",\"showOwnerLogin\":false},\"websiteSettings\":{\"id\":\"5a396a0629f1878e76af48d0\",\"websiteId\":\"5a396a0629f1878e76af48cd\",\"subjects\":[],\"country\":\"US\",\"state\":\"CA\",\"simpleLikingEnabled\":true,\"mobileInfoBarSettings\":{\"isContactEmailEnabled\":false,\"isContactPhoneNumberEnabled\":false,\"isLocationEnabled\":false,\"isBusinessHoursEnabled\":false},\"commentLikesAllowed\":true,\"commentAnonAllowed\":true,\"commentThreaded\":true,\"commentApprovalRequired\":false,\"commentAvatarsOn\":true,\"commentSortType\":2,\"commentFlagThreshold\":0,\"commentFlagsAllowed\":true,\"commentEnableByDefault\":true,\"commentDisableAfterDaysDefault\":0,\"disqusShortname\":\"\",\"commentsEnabled\":false,\"storeSettings\":{\"returnPolicy\":null,\"termsOfService\":null,\"privacyPolicy\":null,\"expressCheckout\":false,\"continueShoppingLinkUrl\":\"/\",\"useLightCart\":false,\"showNoteField\":false,\"shippingCountryDefaultValue\":\"US\",\"billToShippingDefaultValue\":false,\"showShippingPhoneNumber\":true,\"isShippingPhoneRequired\":false,\"showBillingPhoneNumber\":true,\"isBillingPhoneRequired\":false,\"currenciesSupported\":[\"CHF\",\"HKD\",\"MXN\",\"EUR\",\"DKK\",\"USD\",\"CAD\",\"MYR\",\"NOK\",\"THB\",\"AUD\",\"SGD\",\"ILS\",\"PLN\",\"GBP\",\"CZK\",\"SEK\",\"NZD\",\"PHP\",\"RUB\"],\"defaultCurrency\":\"USD\",\"selectedCurrency\":\"USD\",\"measurementStandard\":1,\"showCustomCheckoutForm\":false,\"enableMailingListOptInByDefault\":false,\"sameAsRetailLocation\":false,\"merchandisingSettings\":{\"scarcityEnabledOnProductItems\":false,\"scarcityEnabledOnProductBlocks\":false,\"scarcityMessageType\":\"DEFAULT_SCARCITY_MESSAGE\",\"scarcityThreshold\":10,\"multipleQuantityAllowedForServices\":true,\"restockNotificationsEnabled\":false,\"restockNotificationsMailingListSignUpEnabled\":false,\"relatedProductsEnabled\":false,\"relatedProductsOrdering\":\"random\",\"soldOutVariantsDropdownDisabled\":false},\"isLive\":false,\"multipleQuantityAllowedForServices\":true},\"useEscapeKeyToLogin\":true,\"trialAssistantEnabled\":true,\"ssBadgeType\":1,\"ssBadgePosition\":4,\"ssBadgeVisibility\":1,\"ssBadgeDevices\":1,\"pinterestOverlayOptions\":{\"mode\":\"disabled\"},\"ampEnabled\":false},\"cookieSettings\":{\"isCookieBannerEnabled\":false,\"isRestrictiveCookiePolicyEnabled\":false,\"isRestrictiveCookiePolicyAbsolute\":false,\"cookieBannerText\":\"\",\"cookieBannerTheme\":\"\",\"cookieBannerVariant\":\"\",\"cookieBannerPosition\":\"\",\"cookieBannerCtaVariant\":\"\",\"cookieBannerCtaText\":\"\"},\"websiteCloneable\":false,\"collection\":{\"title\":\"Blog\",\"id\":\"5a45fa158165f5590339165b\",\"fullUrl\":\"/blog\",\"type\":1},\"subscribed\":false,\"appDomain\":\"squarespace.com\",\"templateTweakable\":true,\"tweakJSON\":{\"aspect-ratio\":\"Auto\",\"design\":\"Slideshow\",\"gallery-arrow-style\":\"No Background\",\"gallery-aspect-ratio\":\"3:2 Standard\",\"gallery-auto-crop\":\"true\",\"gallery-autoplay\":\"false\",\"gallery-controls\":\"Arrows\",\"gallery-design\":\"Grid\",\"gallery-info-overlay\":\"Show on Hover\",\"gallery-loop\":\"false\",\"gallery-navigation\":\"Bullets\",\"gallery-show-arrows\":\"true\",\"gallery-transitions\":\"Fade\",\"galleryArrowBackground\":\"rgba(34,34,34,1)\",\"galleryArrowColor\":\"rgba(255,255,255,1)\",\"galleryAutoplaySpeed\":\"3\",\"galleryCircleColor\":\"rgba(255,255,255,1)\",\"galleryInfoBackground\":\"rgba(0, 0, 0, .7)\",\"galleryThumbnailSize\":\"100px\",\"grid-aspect-ratio\":\"1:1 (Square)\",\"gridSize\":\"350px\",\"gridSpacing\":\"20px\",\"headerPadding\":\"30px\",\"homepage-index-nav\":\"Show On Scroll\",\"logoWidth\":\"140px\",\"product-gallery-auto-crop\":\"false\",\"product-image-auto-crop\":\"false\",\"siteTitleContainerWidth\":\"255px\",\"slideshow-aspect-ratio\":\"16:9 (Widescreen)\",\"slideshow-autoplay\":\"true\",\"slideshow-transition\":\"Fade\",\"tweak-v1-related-products-title-spacing\":\"50px\"},\"templateId\":\"52e96934e4b0ea14d0f64568\",\"templateVersion\":\"7\",\"pageFeatures\":[1,2,4],\"gmRenderKey\":\"QUl6YVN5Q0JUUk9xNkx1dkZfSUUxcjQ2LVQ0QWVUU1YtMGQ3bXk4\",\"betaFeatureFlags\":[\"ORDERS-SERVICE-check-digital-good-access-with-service\",\"ORDERS-SERVICE-reset-digital-goods-access-with-service\",\"ORDER_SERVICE-submit-giftcard-order-through-service\",\"dg_downloads_from_fastly\",\"generic_iframe_loader_for_campaigns\",\"donations_customer_accounts\",\"product-retriever-v2-enabled\",\"domain_registration_via_registrar_service\",\"domain_locking_via_registrar_service\",\"domain_deletion_via_registrar_service\",\"domain_info_via_registrar_service\",\"content_item_settings\",\"onboarding_wizard\",\"commerce_restock_notifications\",\"commerce_related_products\",\"commerce_bulk_manager\",\"newsletter_block_captcha\",\"new_billing_system\",\"seven_one_block_annotations\",\"seven_one_block_outlines\",\"gallery_settings_71\",\"commerce_onboarding_wizard\",\"seven_one_catalog_performance_improvements\"],\"yuiEliminationExperimentList\":[{\"name\":\"statsMigrationJobWidget-enabled\",\"experimentType\":\"AB_TEST\",\"variant\":\"true\",\"containsError\":false,\"status\":\"ACTIVE\"},{\"name\":\"ContributionConfirmed-enabled\",\"experimentType\":\"AB_TEST\",\"variant\":\"true\",\"containsError\":false,\"status\":\"ACTIVE\"},{\"name\":\"TextPusher-enabled\",\"experimentType\":\"AB_TEST\",\"variant\":\"true\",\"containsError\":false,\"status\":\"ACTIVE\"},{\"name\":\"MenuItemWithProgress-enabled\",\"experimentType\":\"AB_TEST\",\"variant\":\"true\",\"containsError\":false,\"status\":\"ACTIVE\"},{\"name\":\"billingNewsletters-enabled\",\"experimentType\":\"AB_TEST\",\"variant\":\"true\",\"containsError\":false,\"status\":\"ACTIVE\"},{\"name\":\"imageProcJobWidget-enabled\",\"experimentType\":\"AB_TEST\",\"variant\":\"true\",\"containsError\":false,\"status\":\"ACTIVE\"},{\"name\":\"QuantityChangePreview-enabled\",\"experimentType\":\"AB_TEST\",\"variant\":\"true\",\"containsError\":false,\"status\":\"ACTIVE\"},{\"name\":\"CompositeModel-enabled\",\"experimentType\":\"AB_TEST\",\"variant\":\"true\",\"containsError\":false,\"status\":\"ACTIVE\"},{\"name\":\"HasPusherMixin-enabled\",\"experimentType\":\"AB_TEST\",\"variant\":\"true\",\"containsError\":false,\"status\":\"INACTIVE\"},{\"name\":\"ProviderList-enabled\",\"experimentType\":\"AB_TEST\",\"variant\":\"true\",\"containsError\":false,\"status\":\"ACTIVE\"},{\"name\":\"MediaTracker-enabled\",\"experimentType\":\"AB_TEST\",\"variant\":\"false\",\"containsError\":false,\"status\":\"ACTIVE\"},{\"name\":\"pushJobWidget-enabled\",\"experimentType\":\"AB_TEST\",\"variant\":\"true\",\"containsError\":false,\"status\":\"ACTIVE\"},{\"name\":\"internal-enabled\",\"experimentType\":\"AB_TEST\",\"variant\":\"true\",\"containsError\":false,\"status\":\"ACTIVE\"},{\"name\":\"PopupOverlayEditor-enabled\",\"experimentType\":\"AB_TEST\",\"variant\":\"true\",\"containsError\":false,\"status\":\"ACTIVE\"},{\"name\":\"CoverPagePicker-enabled\",\"experimentType\":\"AB_TEST\",\"variant\":\"true\",\"containsError\":false,\"status\":\"ACTIVE\"}],\"impersonatedSession\":false,\"demoCollections\":[{\"collectionId\":\"542f3f0be4b0066f730c85de\",\"deleted\":false},{\"collectionId\":\"5409ee24e4b0c6cf504c646f\",\"deleted\":false},{\"collectionId\":\"5409efdae4b0c6cf504c67fb\",\"deleted\":false},{\"collectionId\":\"5433f167e4b07925192c20ca\",\"deleted\":false}],\"tzData\":{\"zones\":[[-480,\"US\",\"P%sT\",null]],\"rules\":{\"US\":[[1967,2006,null,\"Oct\",\"lastSun\",\"2:00\",\"0\",\"S\"],[1987,2006,null,\"Apr\",\"Sun>=1\",\"2:00\",\"1:00\",\"D\"],[2007,\"max\",null,\"Mar\",\"Sun>=8\",\"2:00\",\"1:00\",\"D\"],[2007,\"max\",null,\"Nov\",\"Sun>=1\",\"2:00\",\"0\",\"S\"]]}}};</script><script type=\"text/javascript\"> SquarespaceFonts.loadViaContext(); Squarespace.load(window);</script><link rel=\"alternate\" type=\"application/rss+xml\" title=\"RSS Feed\" href=\"https://www.thegoldbugs.com/blog?format=rss\" />\\n<script type=\"application/ld+json\">{\"url\":\"https://www.thegoldbugs.com\",\"name\":\"The Gold Bugs\",\"description\":\"<p>Welcome to the Gold Bug. Your journey begins now.</p>\",\"@context\":\"http://schema.org\",\"@type\":\"WebSite\"}</script><!--[if gte IE 9]> <link rel=\"stylesheet\" type=\"text/css\" href=\"//static1.squarespace.com/static/sitecss/5a396a0629f1878e76af48cd/2/52e96934e4b0ea14d0f64568/5a396a0629f1878e76af48e2/1123-05142015/1514538538813/site.css?&filterFeatures=false&part=1\"/><link rel=\"stylesheet\" type=\"text/css\" href=\"//static1.squarespace.com/static/sitecss/5a396a0629f1878e76af48cd/2/52e96934e4b0ea14d0f64568/5a396a0629f1878e76af48e2/1123-05142015/1514538538813/site.css?&filterFeatures=false&part=2\"/><link rel=\"stylesheet\" type=\"text/css\" href=\"//static1.squarespace.com/static/sitecss/5a396a0629f1878e76af48cd/2/52e96934e4b0ea14d0f64568/5a396a0629f1878e76af48e2/1123-05142015/1514538538813/site.css?&filterFeatures=false&part=3\"/><link rel=\"stylesheet\" type=\"text/css\" href=\"//static1.squarespace.com/static/sitecss/5a396a0629f1878e76af48cd/2/52e96934e4b0ea14d0f64568/5a396a0629f1878e76af48e2/1123-05142015/1514538538813/site.css?&filterFeatures=false&part=4\"/><![endif]-->\\n<!--[if lt IE 9]><link rel=\"stylesheet\" type=\"text/css\" href=\"//static1.squarespace.com/static/sitecss/5a396a0629f1878e76af48cd/2/52e96934e4b0ea14d0f64568/5a396a0629f1878e76af48e2/1123-05142015/1514538538813/site.css?&filterFeatures=false&noMedia=true&part=1\"/><link rel=\"stylesheet\" type=\"text/css\" href=\"//static1.squarespace.com/static/sitecss/5a396a0629f1878e76af48cd/2/52e96934e4b0ea14d0f64568/5a396a0629f1878e76af48e2/1123-05142015/1514538538813/site.css?&filterFeatures=false&noMedia=true&part=2\"/><link rel=\"stylesheet\" type=\"text/css\" href=\"//static1.squarespace.com/static/sitecss/5a396a0629f1878e76af48cd/2/52e96934e4b0ea14d0f64568/5a396a0629f1878e76af48e2/1123-05142015/1514538538813/site.css?&filterFeatures=false&noMedia=true&part=3\"/><link rel=\"stylesheet\" type=\"text/css\" href=\"//static1.squarespace.com/static/sitecss/5a396a0629f1878e76af48cd/2/52e96934e4b0ea14d0f64568/5a396a0629f1878e76af48e2/1123-05142015/1514538538813/site.css?&filterFeatures=false&noMedia=true&part=4\"/><![endif]-->\\n<!--[if !IE]> --><link rel=\"stylesheet\" type=\"text/css\" href=\"//static1.squarespace.com/static/sitecss/5a396a0629f1878e76af48cd/2/52e96934e4b0ea14d0f64568/5a396a0629f1878e76af48e2/1123-05142015/1514538538813/site.css?&filterFeatures=false\"/><!-- <![endif]-->\\n<script>Static.COOKIE_BANNER_CAPABLE = true;</script>\\n<!-- End of Squarespace Headers -->\\n    <script>/* Must be below squarespace-headers */(function(){var touchTest=\"ontouchstart\"in window||navigator.msMaxTouchPoints;if(!touchTest){with(document.documentElement){className=className.replace(new RegExp(\"touch-styles\"),\"\")}}})()</script>\\n  </head>\\n  \\n  <body id=\"collection-5a45fa158165f5590339165b\" class=\"transparent-header  expand-homepage-index-links homepage-index-nav-show-on-scroll show-page-title index-section-separation-border design-slideshow grid-aspect-ratio-11-square grid-max-columns-four slideshow-aspect-ratio-169-widescreen slideshow-transition-fade slideshow-autoplay gallery-controls-arrows gallery-controls-color-light  meta-priority-date hide-entry-author  pre-footer-content-custom   show-category-navigation hide-album-share-link   event-thumbnails event-thumbnail-size-32-standard event-date-label event-date-label-time event-list-show-cats event-list-date event-list-time event-list-address   event-icalgcal-links  event-excerpts  event-item-back-link    gallery-design-grid aspect-ratio-auto lightbox-style-dark gallery-navigation-bullets gallery-info-overlay-show-on-hover gallery-aspect-ratio-32-standard gallery-arrow-style-no-background gallery-transitions-fade gallery-show-arrows gallery-auto-crop   product-list-titles-under product-list-alignment-center product-item-size-11-square  product-gallery-size-11-square  show-product-price show-product-item-nav  tweak-v1-related-products-image-aspect-ratio-11-square tweak-v1-related-products-details-alignment-center newsletter-style-dark hide-opentable-icons opentable-style-dark small-button-style-outline small-button-shape-square medium-button-style-outline medium-button-shape-square large-button-style-outline large-button-shape-square image-block-poster-text-alignment-center image-block-card-dynamic-font-sizing image-block-card-content-position-center image-block-card-text-alignment-left image-block-overlap-dynamic-font-sizing image-block-overlap-content-position-center image-block-overlap-text-alignment-left image-block-collage-dynamic-font-sizing image-block-collage-content-position-top image-block-collage-text-alignment-left image-block-stack-dynamic-font-sizing image-block-stack-text-alignment-left button-style-outline button-corner-style-square tweak-product-quick-view-button-style-floating tweak-product-quick-view-button-position-bottom tweak-product-quick-view-lightbox-excerpt-display-truncate tweak-product-quick-view-lightbox-show-arrows tweak-product-quick-view-lightbox-show-close-button tweak-product-quick-view-lightbox-controls-weight-light native-currency-code-usd collection-5a45fa158165f5590339165b collection-type-blog collection-layout-default view-list mobile-style-available collection-blog\">\\n\\n    <div id=\"site\">\\n\\n      <input type=\"checkbox\" name=\"mobile-nav-toggle\" id=\"mobileNavToggle\" class=\"mobile-nav-toggle-box hidden\" />\\n\\n      <div id=\"overlayNav\">\\n        \\n\\n  <div id=\"mobileNavWrapper\" class=\"nav-wrapper\">\\n    <nav id=\"mobileNavigation\">\\n      \\n        \\n          \\n            \\n              \\n                \\n                  \\n                    \\n                    <div class=\"index home\">\\n                      <a href=\"/#home-section\">\\n                        Home\\n                      </a>\\n                    </div>\\n                    \\n                  \\n                \\n                  \\n                    \\n                    <div class=\"index home\">\\n                      <a href=\"/#band-section\">\\n                        Band\\n                      </a>\\n                    </div>\\n                    \\n                  \\n                \\n                  \\n                    \\n                    <div class=\"index home\">\\n                      <a href=\"/#thank-you-section\">\\n                        Thank You\\n                      </a>\\n                    </div>\\n                    \\n                  \\n                \\n              \\n              <div class=\"index base\">\\n                <a href=\"/\">\\n                  Welcome\\n                </a>\\n              </div>\\n            \\n          \\n        \\n\\n      \\n\\n\\n      \\n    </nav>\\n  </div>\\n\\n\\n      </div>\\n\\n      <header id=\"header\" role=\"banner\">\\n        <div class=\"header-inner\">\\n          <div id=\"siteTitleWrapper\" class=\"title-logo-wrapper\" data-content-field=\"site-title\">\\n            \\n              <h1 id=\"siteTitle\" class=\"site-title tmpl-loading\"><a href=\"/\">The Gold Bugs</a></h1>\\n            \\n          </div><!-- comment the linebreak between these two elements because science\\n          --><label for=\"mobileNavToggle\" class=\"mobile-nav-toggle-label show-on-scroll-mobile\"><div class=\"top-bar\"></div><div class=\"middle-bar\"></div><div class=\"bottom-bar\"></div></label><!-- comment the linebreak between these two elements because science\\n          --><div id=\"headerNav\" class=\"tmpl-loading\" >\\n\\n  <div id=\"mainNavWrapper\" class=\"nav-wrapper desktop-nav-wrapper show-on-scroll\">\\n    <nav id=\"mainNavigation\" data-content-field=\"navigation\" >\\n      \\n        \\n          \\n            \\n              \\n                \\n                  \\n                    \\n                    <div class=\"index home\">\\n                      <a href=\"/#home-section\">\\n                        Home\\n                      </a>\\n                    </div>\\n                    \\n                  \\n                \\n                  \\n                    \\n                    <div class=\"index home\">\\n                      <a href=\"/#band-section\">\\n                        Band\\n                      </a>\\n                    </div>\\n                    \\n                  \\n                \\n                  \\n                    \\n                    <div class=\"index home\">\\n                      <a href=\"/#thank-you-section\">\\n                        Thank You\\n                      </a>\\n                    </div>\\n                    \\n                  \\n                \\n              \\n              <div class=\"index base\">\\n                <a href=\"/\">\\n                  Welcome\\n                </a>\\n              </div>\\n            \\n          \\n        \\n\\n      \\n\\n      \\n    </nav>\\n  </div>\\n  <!-- style below blocks out the mobile nav toggle only when nav is loaded -->\\n  <style>.mobile-nav-toggle-label { display: inline-block; }</style>\\n\\n\\n</div>\\n        </div>\\n      </header>\\n\\n      <div id=\"siteWrapper\" class=\"clearfix\">\\n\\n        <!-- Banner -->\\n        \\n          \\n            \\n              \\n                \\n              \\n            \\n          \\n        \\n\\n        \\n        \\n\\n        <main id=\"page\" role=\"main\">\\n          <div id=\"content\" class=\"main-content\" data-content-field=\"main-content\" data-collection-id=\"5a45fa158165f5590339165b\" data-edit-main-image=\"Banner\">\\n\\n            \\n              \\n\\n              <!-- BLOG CATEGORY NAV -->\\n            \\n\\n           <div class=\"blog-list clear\" data-collection-id=\"5a45fa158165f5590339165b\">\\n\\n  \\n  <article class=\"entry h-entry hentry author-jose-portilla post-type-text article-index-1\" id=\"article-5a45fa2f41920273bece125b\" data-item-id=\"5a45fa2f41920273bece125b\">\\n\\n    <header class=\"entry-header\">\\n      <div class=\"meta-above-title\">\\n        <div class=\"entry-dateline\">\\n          <time class=\"dt-published published entry-date\" datetime=\"2017-12-29\" pubdate><a href=\"/blog/2017/12/29/every-third-letter-is-the-path-to-the-truth\" class=\"entry-dateline-link\">December 29, 2017</a></time>\\n          <time class=\"dt-updated updated\" datetime=\"2018-01-21\"></time>\\n        </div>\\n        \\n        <div class=\"entry-byline\">\\n          <span class=\"entry-author vcard\"><a href=\"/blog?author=5a396a056f935e3b05e264d1\" class=\"p-author author url fn entry-byline-link\" rel=\"author\">Jose Portilla</a></span>\\n        </div>\\n        \\n        \\n      </div>\\n      <h1 data-content-field=\"title\" class=\"entry-title entry-title-list p-name\">\\n      \\n        <a href=\"/blog/2017/12/29/every-third-letter-is-the-path-to-the-truth\" class=\"u-url\" rel=\"bookmark\">Grab Every First Character after each -----</a>\\n      \\n      </h1>\\n      <div class=\"meta-below-title\">\\n        \\n        <div class=\"entry-dateline\">\\n          <time class=\"dt-published published entry-date\" datetime=\"2017-12-29\" pubdate><a href=\"/blog/2017/12/29/every-third-letter-is-the-path-to-the-truth\" class=\"entry-dateline-link\">December 29, 2017</a></time>\\n          <time class=\"dt-updated updated\" datetime=\"2018-01-21\"></time>\\n        </div>\\n        <div class=\"entry-byline\">\\n          <span class=\"entry-author vcard\"><a href=\"/blog?author=5a396a056f935e3b05e264d1\" class=\"p-author author url fn entry-byline-link\" rel=\"author\">Jose Portilla</a></span>\\n        </div>\\n        \\n        \\n      </div>\\n    </header>\\n\\n    <div class=\"entry-content\">\\n      \\n        \\n          <div class=\"e-content\"><div class=\"sqs-layout sqs-grid-12 columns-12\" data-layout-label=\"Post Body\" data-type=\"item\" data-updated-on=\"1514535492181\" id=\"item-5a45fa2f41920273bece125b\"><div class=\"row sqs-row\"><div class=\"col sqs-col-12 span-12\"><div class=\"sqs-block html-block sqs-block-html\" data-block-type=\"2\" id=\"block-yui_3_17_2_1_1515028545195_12753\"><div class=\"sqs-block-content\"><pre>-----hdipiscing rhoncus massaphasellus magnis delenit no, ligula tempor massapellentesque tortorcurabitur enim ex leopraesent.-----tectus urnamorbi telluspraesent nisl, maecenas aptent conubia.-----tondonec aliquam duo fames nullam minim accumsannulla, massaphasellus quisaenean sempermorbi conubia lectus.-----piaminteger, elit facilisis vestibulumnulla aliquet egestasmauris quisaenean.-----sabore a ut iaculis, montes tempor dapibusnam est mi nisised.-----:um doming aliquammauris congue class sadipscing, risus nisi quammaecenas felissed.-----/ation vestibulum accusam nequeetiam feugiat, rutrum aliquammauris ultricies varius dis.-----/urpis nisl duis interdumdonec himenaeos, elitr tincidunt semper molestie bibendumin veniam.-----dnterdumdonec malesuada cubilia.-----rinulla libero congue.-----iictum luptatum eum, duis eos esse consequatduis tellus enim nullasuspendisse.-----veugait hac ut potenti euismod.-----eiam fermentumfusce aliquammauris leopraesent erat, purusvestibulum aliquip ac quam inceptos delenit morbi lorem vero egestasmauris.-----.apibusnam facilisisproin donec laoreetphasellus quammaecenas.-----giaminteger platea nullamauris.-----oempermorbi enimsed soluta arcumorbi.-----oraesent quisaenean tortor varius dictumst cras, aaenean ullamcorper nullam lobortis fermentum possim minulla congue ipsum.-----gonsequatduis possim massa cras te, facilisinam enim lobortisetiam.-----llitduis tempor feugiat labore wisi nonumy, consectetur pulvinar risusdonec tortor.-----eeugait liber enimaliquam.-----.ristique possim.-----canctus magnainteger elitr, ea dictumst sollicitudin pharetra malesuada ut.-----oacer eu duimauris mattis ex dictum, lobortisetiam liberoduis fames nonumy pellentesque senectus massaphasellus.-----migula esse, nostra nostrud egestasmauris feliscras habitant accusam suscipit.-----/nceptos posuere nonummy vestibulumnulla duimauris laoreetphasellus ipsumcurabitur, qui nondonec ornare sed phasellus mattis.-----onim ullamcorper lobortisetiam leo.-----pihil iriure consequat elitr nibh.-----eodales faucibus minulla.-----napibusnam bibendumin ac, facilisisproin eu aaenean purusvestibulum possim risus lacusut laoreet.-----?rcumorbi euismod tristique aptent malesuadanullam quisque, ultriciespellentesque accusam convallis mi platea duo.-----iation rutrum feugiat magnapraesent felissed.-----dit accusam, dapibus vulputate lacus montes consecteturpraesent eirmod lectus.-----=celerisque dis aliquet elitnunc.-----1ortorvestibulum autem auctor blandit aliquam sanctus.-----kestibulumnulla orci dis, purusvestibulum elementum dui laoreet.-----4ursus exerci quisaenean urna.-----uhoncusmaecenas mattis zzril nequeetiam soluta id, class clita cum faucibusvestibulum lacus molestie veniam telluspraesent mus.-----Uoluptua esse nonumy suspendisse consetetur, eos senectus zzril gravida nascetur lacus volutpat.-----9igula in sempermorbi, urnamorbi felis qui aliquip vehicula.-----lliquyam nobis esse sociosqu, eleifend felissed voluptua pulvinarvestibulum per.-----6ociosqu vehicula elitduis adipiscing et, faucibusvestibulum facilisis pharetra.-----Garius imperdietaliquam aliquet nobis justocras proin, mipellentesque litora urna sem possim.-----1ubergren class cursus ex takimata mauris, suscipit metus nisl rebum blandit labore.-----9ebum mazim.-----Qagittis a turpis laoreet erosin takimata, ac cum possim eu facilisicurabitur massa elitduis taciti.-----4ltricies consequatduis purusvestibulum primis, nondonec felis ligula dapibus blandit metusdonec.-----hagittis risus velit no nonumy, erat pellentesque sed leopraesent egestasmauris.-----Permentum sollicitudin est dolores.-----wuptatum quam.-----maucibus natoque.-----jxerci donec aliquyam purus.-----Hongue condimentum minulla.-----sempermorbi aliquip minulla, vestibulum vero ligula elitr feugait.-----Nnterdumdonec aliquammauris habitant.-----Luammaecenas risus quis auctor rebum, dapibusnam per id feliscras risusdonec eu.-----del urna dolor sociis metusdonec, condimentum elitvivamus tempus volutpat vestibulum.-----Puisque elitvivamus zzril.-----vurae mauris lacusnulla sodales, ridiculus iusto aaenean eos possim urna.-----nuis nisl justocras porta facilisisat.-----Kollicitudin pulvinarvestibulum diaminteger, aliquammauris at nostrud viverra egestas.-----sincidunt mollis placerat nunc massaphasellus mauris.-----7itae iaculis conguenulla ametduis purusvestibulum.-----Yidiculus tortorvestibulum quisaenean.-----jehicula wisi bibendumfusce, antesuspendisse minim facilisi at aliquam molestie feliscras invidunt.-----Naoreetphasellus antesuspendisse turpis, tempor ridiculus blandit vivamus ipsum pulvinar.-----oeo temporsuspendisse minulla, laoreet consectetuer ligula vestibulum vestibulumnulla.-----xpsum sanctus sociosqu, clita curae risusdonec rhoncusmaecenas facer morbi veniam.-----Jollicitudin sed facilisisat egestas mi, duis eros quam venenatis posuere takimata nibh.-----Lltrices nullamauris delenit magnainteger parturient, vestibulum rebum placerat ultricies soluta consetetur in orci aliquet.-----kx aliquammauris himenaeos sagittis.-----Tortor laoreet conubia temporsuspendisse consecteturpraesent.-----5ullasuspendisse platea urna felis nonumy risusdonec.-----Oatoque ametduis ultriciespellentesque, eratproin orci ipsum elitr.-----yaoreet lobortisetiam sapien viverra, lorem labore fringilla sempermorbi dapibus.-----4asd maurisaenean ipsum sempermorbi muspellentesque est, consecteturpraesent ultricies fringilla massa.-----uassapellentesque duo erat fringilla scelerisque luctus tortorcurabitur mauris, justocras auctormauris inceptos bibendum pharetra est eos.-----4acilisinam turpis tempus mollis, diaminteger magnainteger hendrerit.</pre></div></div></div></div></div></div>\\n        \\n      \\n    </div>\\n\\n    <footer class=\"entry-footer clear\">\\n      <div class=\"meta-below-content\">\\n        \\n        <div class=\"entry-dateline\">\\n          <time class=\"dt-published published entry-date\" datetime=\"2017-12-29\" pubdate><a href=\"/blog/2017/12/29/every-third-letter-is-the-path-to-the-truth\" class=\"entry-dateline-link\">December 29, 2017</a></time>\\n          <time class=\"dt-updated updated\" datetime=\"2018-01-21\"></time>\\n        </div>\\n        <div class=\"entry-byline\">\\n          <span class=\"entry-author\"><a href=\"/blog?author=5a396a056f935e3b05e264d1\" class=\"p-author author entry-byline-link\" rel=\"author\">Jose Portilla</a></span>\\n        </div>\\n        \\n        \\n      </div>\\n      \\n      \\n      <div class=\"entry-actions\">\\n        \\n  <span class=\"sqs-simple-like\" data-item-id=\"5a45fa2f41920273bece125b\" data-like-count=\"83\">\\n    <span class=\"like-icon\"></span>\\n    <span class=\"like-count\"></span>\\n  </span>\\n\\n<span class=\"squarespace-social-buttons inline-style\" data-system-data-id=\"\" data-asset-url=\"https://static1.squarespace.com/static/5a396a0629f1878e76af48cd/5a45fa158165f5590339165b/5a45fa2f41920273bece125b/1516569760012/\" data-record-type=\"1\" data-full-url=\"/blog/2017/12/29/every-third-letter-is-the-path-to-the-truth\" data-title=\"Grab Every First Character after each -----\"></span>\\n      </div>\\n    </footer>\\n\\n    \\n\\n  </article>\\n  \\n\\n  \\n\\n</div>\\n          </div>\\n        </main>\\n\\n        <div id=\"preFooter\">\\n          <div class=\"pre-footer-inner with-custom\">\\n  <div class=\"sqs-layout sqs-grid-12 columns-12 empty\" data-layout-label=\"Pre-Footer Content\" data-type=\"block-field\" data-updated-on=\"1412365894482\" id=\"preFooterBlocks\"><div class=\"row sqs-row\"><div class=\"col sqs-col-12 span-12\"></div></div></div>\\n</div>\\n\\n        </div>\\n\\n        <footer id=\"footer\" role=\"contentinfo\">\\n          <div class=\"footer-inner\">\\n            <div class=\"nav-wrapper back-to-top-nav\"><nav><div class=\"back-to-top\"><a href=\"#header\">Back To Top</a></div></nav></div>\\n            <div id=\"secondaryNavWrapper\" class=\"nav-wrapper desktop-nav-wrapper\">\\n  <nav id=\"secondaryNavigation\" data-content-field=\"navigation\" >\\n    \\n      \\n        \\n\\n        \\n\\n          \\n          <div class=\"collection active\" id=\"id5a45fa158165f5590339165b\">\\n            <a href=\"/blog\">\\n              <span>Blog</span>\\n            </a>\\n          </div>\\n          \\n\\n        \\n      \\n      \\n\\n    \\n  </nav>\\n</div>\\n\\n\\n            \\n            <div class=\"sqs-layout sqs-grid-12 columns-12\" data-layout-label=\"Footer Content\" data-type=\"block-field\" data-updated-on=\"1513731239127\" id=\"footerBlocks\"><div class=\"row sqs-row\"><div class=\"col sqs-col-12 span-12\"><div class=\"sqs-block socialaccountlinks-v2-block sqs-block-socialaccountlinks-v2\" data-block-type=\"54\" id=\"block-yui_3_17_2_1_1410974958450_4735\"><div class=\"sqs-block-content\">\\n\\n<div class=\"sqs-svg-icon--outer social-icon-alignment-center social-icons-color-white social-icons-size-medium social-icons-style-regular \" >\\n  <nav class=\"sqs-svg-icon--list\">\\n    <a href=\"https://twitter.com/TheGoldBugs\" target=\"_blank\" class=\"sqs-svg-icon--wrapper twitter\">\\n      <div>\\n        <svg class=\"sqs-svg-icon--social\" viewBox=\"0 0 64 64\">\\n          <use class=\"sqs-use--icon\" xlink:href=\"#twitter-icon\"></use>\\n          <use class=\"sqs-use--mask\" xlink:href=\"#twitter-mask\"></use>\\n        </svg>\\n      </div>\\n    </a>\\n  </nav>\\n</div></div></div></div></div></div>\\n          </div>\\n        </footer>\\n\\n        \\n\\n      </div>\\n    </div>\\n\\n    <script src=\"https://static1.squarespace.com/static/ta/52e968b5e4b04d2aa2a3bba3/1123/scripts/site-bundle.js\" type=\"text/javascript\"></script>\\n\\n    <script type=\"text/javascript\" data-sqs-type=\"imageloader-bootstrapper\">(function() {if(window.ImageLoader) { window.ImageLoader.bootstrap({}, document); }})();</script><script>Squarespace.afterBodyLoad(Y);</script><svg xmlns=\"http://www.w3.org/2000/svg\" version=\"1.1\" style=\"display:none\" data-usage=\"social-icons-svg\"><symbol id=\"twitter-icon\" viewBox=\"0 0 64 64\"><path d=\"M48,22.1c-1.2,0.5-2.4,0.9-3.8,1c1.4-0.8,2.4-2.1,2.9-3.6c-1.3,0.8-2.7,1.3-4.2,1.6 C41.7,19.8,40,19,38.2,19c-3.6,0-6.6,2.9-6.6,6.6c0,0.5,0.1,1,0.2,1.5c-5.5-0.3-10.3-2.9-13.5-6.9c-0.6,1-0.9,2.1-0.9,3.3 c0,2.3,1.2,4.3,2.9,5.5c-1.1,0-2.1-0.3-3-0.8c0,0,0,0.1,0,0.1c0,3.2,2.3,5.8,5.3,6.4c-0.6,0.1-1.1,0.2-1.7,0.2c-0.4,0-0.8,0-1.2-0.1 c0.8,2.6,3.3,4.5,6.1,4.6c-2.2,1.8-5.1,2.8-8.2,2.8c-0.5,0-1.1,0-1.6-0.1c2.9,1.9,6.4,2.9,10.1,2.9c12.1,0,18.7-10,18.7-18.7 c0-0.3,0-0.6,0-0.8C46,24.5,47.1,23.4,48,22.1z\"/></symbol><symbol id=\"twitter-mask\" viewBox=\"0 0 64 64\"><path d=\"M0,0v64h64V0H0z M44.7,25.5c0,0.3,0,0.6,0,0.8C44.7,35,38.1,45,26.1,45c-3.7,0-7.2-1.1-10.1-2.9 c0.5,0.1,1,0.1,1.6,0.1c3.1,0,5.9-1,8.2-2.8c-2.9-0.1-5.3-2-6.1-4.6c0.4,0.1,0.8,0.1,1.2,0.1c0.6,0,1.2-0.1,1.7-0.2 c-3-0.6-5.3-3.3-5.3-6.4c0,0,0-0.1,0-0.1c0.9,0.5,1.9,0.8,3,0.8c-1.8-1.2-2.9-3.2-2.9-5.5c0-1.2,0.3-2.3,0.9-3.3 c3.2,4,8.1,6.6,13.5,6.9c-0.1-0.5-0.2-1-0.2-1.5c0-3.6,2.9-6.6,6.6-6.6c1.9,0,3.6,0.8,4.8,2.1c1.5-0.3,2.9-0.8,4.2-1.6 c-0.5,1.5-1.5,2.8-2.9,3.6c1.3-0.2,2.6-0.5,3.8-1C47.1,23.4,46,24.5,44.7,25.5z\"/></symbol></svg>\\n\\n  </body>\\n</html>\\n'"
            ]
          },
          "metadata": {
            "tags": []
          },
          "execution_count": 4
        }
      ]
    },
    {
      "cell_type": "code",
      "metadata": {
        "id": "4j88fVquiY2z",
        "colab_type": "code",
        "colab": {}
      },
      "source": [
        "soup = bs4.BeautifulSoup(res.text , 'lxml')"
      ],
      "execution_count": 0,
      "outputs": []
    },
    {
      "cell_type": "code",
      "metadata": {
        "id": "gy2LhqK4iZAd",
        "colab_type": "code",
        "colab": {
          "base_uri": "https://localhost:8080/",
          "height": 294
        },
        "outputId": "ca0011bd-2996-49e6-cb8a-15394bb6ce55"
      },
      "source": [
        "soup.select(\".sqs-block-content\")"
      ],
      "execution_count": 6,
      "outputs": [
        {
          "output_type": "execute_result",
          "data": {
            "text/plain": [
              "[<div class=\"sqs-block-content\"><pre>-----hdipiscing rhoncus massaphasellus magnis delenit no, ligula tempor massapellentesque tortorcurabitur enim ex leopraesent.-----tectus urnamorbi telluspraesent nisl, maecenas aptent conubia.-----tondonec aliquam duo fames nullam minim accumsannulla, massaphasellus quisaenean sempermorbi conubia lectus.-----piaminteger, elit facilisis vestibulumnulla aliquet egestasmauris quisaenean.-----sabore a ut iaculis, montes tempor dapibusnam est mi nisised.-----:um doming aliquammauris congue class sadipscing, risus nisi quammaecenas felissed.-----/ation vestibulum accusam nequeetiam feugiat, rutrum aliquammauris ultricies varius dis.-----/urpis nisl duis interdumdonec himenaeos, elitr tincidunt semper molestie bibendumin veniam.-----dnterdumdonec malesuada cubilia.-----rinulla libero congue.-----iictum luptatum eum, duis eos esse consequatduis tellus enim nullasuspendisse.-----veugait hac ut potenti euismod.-----eiam fermentumfusce aliquammauris leopraesent erat, purusvestibulum aliquip ac quam inceptos delenit morbi lorem vero egestasmauris.-----.apibusnam facilisisproin donec laoreetphasellus quammaecenas.-----giaminteger platea nullamauris.-----oempermorbi enimsed soluta arcumorbi.-----oraesent quisaenean tortor varius dictumst cras, aaenean ullamcorper nullam lobortis fermentum possim minulla congue ipsum.-----gonsequatduis possim massa cras te, facilisinam enim lobortisetiam.-----llitduis tempor feugiat labore wisi nonumy, consectetur pulvinar risusdonec tortor.-----eeugait liber enimaliquam.-----.ristique possim.-----canctus magnainteger elitr, ea dictumst sollicitudin pharetra malesuada ut.-----oacer eu duimauris mattis ex dictum, lobortisetiam liberoduis fames nonumy pellentesque senectus massaphasellus.-----migula esse, nostra nostrud egestasmauris feliscras habitant accusam suscipit.-----/nceptos posuere nonummy vestibulumnulla duimauris laoreetphasellus ipsumcurabitur, qui nondonec ornare sed phasellus mattis.-----onim ullamcorper lobortisetiam leo.-----pihil iriure consequat elitr nibh.-----eodales faucibus minulla.-----napibusnam bibendumin ac, facilisisproin eu aaenean purusvestibulum possim risus lacusut laoreet.-----?rcumorbi euismod tristique aptent malesuadanullam quisque, ultriciespellentesque accusam convallis mi platea duo.-----iation rutrum feugiat magnapraesent felissed.-----dit accusam, dapibus vulputate lacus montes consecteturpraesent eirmod lectus.-----=celerisque dis aliquet elitnunc.-----1ortorvestibulum autem auctor blandit aliquam sanctus.-----kestibulumnulla orci dis, purusvestibulum elementum dui laoreet.-----4ursus exerci quisaenean urna.-----uhoncusmaecenas mattis zzril nequeetiam soluta id, class clita cum faucibusvestibulum lacus molestie veniam telluspraesent mus.-----Uoluptua esse nonumy suspendisse consetetur, eos senectus zzril gravida nascetur lacus volutpat.-----9igula in sempermorbi, urnamorbi felis qui aliquip vehicula.-----lliquyam nobis esse sociosqu, eleifend felissed voluptua pulvinarvestibulum per.-----6ociosqu vehicula elitduis adipiscing et, faucibusvestibulum facilisis pharetra.-----Garius imperdietaliquam aliquet nobis justocras proin, mipellentesque litora urna sem possim.-----1ubergren class cursus ex takimata mauris, suscipit metus nisl rebum blandit labore.-----9ebum mazim.-----Qagittis a turpis laoreet erosin takimata, ac cum possim eu facilisicurabitur massa elitduis taciti.-----4ltricies consequatduis purusvestibulum primis, nondonec felis ligula dapibus blandit metusdonec.-----hagittis risus velit no nonumy, erat pellentesque sed leopraesent egestasmauris.-----Permentum sollicitudin est dolores.-----wuptatum quam.-----maucibus natoque.-----jxerci donec aliquyam purus.-----Hongue condimentum minulla.-----sempermorbi aliquip minulla, vestibulum vero ligula elitr feugait.-----Nnterdumdonec aliquammauris habitant.-----Luammaecenas risus quis auctor rebum, dapibusnam per id feliscras risusdonec eu.-----del urna dolor sociis metusdonec, condimentum elitvivamus tempus volutpat vestibulum.-----Puisque elitvivamus zzril.-----vurae mauris lacusnulla sodales, ridiculus iusto aaenean eos possim urna.-----nuis nisl justocras porta facilisisat.-----Kollicitudin pulvinarvestibulum diaminteger, aliquammauris at nostrud viverra egestas.-----sincidunt mollis placerat nunc massaphasellus mauris.-----7itae iaculis conguenulla ametduis purusvestibulum.-----Yidiculus tortorvestibulum quisaenean.-----jehicula wisi bibendumfusce, antesuspendisse minim facilisi at aliquam molestie feliscras invidunt.-----Naoreetphasellus antesuspendisse turpis, tempor ridiculus blandit vivamus ipsum pulvinar.-----oeo temporsuspendisse minulla, laoreet consectetuer ligula vestibulum vestibulumnulla.-----xpsum sanctus sociosqu, clita curae risusdonec rhoncusmaecenas facer morbi veniam.-----Jollicitudin sed facilisisat egestas mi, duis eros quam venenatis posuere takimata nibh.-----Lltrices nullamauris delenit magnainteger parturient, vestibulum rebum placerat ultricies soluta consetetur in orci aliquet.-----kx aliquammauris himenaeos sagittis.-----Tortor laoreet conubia temporsuspendisse consecteturpraesent.-----5ullasuspendisse platea urna felis nonumy risusdonec.-----Oatoque ametduis ultriciespellentesque, eratproin orci ipsum elitr.-----yaoreet lobortisetiam sapien viverra, lorem labore fringilla sempermorbi dapibus.-----4asd maurisaenean ipsum sempermorbi muspellentesque est, consecteturpraesent ultricies fringilla massa.-----uassapellentesque duo erat fringilla scelerisque luctus tortorcurabitur mauris, justocras auctormauris inceptos bibendum pharetra est eos.-----4acilisinam turpis tempus mollis, diaminteger magnainteger hendrerit.</pre></div>,\n",
              " <div class=\"sqs-block-content\">\n",
              " <div class=\"sqs-svg-icon--outer social-icon-alignment-center social-icons-color-white social-icons-size-medium social-icons-style-regular \">\n",
              " <nav class=\"sqs-svg-icon--list\">\n",
              " <a class=\"sqs-svg-icon--wrapper twitter\" href=\"https://twitter.com/TheGoldBugs\" target=\"_blank\">\n",
              " <div>\n",
              " <svg class=\"sqs-svg-icon--social\" viewbox=\"0 0 64 64\">\n",
              " <use class=\"sqs-use--icon\" xlink:href=\"#twitter-icon\"></use>\n",
              " <use class=\"sqs-use--mask\" xlink:href=\"#twitter-mask\"></use>\n",
              " </svg>\n",
              " </div>\n",
              " </a>\n",
              " </nav>\n",
              " </div></div>]"
            ]
          },
          "metadata": {
            "tags": []
          },
          "execution_count": 6
        }
      ]
    },
    {
      "cell_type": "code",
      "metadata": {
        "id": "fudxgX16iY9s",
        "colab_type": "code",
        "colab": {}
      },
      "source": [
        "clue = soup.select(\"pre\")[0].get_text()"
      ],
      "execution_count": 0,
      "outputs": []
    },
    {
      "cell_type": "code",
      "metadata": {
        "id": "x7uNrdhviY8d",
        "colab_type": "code",
        "colab": {
          "base_uri": "https://localhost:8080/",
          "height": 55
        },
        "outputId": "b54f5271-9f0e-445c-b81b-f938c218852a"
      },
      "source": [
        "print(clue)"
      ],
      "execution_count": 11,
      "outputs": [
        {
          "output_type": "stream",
          "text": [
            "-----hdipiscing rhoncus massaphasellus magnis delenit no, ligula tempor massapellentesque tortorcurabitur enim ex leopraesent.-----tectus urnamorbi telluspraesent nisl, maecenas aptent conubia.-----tondonec aliquam duo fames nullam minim accumsannulla, massaphasellus quisaenean sempermorbi conubia lectus.-----piaminteger, elit facilisis vestibulumnulla aliquet egestasmauris quisaenean.-----sabore a ut iaculis, montes tempor dapibusnam est mi nisised.-----:um doming aliquammauris congue class sadipscing, risus nisi quammaecenas felissed.-----/ation vestibulum accusam nequeetiam feugiat, rutrum aliquammauris ultricies varius dis.-----/urpis nisl duis interdumdonec himenaeos, elitr tincidunt semper molestie bibendumin veniam.-----dnterdumdonec malesuada cubilia.-----rinulla libero congue.-----iictum luptatum eum, duis eos esse consequatduis tellus enim nullasuspendisse.-----veugait hac ut potenti euismod.-----eiam fermentumfusce aliquammauris leopraesent erat, purusvestibulum aliquip ac quam inceptos delenit morbi lorem vero egestasmauris.-----.apibusnam facilisisproin donec laoreetphasellus quammaecenas.-----giaminteger platea nullamauris.-----oempermorbi enimsed soluta arcumorbi.-----oraesent quisaenean tortor varius dictumst cras, aaenean ullamcorper nullam lobortis fermentum possim minulla congue ipsum.-----gonsequatduis possim massa cras te, facilisinam enim lobortisetiam.-----llitduis tempor feugiat labore wisi nonumy, consectetur pulvinar risusdonec tortor.-----eeugait liber enimaliquam.-----.ristique possim.-----canctus magnainteger elitr, ea dictumst sollicitudin pharetra malesuada ut.-----oacer eu duimauris mattis ex dictum, lobortisetiam liberoduis fames nonumy pellentesque senectus massaphasellus.-----migula esse, nostra nostrud egestasmauris feliscras habitant accusam suscipit.-----/nceptos posuere nonummy vestibulumnulla duimauris laoreetphasellus ipsumcurabitur, qui nondonec ornare sed phasellus mattis.-----onim ullamcorper lobortisetiam leo.-----pihil iriure consequat elitr nibh.-----eodales faucibus minulla.-----napibusnam bibendumin ac, facilisisproin eu aaenean purusvestibulum possim risus lacusut laoreet.-----?rcumorbi euismod tristique aptent malesuadanullam quisque, ultriciespellentesque accusam convallis mi platea duo.-----iation rutrum feugiat magnapraesent felissed.-----dit accusam, dapibus vulputate lacus montes consecteturpraesent eirmod lectus.-----=celerisque dis aliquet elitnunc.-----1ortorvestibulum autem auctor blandit aliquam sanctus.-----kestibulumnulla orci dis, purusvestibulum elementum dui laoreet.-----4ursus exerci quisaenean urna.-----uhoncusmaecenas mattis zzril nequeetiam soluta id, class clita cum faucibusvestibulum lacus molestie veniam telluspraesent mus.-----Uoluptua esse nonumy suspendisse consetetur, eos senectus zzril gravida nascetur lacus volutpat.-----9igula in sempermorbi, urnamorbi felis qui aliquip vehicula.-----lliquyam nobis esse sociosqu, eleifend felissed voluptua pulvinarvestibulum per.-----6ociosqu vehicula elitduis adipiscing et, faucibusvestibulum facilisis pharetra.-----Garius imperdietaliquam aliquet nobis justocras proin, mipellentesque litora urna sem possim.-----1ubergren class cursus ex takimata mauris, suscipit metus nisl rebum blandit labore.-----9ebum mazim.-----Qagittis a turpis laoreet erosin takimata, ac cum possim eu facilisicurabitur massa elitduis taciti.-----4ltricies consequatduis purusvestibulum primis, nondonec felis ligula dapibus blandit metusdonec.-----hagittis risus velit no nonumy, erat pellentesque sed leopraesent egestasmauris.-----Permentum sollicitudin est dolores.-----wuptatum quam.-----maucibus natoque.-----jxerci donec aliquyam purus.-----Hongue condimentum minulla.-----sempermorbi aliquip minulla, vestibulum vero ligula elitr feugait.-----Nnterdumdonec aliquammauris habitant.-----Luammaecenas risus quis auctor rebum, dapibusnam per id feliscras risusdonec eu.-----del urna dolor sociis metusdonec, condimentum elitvivamus tempus volutpat vestibulum.-----Puisque elitvivamus zzril.-----vurae mauris lacusnulla sodales, ridiculus iusto aaenean eos possim urna.-----nuis nisl justocras porta facilisisat.-----Kollicitudin pulvinarvestibulum diaminteger, aliquammauris at nostrud viverra egestas.-----sincidunt mollis placerat nunc massaphasellus mauris.-----7itae iaculis conguenulla ametduis purusvestibulum.-----Yidiculus tortorvestibulum quisaenean.-----jehicula wisi bibendumfusce, antesuspendisse minim facilisi at aliquam molestie feliscras invidunt.-----Naoreetphasellus antesuspendisse turpis, tempor ridiculus blandit vivamus ipsum pulvinar.-----oeo temporsuspendisse minulla, laoreet consectetuer ligula vestibulum vestibulumnulla.-----xpsum sanctus sociosqu, clita curae risusdonec rhoncusmaecenas facer morbi veniam.-----Jollicitudin sed facilisisat egestas mi, duis eros quam venenatis posuere takimata nibh.-----Lltrices nullamauris delenit magnainteger parturient, vestibulum rebum placerat ultricies soluta consetetur in orci aliquet.-----kx aliquammauris himenaeos sagittis.-----Tortor laoreet conubia temporsuspendisse consecteturpraesent.-----5ullasuspendisse platea urna felis nonumy risusdonec.-----Oatoque ametduis ultriciespellentesque, eratproin orci ipsum elitr.-----yaoreet lobortisetiam sapien viverra, lorem labore fringilla sempermorbi dapibus.-----4asd maurisaenean ipsum sempermorbi muspellentesque est, consecteturpraesent ultricies fringilla massa.-----uassapellentesque duo erat fringilla scelerisque luctus tortorcurabitur mauris, justocras auctormauris inceptos bibendum pharetra est eos.-----4acilisinam turpis tempus mollis, diaminteger magnainteger hendrerit.\n"
          ],
          "name": "stdout"
        }
      ]
    },
    {
      "cell_type": "code",
      "metadata": {
        "id": "6x8iM7M9iYvo",
        "colab_type": "code",
        "colab": {}
      },
      "source": [
        "list_clue_text = [list_element for list_element in clue.split('-----')]"
      ],
      "execution_count": 0,
      "outputs": []
    },
    {
      "cell_type": "code",
      "metadata": {
        "id": "h_TwkFBiiYtI",
        "colab_type": "code",
        "colab": {}
      },
      "source": [
        "l = []\n",
        "for element in list_clue_text:\n",
        "  if element =='':\n",
        "    continue\n",
        "  else:\n",
        "    l.append(element[0])"
      ],
      "execution_count": 0,
      "outputs": []
    },
    {
      "cell_type": "code",
      "metadata": {
        "id": "tZZYTnbviYrf",
        "colab_type": "code",
        "colab": {
          "base_uri": "https://localhost:8080/",
          "height": 35
        },
        "outputId": "16c34f2a-3c59-4054-a365-1677e42468cd"
      },
      "source": [
        "''.join(l)"
      ],
      "execution_count": 21,
      "outputs": [
        {
          "output_type": "execute_result",
          "data": {
            "text/plain": [
              "'https://drive.google.com/open?id=1k4uU9l6G19Q4hPwmjHsNLdPvnKs7YjNoxJLkT5Oy4u4'"
            ]
          },
          "metadata": {
            "tags": []
          },
          "execution_count": 21
        }
      ]
    },
    {
      "cell_type": "code",
      "metadata": {
        "id": "vq_ToC-MlHnm",
        "colab_type": "code",
        "colab": {
          "base_uri": "https://localhost:8080/",
          "height": 129
        },
        "outputId": "1ddc4355-5f1e-4663-f617-7e1bc75fa7fb"
      },
      "source": [
        "from google.colab import drive\n",
        "drive.mount('/content/drive')"
      ],
      "execution_count": 22,
      "outputs": [
        {
          "output_type": "stream",
          "text": [
            "Go to this URL in a browser: https://accounts.google.com/o/oauth2/auth?client_id=947318989803-6bn6qk8qdgf4n4g3pfee6491hc0brc4i.apps.googleusercontent.com&redirect_uri=urn%3aietf%3awg%3aoauth%3a2.0%3aoob&response_type=code&scope=email%20https%3a%2f%2fwww.googleapis.com%2fauth%2fdocs.test%20https%3a%2f%2fwww.googleapis.com%2fauth%2fdrive%20https%3a%2f%2fwww.googleapis.com%2fauth%2fdrive.photos.readonly%20https%3a%2f%2fwww.googleapis.com%2fauth%2fpeopleapi.readonly\n",
            "\n",
            "Enter your authorization code:\n",
            "··········\n",
            "Mounted at /content/drive\n"
          ],
          "name": "stdout"
        }
      ]
    },
    {
      "cell_type": "code",
      "metadata": {
        "id": "5Bm5zVVtiYoK",
        "colab_type": "code",
        "colab": {}
      },
      "source": [
        "import zipfile"
      ],
      "execution_count": 0,
      "outputs": []
    },
    {
      "cell_type": "code",
      "metadata": {
        "id": "jgn9cm4miYaS",
        "colab_type": "code",
        "colab": {}
      },
      "source": [
        "with zipfile.ZipFile('/content/drive/My Drive/Colab Notebooks/Udemy/Python-Narrative-Journey-master/10-Red-Mission-Web-Scraping/unzip_me_for_instructions.zip', 'r') as zipObj:\n",
        "  zipObj.extractall('/content/drive/My Drive/Colab Notebooks/Udemy/Python-Narrative-Journey-master/10-Red-Mission-Web-Scraping')"
      ],
      "execution_count": 0,
      "outputs": []
    },
    {
      "cell_type": "markdown",
      "metadata": {
        "id": "rXFRsZqCh_c2",
        "colab_type": "text"
      },
      "source": [
        "----"
      ]
    },
    {
      "cell_type": "markdown",
      "metadata": {
        "id": "VHPAqn5-pGL6",
        "colab_type": "text"
      },
      "source": [
        "**After extracting , there are 5 folders and many text files are in them . Red mission successfully completed. We now have a Solid Lead**"
      ]
    }
  ]
}