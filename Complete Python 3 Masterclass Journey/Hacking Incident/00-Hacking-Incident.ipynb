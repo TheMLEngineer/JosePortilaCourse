{
 "cells": [
  {
   "cell_type": "markdown",
   "metadata": {},
   "source": [
    "# Hacking Incident\n",
    "\n",
    "We're being hacked recruit! We need your help to get a message to the main server.\n",
    "\n",
    "We need you to accomplish 3 tasks:\n",
    "\n",
    "1. Create a Caeser cipher encryption function.\n",
    "2. Create another function that decrypts a Caeser cipher message.\n",
    "3. Create a function that will brute force every possible output for an encrypted Caeser cipher.\n",
    "\n",
    "We've set up a framework for you to follow here in this notebook. Feel free to use it, or create your own base functions."
   ]
  },
  {
   "cell_type": "markdown",
   "metadata": {},
   "source": [
    "## Encryption Function\n",
    "\n",
    "This function should take in two parameters, the plain text message and the shift number for the Caeser cipher.\n",
    "\n",
    "To create the cipher you will need to create a list of the alphabet. You can either write out the alphabet manually, or use the [string library](https://docs.python.org/3/library/string.html?highlight=string#module-string) to get all the lowercase alphabet. You will first need to run *import string* , and then call the attribute. For example:\n",
    "\n",
    "    import string\n",
    "    alphabet = string.ascii_lowercase\n",
    "    print(alphabet)\n",
    "    print(list(alphabet))\n",
    "    \n",
    "An empty function with some comments is here below for you to fill out:"
   ]
  },
  {
   "cell_type": "code",
   "execution_count": 36,
   "metadata": {},
   "outputs": [
    {
     "data": {
      "text/plain": [
       "'abcdefghijklmnopqrstuvwxyz'"
      ]
     },
     "execution_count": 36,
     "metadata": {},
     "output_type": "execute_result"
    }
   ],
   "source": [
    "import string\n",
    "alphabet = string.ascii_lowercase\n",
    "alphabet"
   ]
  },
  {
   "cell_type": "code",
   "execution_count": 37,
   "metadata": {},
   "outputs": [],
   "source": [
    "start = alphabet[13:]"
   ]
  },
  {
   "cell_type": "code",
   "execution_count": 38,
   "metadata": {},
   "outputs": [],
   "source": [
    "end = alphabet[:13]"
   ]
  },
  {
   "cell_type": "code",
   "execution_count": 39,
   "metadata": {},
   "outputs": [
    {
     "data": {
      "text/plain": [
       "'nopqrstuvwxyz'"
      ]
     },
     "execution_count": 39,
     "metadata": {},
     "output_type": "execute_result"
    }
   ],
   "source": [
    "start"
   ]
  },
  {
   "cell_type": "code",
   "execution_count": 40,
   "metadata": {},
   "outputs": [
    {
     "data": {
      "text/plain": [
       "'abcdefghijklm'"
      ]
     },
     "execution_count": 40,
     "metadata": {},
     "output_type": "execute_result"
    }
   ],
   "source": [
    "end"
   ]
  },
  {
   "cell_type": "code",
   "execution_count": 41,
   "metadata": {},
   "outputs": [
    {
     "data": {
      "text/plain": [
       "'nopqrstuvwxyzabcdefghijklm'"
      ]
     },
     "execution_count": 41,
     "metadata": {},
     "output_type": "execute_result"
    }
   ],
   "source": [
    "start + end"
   ]
  },
  {
   "cell_type": "code",
   "execution_count": 42,
   "metadata": {
    "scrolled": false
   },
   "outputs": [
    {
     "data": {
      "text/plain": [
       "26"
      ]
     },
     "execution_count": 42,
     "metadata": {},
     "output_type": "execute_result"
    }
   ],
   "source": [
    "len(alphabet)"
   ]
  },
  {
   "cell_type": "code",
   "execution_count": 43,
   "metadata": {
    "scrolled": true
   },
   "outputs": [
    {
     "data": {
      "text/plain": [
       "26"
      ]
     },
     "execution_count": 43,
     "metadata": {},
     "output_type": "execute_result"
    }
   ],
   "source": [
    "len(start + end)"
   ]
  },
  {
   "cell_type": "code",
   "execution_count": 48,
   "metadata": {},
   "outputs": [
    {
     "data": {
      "text/plain": [
       "'dict1 = tuple(zip([i for i in alphabet] , [start + end]))\\ndict1'"
      ]
     },
     "execution_count": 48,
     "metadata": {},
     "output_type": "execute_result"
    }
   ],
   "source": [
    "'''dict1 = tuple(zip([i for i in alphabet] , [start + end]))\n",
    "dict1'''"
   ]
  },
  {
   "cell_type": "code",
   "execution_count": 49,
   "metadata": {},
   "outputs": [],
   "source": [
    "#dict1 = dict()"
   ]
  },
  {
   "cell_type": "code",
   "execution_count": 51,
   "metadata": {},
   "outputs": [
    {
     "data": {
      "text/plain": [
       "'for key in alphabet:\\n    for value in start + end:\\n        dict1[key] = value\\n        continue\\n    continue'"
      ]
     },
     "execution_count": 51,
     "metadata": {},
     "output_type": "execute_result"
    }
   ],
   "source": [
    "'''for key in alphabet:\n",
    "    for value in start + end:\n",
    "        dict1[key] = value\n",
    "        continue\n",
    "    continue'''"
   ]
  },
  {
   "cell_type": "code",
   "execution_count": 52,
   "metadata": {},
   "outputs": [],
   "source": [
    "#dict1"
   ]
  },
  {
   "cell_type": "code",
   "execution_count": 53,
   "metadata": {
    "scrolled": false
   },
   "outputs": [],
   "source": [
    "#[(key , value) for key in alphabet for value in start+end[i] i+= 1]"
   ]
  },
  {
   "cell_type": "code",
   "execution_count": 54,
   "metadata": {},
   "outputs": [
    {
     "data": {
      "text/plain": [
       "{'a': 'n',\n",
       " 'b': 'o',\n",
       " 'c': 'p',\n",
       " 'd': 'q',\n",
       " 'e': 'r',\n",
       " 'f': 's',\n",
       " 'g': 't',\n",
       " 'h': 'u',\n",
       " 'i': 'v',\n",
       " 'j': 'w',\n",
       " 'k': 'x',\n",
       " 'l': 'y',\n",
       " 'm': 'z',\n",
       " 'n': 'a',\n",
       " 'o': 'b',\n",
       " 'p': 'c',\n",
       " 'q': 'd',\n",
       " 'r': 'e',\n",
       " 's': 'f',\n",
       " 't': 'g',\n",
       " 'u': 'h',\n",
       " 'v': 'i',\n",
       " 'w': 'j',\n",
       " 'x': 'k',\n",
       " 'y': 'l',\n",
       " 'z': 'm'}"
      ]
     },
     "execution_count": 54,
     "metadata": {},
     "output_type": "execute_result"
    }
   ],
   "source": [
    "i=0\n",
    "\n",
    "for key in alphabet:\n",
    "    dict1[key] = list(start+end)[i]\n",
    "    i+=1\n",
    "\n",
    "dict1"
   ]
  },
  {
   "cell_type": "code",
   "execution_count": 57,
   "metadata": {},
   "outputs": [
    {
     "data": {
      "text/plain": [
       "['t',\n",
       " 'r',\n",
       " 'g',\n",
       " ' ',\n",
       " 'g',\n",
       " 'u',\n",
       " 'v',\n",
       " 'f',\n",
       " ' ',\n",
       " 'z',\n",
       " 'r',\n",
       " 'f',\n",
       " 'f',\n",
       " 'n',\n",
       " 't',\n",
       " 'r',\n",
       " ' ',\n",
       " 'g',\n",
       " 'b',\n",
       " ' ',\n",
       " 'g',\n",
       " 'u',\n",
       " 'r',\n",
       " ' ',\n",
       " 'z',\n",
       " 'n',\n",
       " 'v',\n",
       " 'a',\n",
       " ' ',\n",
       " 'f',\n",
       " 'r',\n",
       " 'e',\n",
       " 'i',\n",
       " 'r',\n",
       " 'e']"
      ]
     },
     "execution_count": 57,
     "metadata": {},
     "output_type": "execute_result"
    }
   ],
   "source": [
    "output = list()\n",
    "for letter in list('Get this message to the main server'.lower()):\n",
    "    if letter == ' ':\n",
    "        output.append(' ')\n",
    "    else:\n",
    "        output.append(dict1[letter])\n",
    "    \n",
    "output"
   ]
  },
  {
   "cell_type": "code",
   "execution_count": 84,
   "metadata": {},
   "outputs": [],
   "source": [
    "def encrypt(text,shift):\n",
    "    '''\n",
    "    INPUT: text as a string and an integer for the shift value.\n",
    "    OUTPUT: The shifted text after being run through the Caeser cipher.\n",
    "    '''\n",
    "    \n",
    "    # Create a normal plain alphabet\n",
    "    alphabet = string.ascii_lowercase\n",
    "    \n",
    "    start = alphabet[shift:]\n",
    "    end = alphabet[:shift]\n",
    "    \n",
    "    dict1 = dict()\n",
    "    \n",
    "    i=0\n",
    "\n",
    "    for key in alphabet:\n",
    "        dict1[key] = list(start+end)[i]\n",
    "        i+=1\n",
    "        \n",
    "    output = list()\n",
    "    for letter in list(text.lower()):\n",
    "        if letter == ' ':\n",
    "            output.append(' ')\n",
    "        else:\n",
    "            output.append(dict1[letter])\n",
    "    \n",
    "    return ''.join(output)\n",
    "    \n",
    "    \n",
    "    # Create a shifted version of this alphabet \n",
    "    # (Try slicing using the shift and then reconcatenating the two parts)\n",
    "    \n",
    "    # Use a for loop to go through each character in the original message.\n",
    "    # Then figure out its index match in the shifted alphabet and replace.\n",
    "    # It might be helpful to create an output variable to hold the new message.\n",
    "    \n",
    "    # Keep in mind you may want to skip punctuation with an if statement.\n",
    "    \n",
    "    # Return the shifted message. Use ''.join() method \n",
    "    # if you still have it as a list."
   ]
  },
  {
   "cell_type": "markdown",
   "metadata": {},
   "source": [
    "**An example input and output:**"
   ]
  },
  {
   "cell_type": "code",
   "execution_count": 85,
   "metadata": {},
   "outputs": [
    {
     "data": {
      "text/plain": [
       "'trg guvf zrffntr gb gur znva freire'"
      ]
     },
     "execution_count": 85,
     "metadata": {},
     "output_type": "execute_result"
    }
   ],
   "source": [
    "encrypt('Get this message to the main server',13)"
   ]
  },
  {
   "cell_type": "code",
   "execution_count": null,
   "metadata": {},
   "outputs": [],
   "source": []
  },
  {
   "cell_type": "code",
   "execution_count": 72,
   "metadata": {},
   "outputs": [],
   "source": [
    "dict2 = {}"
   ]
  },
  {
   "cell_type": "code",
   "execution_count": 77,
   "metadata": {},
   "outputs": [
    {
     "data": {
      "text/plain": [
       "{'m': 'z',\n",
       " 'n': 'a',\n",
       " 'o': 'b',\n",
       " 'p': 'c',\n",
       " 'q': 'd',\n",
       " 'r': 'e',\n",
       " 's': 'f',\n",
       " 't': 'g',\n",
       " 'u': 'h',\n",
       " 'v': 'i',\n",
       " 'w': 'j',\n",
       " 'x': 'k',\n",
       " 'y': 'l',\n",
       " 'z': 'm',\n",
       " 'a': 'n',\n",
       " 'b': 'o',\n",
       " 'c': 'p',\n",
       " 'd': 'q',\n",
       " 'e': 'r',\n",
       " 'f': 's',\n",
       " 'g': 't',\n",
       " 'h': 'u',\n",
       " 'i': 'v',\n",
       " 'j': 'w',\n",
       " 'k': 'x',\n",
       " 'l': 'y'}"
      ]
     },
     "execution_count": 77,
     "metadata": {},
     "output_type": "execute_result"
    }
   ],
   "source": [
    "for k , v in dict1.items():\n",
    "    dict2[v] = k\n",
    "    #print('hi')\n",
    "\n",
    "dict2"
   ]
  },
  {
   "cell_type": "markdown",
   "metadata": {},
   "source": [
    "## Decryption\n",
    "\n",
    "Now create a new function that will \"decrypt\" a shifted message. It should basically do the reverse of the encryption function. The process will be very similar as your previous function, but the alphabets will be switched."
   ]
  },
  {
   "cell_type": "code",
   "execution_count": 88,
   "metadata": {},
   "outputs": [],
   "source": [
    "def decrypt(text,shift):\n",
    "    '''\n",
    "    INPUT: text as a string and an integer for the shift value.\n",
    "    OUTPUT: The shifted text after being run through the Caeser cipher.\n",
    "    '''\n",
    "    \n",
    "    # Create a normal plain alphabet\n",
    "    alphabet = string.ascii_lowercase\n",
    "    \n",
    "    start = alphabet[shift:]\n",
    "    end = alphabet[:shift]\n",
    "    \n",
    "    dict1 = dict()\n",
    "    \n",
    "    i=0\n",
    "\n",
    "    for key in alphabet:\n",
    "        dict1[key] = list(start+end)[i]\n",
    "        i+=1\n",
    "        \n",
    "    dict2 = dict()\n",
    "    for key , value in dict1.items():\n",
    "        dict2[value] = key\n",
    "        \n",
    "        \n",
    "    output = list()\n",
    "    for letter in list(text.lower()):\n",
    "        if letter == ' ':\n",
    "            output.append(' ')\n",
    "        else:\n",
    "            output.append(dict2[letter])\n",
    "    \n",
    "    #print(dict2)\n",
    "    \n",
    "    \n",
    "    return ''.join(output)\n",
    "    \n",
    "    \n",
    "    # Create a shifted version of this alphabet \n",
    "    # (Try slicing using the shift and then reconcatenating the two parts)\n",
    "    \n",
    "    # Use a for loop to go through each character in the original message.\n",
    "    # Then figure out its index match in the shifted alphabet and replace.\n",
    "    # It might be helpful to create an output variable to hold the new message.\n",
    "    \n",
    "    # Keep in mind you may want to skip punctuation with an if statement.\n",
    "    \n",
    "    # Return the shifted message. Use ''.join() method \n",
    "    # if you still have it as a list."
   ]
  },
  {
   "cell_type": "code",
   "execution_count": 89,
   "metadata": {},
   "outputs": [
    {
     "data": {
      "text/plain": [
       "'get this message to the main server'"
      ]
     },
     "execution_count": 89,
     "metadata": {},
     "output_type": "execute_result"
    }
   ],
   "source": [
    "decrypt('trg guvf zrffntr gb gur znva freire',13)"
   ]
  },
  {
   "cell_type": "markdown",
   "metadata": {},
   "source": [
    "**Here is an example output:**"
   ]
  },
  {
   "cell_type": "markdown",
   "metadata": {},
   "source": [
    "## Brute Force Method\n",
    "\n",
    "There is no gaurantee that the person on the other end will know the correct shift value. In that case we need a function that can brute force through every possible shift value and print out each outcome. Then a user could quickly read through the printed messages and find the one that is readable.\n",
    "\n",
    "**In case you aren't given the shift factor number, create a function that prints out every possible shifted string given an encrypted string.**"
   ]
  },
  {
   "cell_type": "code",
   "execution_count": 96,
   "metadata": {},
   "outputs": [],
   "source": [
    "def brute_force(message):\n",
    "    \"\"\"\n",
    "    INPUT: A shifted message\n",
    "    OUTPUT: Prints out every possible shifted message. \n",
    "            One of the printed outputs should be readable.\n",
    "    \"\"\"\n",
    "    \n",
    "    # Use your previous decrypt() method and call it for every possible shift\n",
    "    # using a For Loop.\n",
    "    \n",
    "    # Print out the result of each shift.\n",
    "    for i in range(len(alphabet)):\n",
    "        print('Using Shift value of' , i)\n",
    "        print(decrypt(message , i))\n",
    "        print()"
   ]
  },
  {
   "cell_type": "markdown",
   "metadata": {},
   "source": [
    "**An example output:**"
   ]
  },
  {
   "cell_type": "code",
   "execution_count": 98,
   "metadata": {},
   "outputs": [
    {
     "name": "stdout",
     "output_type": "stream",
     "text": [
      "Using Shift value of 0\n",
      "trg guvf zrffntr gb gur znva freire\n",
      "\n",
      "Using Shift value of 1\n",
      "sqf ftue yqeemsq fa ftq ymuz eqdhqd\n",
      "\n",
      "Using Shift value of 2\n",
      "rpe estd xpddlrp ez esp xlty dpcgpc\n",
      "\n",
      "Using Shift value of 3\n",
      "qod drsc wocckqo dy dro wksx cobfob\n",
      "\n",
      "Using Shift value of 4\n",
      "pnc cqrb vnbbjpn cx cqn vjrw bnaena\n",
      "\n",
      "Using Shift value of 5\n",
      "omb bpqa umaaiom bw bpm uiqv amzdmz\n",
      "\n",
      "Using Shift value of 6\n",
      "nla aopz tlzzhnl av aol thpu zlycly\n",
      "\n",
      "Using Shift value of 7\n",
      "mkz znoy skyygmk zu znk sgot ykxbkx\n",
      "\n",
      "Using Shift value of 8\n",
      "ljy ymnx rjxxflj yt ymj rfns xjwajw\n",
      "\n",
      "Using Shift value of 9\n",
      "kix xlmw qiwweki xs xli qemr wivziv\n",
      "\n",
      "Using Shift value of 10\n",
      "jhw wklv phvvdjh wr wkh pdlq vhuyhu\n",
      "\n",
      "Using Shift value of 11\n",
      "igv vjku oguucig vq vjg ockp ugtxgt\n",
      "\n",
      "Using Shift value of 12\n",
      "hfu uijt nfttbhf up uif nbjo tfswfs\n",
      "\n",
      "Using Shift value of 13\n",
      "get this message to the main server\n",
      "\n",
      "Using Shift value of 14\n",
      "fds sghr ldrrzfd sn sgd lzhm rdqudq\n",
      "\n",
      "Using Shift value of 15\n",
      "ecr rfgq kcqqyec rm rfc kygl qcptcp\n",
      "\n",
      "Using Shift value of 16\n",
      "dbq qefp jbppxdb ql qeb jxfk pbosbo\n",
      "\n",
      "Using Shift value of 17\n",
      "cap pdeo iaoowca pk pda iwej oanran\n",
      "\n",
      "Using Shift value of 18\n",
      "bzo ocdn hznnvbz oj ocz hvdi nzmqzm\n",
      "\n",
      "Using Shift value of 19\n",
      "ayn nbcm gymmuay ni nby guch mylpyl\n",
      "\n",
      "Using Shift value of 20\n",
      "zxm mabl fxlltzx mh max ftbg lxkoxk\n",
      "\n",
      "Using Shift value of 21\n",
      "ywl lzak ewkksyw lg lzw esaf kwjnwj\n",
      "\n",
      "Using Shift value of 22\n",
      "xvk kyzj dvjjrxv kf kyv drze jvimvi\n",
      "\n",
      "Using Shift value of 23\n",
      "wuj jxyi cuiiqwu je jxu cqyd iuhluh\n",
      "\n",
      "Using Shift value of 24\n",
      "vti iwxh bthhpvt id iwt bpxc htgktg\n",
      "\n",
      "Using Shift value of 25\n",
      "ush hvwg asggous hc hvs aowb gsfjsf\n",
      "\n"
     ]
    }
   ],
   "source": [
    "brute_force('trg guvf zrffntr gb gur znva freire')"
   ]
  }
 ],
 "metadata": {
  "kernelspec": {
   "display_name": "Python 3",
   "language": "python",
   "name": "python3"
  },
  "language_info": {
   "codemirror_mode": {
    "name": "ipython",
    "version": 3
   },
   "file_extension": ".py",
   "mimetype": "text/x-python",
   "name": "python",
   "nbconvert_exporter": "python",
   "pygments_lexer": "ipython3",
   "version": "3.7.3"
  }
 },
 "nbformat": 4,
 "nbformat_minor": 2
}
