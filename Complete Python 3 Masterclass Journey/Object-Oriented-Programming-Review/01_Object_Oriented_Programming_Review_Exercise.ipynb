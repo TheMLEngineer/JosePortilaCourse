{
  "nbformat": 4,
  "nbformat_minor": 0,
  "metadata": {
    "anaconda-cloud": {},
    "kernelspec": {
      "display_name": "Python 3",
      "language": "python",
      "name": "python3"
    },
    "language_info": {
      "codemirror_mode": {
        "name": "ipython",
        "version": 3
      },
      "file_extension": ".py",
      "mimetype": "text/x-python",
      "name": "python",
      "nbconvert_exporter": "python",
      "pygments_lexer": "ipython3",
      "version": "3.6.1"
    },
    "colab": {
      "name": "01-Object-Oriented-Programming-Review-Exercise.ipynb",
      "provenance": [],
      "collapsed_sections": []
    }
  },
  "cells": [
    {
      "cell_type": "markdown",
      "metadata": {
        "collapsed": true,
        "id": "ecj-oZNi3qxr",
        "colab_type": "text"
      },
      "source": [
        "# OOP Review Exercises\n",
        "\n",
        "Since OOP can be complex for recruits, let's give you some quick exercises to check your understanding!\n",
        "\n",
        "### Exercise 1\n",
        "\n",
        "**Create a Sphere class that accepts a radius upon instantiation and has a volume and surface area method.**"
      ]
    },
    {
      "cell_type": "code",
      "metadata": {
        "id": "7C-i5W_A3qxy",
        "colab_type": "code",
        "colab": {}
      },
      "source": [
        "class Sphere():\n",
        "  pi = 3.14\n",
        "\n",
        "  def __init__(self , radius):\n",
        "    self.radius = radius\n",
        "  \n",
        "  def surface_area(self):\n",
        "    return 4 * Sphere.pi * self.radius * self.radius\n",
        "\n",
        "  def volume(self):\n",
        "    return 4 / 3 * (Sphere.pi * self.radius * self.radius )\n",
        "    # Create the methods here!"
      ],
      "execution_count": 0,
      "outputs": []
    },
    {
      "cell_type": "markdown",
      "metadata": {
        "id": "KWbLOgED3qx9",
        "colab_type": "text"
      },
      "source": [
        "___"
      ]
    },
    {
      "cell_type": "code",
      "metadata": {
        "id": "RMh4i_Z93qyA",
        "colab_type": "code",
        "colab": {}
      },
      "source": [
        "s = Sphere(1)"
      ],
      "execution_count": 0,
      "outputs": []
    },
    {
      "cell_type": "code",
      "metadata": {
        "id": "5iSfgiom3qyH",
        "colab_type": "code",
        "colab": {
          "base_uri": "https://localhost:8080/",
          "height": 35
        },
        "outputId": "5c96c6a6-90f2-4923-ff94-3f737c186a26"
      },
      "source": [
        "s.surface_area()"
      ],
      "execution_count": 9,
      "outputs": [
        {
          "output_type": "execute_result",
          "data": {
            "text/plain": [
              "12.56"
            ]
          },
          "metadata": {
            "tags": []
          },
          "execution_count": 9
        }
      ]
    },
    {
      "cell_type": "code",
      "metadata": {
        "id": "QmWhpxG43qyP",
        "colab_type": "code",
        "colab": {
          "base_uri": "https://localhost:8080/",
          "height": 35
        },
        "outputId": "67c873fd-e032-4c57-f12f-2f3dc023ea0f"
      },
      "source": [
        "s.volume()"
      ],
      "execution_count": 10,
      "outputs": [
        {
          "output_type": "execute_result",
          "data": {
            "text/plain": [
              "4.1866666666666665"
            ]
          },
          "metadata": {
            "tags": []
          },
          "execution_count": 10
        }
      ]
    },
    {
      "cell_type": "markdown",
      "metadata": {
        "id": "IZoHrBJY3qyW",
        "colab_type": "text"
      },
      "source": [
        "____"
      ]
    },
    {
      "cell_type": "markdown",
      "metadata": {
        "id": "nBUBtg6Z3qyY",
        "colab_type": "text"
      },
      "source": [
        "## Exercise 2\n",
        "\n",
        "**For this exercise we will have several steps.**\n",
        "1. Create a class called GuessingGame.\n",
        "2. The class doesn't need any user provided arguments for instantiation.\n",
        "3. In the __init__ method have the class set a  self.rand_choice attribute to a random integer between 0-10 (use import random)\n",
        "4. Now create a method in the class called reset_random that will reset this self.rand_choice attribute\n",
        "5. Now create a method called guess that uses the input() function to accept a user guess for the random number. This method should print out a statement indicating whether or not the user guess was correct. Bonus: Add logic that will report back to the user to guess higher or lower next time they call the guess() method.\n",
        "\n",
        "**Check out the example code below for what the game should look like:**"
      ]
    },
    {
      "cell_type": "code",
      "metadata": {
        "id": "RtiAWfhQ3qya",
        "colab_type": "code",
        "colab": {}
      },
      "source": [
        "import random\n",
        "\n",
        "class GuessingGame():\n",
        "\n",
        "  def __init__(self):\n",
        "    self.rand_choice = random.randint(1 , 10)\n",
        "\n",
        "  def reset_random(self):\n",
        "    self.rand_choice = random.randint(1 , 10)\n",
        "    print('Resetting Random Choice')\n",
        "\n",
        "  def guess(self):\n",
        "    #self.rand_choice = rand_choice\n",
        "    self.user_guess = int(input('Please input your guess (0-10): '))\n",
        "    if self.user_guess == self.rand_choice:\n",
        "      print('Correct Guess!')\n",
        "    elif self.user_guess < self.rand_choice:\n",
        "      print(\"Sorry you didn't guess correctly!\")\n",
        "      print('Guess Higher!')\n",
        "      print('Call the guess() method again to try again.')\n",
        "    elif self.user_guess > self.rand_choice:\n",
        "      print(\"Sorry you didn't guess correctly!\")\n",
        "      print('Guess Lower!')\n",
        "      print('Call the guess() method again to try again.')\n",
        "\n",
        "\n",
        "    \n",
        "    # Create your methods here"
      ],
      "execution_count": 0,
      "outputs": []
    },
    {
      "cell_type": "markdown",
      "metadata": {
        "id": "YYf6jxlP3qyg",
        "colab_type": "text"
      },
      "source": [
        "____"
      ]
    },
    {
      "cell_type": "code",
      "metadata": {
        "id": "A6qJaR-Q3qyh",
        "colab_type": "code",
        "colab": {}
      },
      "source": [
        "g = GuessingGame()"
      ],
      "execution_count": 0,
      "outputs": []
    },
    {
      "cell_type": "code",
      "metadata": {
        "id": "loXpumTE3qyq",
        "colab_type": "code",
        "colab": {
          "base_uri": "https://localhost:8080/",
          "height": 35
        },
        "outputId": "0a16b74b-7445-4dd2-dd37-8e33a3f62ba3"
      },
      "source": [
        "g.rand_choice"
      ],
      "execution_count": 26,
      "outputs": [
        {
          "output_type": "execute_result",
          "data": {
            "text/plain": [
              "11"
            ]
          },
          "metadata": {
            "tags": []
          },
          "execution_count": 26
        }
      ]
    },
    {
      "cell_type": "code",
      "metadata": {
        "id": "x3SiWZvz3qyv",
        "colab_type": "code",
        "colab": {
          "base_uri": "https://localhost:8080/",
          "height": 35
        },
        "outputId": "14fe3877-b480-4d5f-aa91-5d447bb01bc3"
      },
      "source": [
        "g.reset_random()"
      ],
      "execution_count": 27,
      "outputs": [
        {
          "output_type": "stream",
          "text": [
            "Resetting Random Choice\n"
          ],
          "name": "stdout"
        }
      ]
    },
    {
      "cell_type": "code",
      "metadata": {
        "id": "iKVOEwC6_0nR",
        "colab_type": "code",
        "colab": {
          "base_uri": "https://localhost:8080/",
          "height": 35
        },
        "outputId": "30fe79f9-a423-410d-d9f7-df08ab368f62"
      },
      "source": [
        "g.rand_choice"
      ],
      "execution_count": 28,
      "outputs": [
        {
          "output_type": "execute_result",
          "data": {
            "text/plain": [
              "2"
            ]
          },
          "metadata": {
            "tags": []
          },
          "execution_count": 28
        }
      ]
    },
    {
      "cell_type": "code",
      "metadata": {
        "id": "25nBYWyM3qy1",
        "colab_type": "code",
        "colab": {
          "base_uri": "https://localhost:8080/",
          "height": 90
        },
        "outputId": "6648affe-2282-467b-85a1-f9bf3c4d5a78"
      },
      "source": [
        "g.guess()"
      ],
      "execution_count": 33,
      "outputs": [
        {
          "output_type": "stream",
          "text": [
            "Please input your guess (0-10): 7\n",
            "Sorry you didn't guess correctly!\n",
            "Guess Lower!\n",
            "Call the guess() method again to try again.\n"
          ],
          "name": "stdout"
        }
      ]
    },
    {
      "cell_type": "code",
      "metadata": {
        "id": "wwIP9PZf3qy7",
        "colab_type": "code",
        "colab": {
          "base_uri": "https://localhost:8080/",
          "height": 54
        },
        "outputId": "a63d5e25-751a-4f13-9a3f-543454a1047f"
      },
      "source": [
        "g.guess()"
      ],
      "execution_count": 34,
      "outputs": [
        {
          "output_type": "stream",
          "text": [
            "Please input your guess (0-10): 2\n",
            "Correct Guess!\n"
          ],
          "name": "stdout"
        }
      ]
    },
    {
      "cell_type": "markdown",
      "metadata": {
        "id": "gEow0A0I3qzA",
        "colab_type": "text"
      },
      "source": [
        "**Best of luck on the exercises! Solutions are coming up next!**"
      ]
    }
  ]
}