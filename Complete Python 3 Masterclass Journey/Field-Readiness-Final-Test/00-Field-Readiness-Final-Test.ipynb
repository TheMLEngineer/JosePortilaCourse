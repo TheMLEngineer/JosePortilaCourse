{
 "cells": [
  {
   "cell_type": "markdown",
   "metadata": {
    "collapsed": true
   },
   "source": [
    "# Final Field Readiness Test \n",
    "\n",
    "**For this test you will be using Object Oriented Programming to create an object that uses a modified Ceaser Cipher. Check out the video for an explanation of how the object will work. The basic idea is the following, given a message such as \"hello world\", the encryption should perform the following steps:**\n",
    "\n",
    "**The encryption method you will create:**\n",
    "\n",
    "1. Accept a string, such as: \"hello world\"\n",
    "2. Add in a random letter in every other index position in the string, for example: 'hueqlzlpom cwgosrhlbdg'\n",
    "3. Then reverse this string, for example: 'gdblhrsogwc moplzlqeuh'\n",
    "4. Then create a shuffled version of the alphabet (remember to set a seed to the random.seed() so you can get this shuffled version again by providing the same seed number).\n",
    "5. Just like a classic ceaser cipher, match up the index of each letter and then encrypt the letters using this shuffled alphabet.\n",
    "\n",
    "The end result will be a string something like \"divgkjocdze bcrgqghywk\" for our previous example.\n",
    "\n",
    "To decrypt this, reverse the steps. The hardest step to reverse is the randomized shuffling of the alphabet, to regain the same shuffling, you will need the seed key. The method for the decryption will accept this as an argument.\n",
    "\n",
    "The \"skeleton\" of the code has been outlined for you to fill out below. Best of luck!"
   ]
  },
  {
   "cell_type": "code",
   "execution_count": 112,
   "metadata": {},
   "outputs": [],
   "source": [
    "# Imports you might need\n",
    "import string\n",
    "import random"
   ]
  },
  {
   "cell_type": "code",
   "execution_count": 113,
   "metadata": {},
   "outputs": [
    {
     "data": {
      "text/plain": [
       "'abcdefghijklmnopqrstuvwxyz'"
      ]
     },
     "execution_count": 113,
     "metadata": {},
     "output_type": "execute_result"
    }
   ],
   "source": [
    "string.ascii_lowercase"
   ]
  },
  {
   "cell_type": "code",
   "execution_count": 114,
   "metadata": {},
   "outputs": [
    {
     "data": {
      "text/plain": [
       "['x',\n",
       " 'v',\n",
       " 'e',\n",
       " 'i',\n",
       " 'y',\n",
       " 'u',\n",
       " 'd',\n",
       " 'k',\n",
       " 'f',\n",
       " 'a',\n",
       " 'n',\n",
       " 'g',\n",
       " 'b',\n",
       " 'p',\n",
       " 'c',\n",
       " 'r',\n",
       " 'h',\n",
       " 'j',\n",
       " 'o',\n",
       " 'm',\n",
       " 'w',\n",
       " 'l',\n",
       " 'z',\n",
       " 's',\n",
       " 't',\n",
       " 'q']"
      ]
     },
     "execution_count": 114,
     "metadata": {},
     "output_type": "execute_result"
    }
   ],
   "source": [
    "random.seed(20)\n",
    "alphabet = string.ascii_lowercase\n",
    "shuffled_alphabet = random.sample(list(alphabet) , 26)\n",
    "shuffled_alphabet"
   ]
  },
  {
   "cell_type": "code",
   "execution_count": 115,
   "metadata": {},
   "outputs": [],
   "source": [
    "list_1 = [1,3,5,7,9]\n",
    "list_2 = [2,4,6,8,10]"
   ]
  },
  {
   "cell_type": "code",
   "execution_count": 116,
   "metadata": {},
   "outputs": [],
   "source": [
    "new_list = []"
   ]
  },
  {
   "cell_type": "code",
   "execution_count": 117,
   "metadata": {},
   "outputs": [],
   "source": [
    "index = 1\n",
    "for i in range(len(list_1)):\n",
    "    list_1.insert(index , random.choice(list_2))\n",
    "    index = index + 2"
   ]
  },
  {
   "cell_type": "raw",
   "metadata": {},
   "source": [
    "list_1"
   ]
  },
  {
   "cell_type": "code",
   "execution_count": 118,
   "metadata": {},
   "outputs": [
    {
     "data": {
      "text/plain": [
       "26"
      ]
     },
     "execution_count": 118,
     "metadata": {},
     "output_type": "execute_result"
    }
   ],
   "source": [
    "len(alphabet)"
   ]
  },
  {
   "cell_type": "code",
   "execution_count": 119,
   "metadata": {},
   "outputs": [
    {
     "data": {
      "text/plain": [
       "26"
      ]
     },
     "execution_count": 119,
     "metadata": {},
     "output_type": "execute_result"
    }
   ],
   "source": [
    "len(shuffled_alphabet)"
   ]
  },
  {
   "cell_type": "code",
   "execution_count": 120,
   "metadata": {},
   "outputs": [],
   "source": [
    "dict1 = {}\n",
    "\n",
    "i = 0\n",
    "for key in alphabet:\n",
    "    dict1[key] = shuffled_alphabet[i]\n",
    "    i = i+1"
   ]
  },
  {
   "cell_type": "code",
   "execution_count": 121,
   "metadata": {},
   "outputs": [
    {
     "data": {
      "text/plain": [
       "26"
      ]
     },
     "execution_count": 121,
     "metadata": {},
     "output_type": "execute_result"
    }
   ],
   "source": [
    "len(dict1)"
   ]
  },
  {
   "cell_type": "code",
   "execution_count": 122,
   "metadata": {},
   "outputs": [
    {
     "data": {
      "text/plain": [
       "{'a': 'x',\n",
       " 'b': 'v',\n",
       " 'c': 'e',\n",
       " 'd': 'i',\n",
       " 'e': 'y',\n",
       " 'f': 'u',\n",
       " 'g': 'd',\n",
       " 'h': 'k',\n",
       " 'i': 'f',\n",
       " 'j': 'a',\n",
       " 'k': 'n',\n",
       " 'l': 'g',\n",
       " 'm': 'b',\n",
       " 'n': 'p',\n",
       " 'o': 'c',\n",
       " 'p': 'r',\n",
       " 'q': 'h',\n",
       " 'r': 'j',\n",
       " 's': 'o',\n",
       " 't': 'm',\n",
       " 'u': 'w',\n",
       " 'v': 'l',\n",
       " 'w': 'z',\n",
       " 'x': 's',\n",
       " 'y': 't',\n",
       " 'z': 'q'}"
      ]
     },
     "execution_count": 122,
     "metadata": {},
     "output_type": "execute_result"
    }
   ],
   "source": [
    "dict1"
   ]
  },
  {
   "cell_type": "code",
   "execution_count": 123,
   "metadata": {},
   "outputs": [
    {
     "data": {
      "text/plain": [
       "['k', 'y', 'g', 'g', 'c', ' ', 'z', 'c', 'j', 'g', 'i']"
      ]
     },
     "execution_count": 123,
     "metadata": {},
     "output_type": "execute_result"
    }
   ],
   "source": [
    "output = list()\n",
    "for letter in list('Hello World'.lower()):\n",
    "    if letter == ' ':\n",
    "        output.append(' ')\n",
    "    else:\n",
    "        output.append(dict1[letter])\n",
    "    \n",
    "output"
   ]
  },
  {
   "cell_type": "code",
   "execution_count": 124,
   "metadata": {},
   "outputs": [],
   "source": [
    "# Comment Starts"
   ]
  },
  {
   "cell_type": "code",
   "execution_count": 125,
   "metadata": {},
   "outputs": [],
   "source": [
    "list_1.insert(1 , list_2[0])"
   ]
  },
  {
   "cell_type": "code",
   "execution_count": 126,
   "metadata": {},
   "outputs": [
    {
     "data": {
      "text/plain": [
       "[1, 2, 10, 3, 8, 5, 8, 7, 2, 9, 4]"
      ]
     },
     "execution_count": 126,
     "metadata": {},
     "output_type": "execute_result"
    }
   ],
   "source": [
    "list_1"
   ]
  },
  {
   "cell_type": "code",
   "execution_count": 127,
   "metadata": {},
   "outputs": [
    {
     "data": {
      "text/plain": [
       "[1, 2, 10, 4, 3, 8, 5, 8, 7, 2, 9, 4]"
      ]
     },
     "execution_count": 127,
     "metadata": {},
     "output_type": "execute_result"
    }
   ],
   "source": [
    "list_1.insert(3 , list_2[1])\n",
    "list_1"
   ]
  },
  {
   "cell_type": "code",
   "execution_count": 128,
   "metadata": {},
   "outputs": [
    {
     "data": {
      "text/plain": [
       "[1, 2, 10, 4, 3, 6, 8, 5, 8, 7, 2, 9, 4]"
      ]
     },
     "execution_count": 128,
     "metadata": {},
     "output_type": "execute_result"
    }
   ],
   "source": [
    "list_1.insert(5 , list_2[2])\n",
    "list_1"
   ]
  },
  {
   "cell_type": "code",
   "execution_count": 129,
   "metadata": {},
   "outputs": [
    {
     "data": {
      "text/plain": [
       "[1, 2, 10, 4, 3, 6, 8, 8, 5, 8, 7, 2, 9, 4]"
      ]
     },
     "execution_count": 129,
     "metadata": {},
     "output_type": "execute_result"
    }
   ],
   "source": [
    "list_1.insert(7 , list_2[3])\n",
    "list_1"
   ]
  },
  {
   "cell_type": "code",
   "execution_count": 130,
   "metadata": {},
   "outputs": [
    {
     "data": {
      "text/plain": [
       "[1, 2, 10, 4, 3, 6, 8, 8, 5, 10, 8, 7, 2, 9, 4]"
      ]
     },
     "execution_count": 130,
     "metadata": {},
     "output_type": "execute_result"
    }
   ],
   "source": [
    "list_1.insert(9 , list_2[4])\n",
    "list_1"
   ]
  },
  {
   "cell_type": "code",
   "execution_count": 131,
   "metadata": {},
   "outputs": [],
   "source": [
    "# Comment Ends"
   ]
  },
  {
   "cell_type": "code",
   "execution_count": 132,
   "metadata": {},
   "outputs": [],
   "source": [
    "class Encryption():\n",
    "    \n",
    "    def __init__(self,seed):\n",
    "        \n",
    "        # Set a random seed and a self.seed attribute\n",
    "        self.seed = seed\n",
    "               \n",
    "        \n",
    "        # Create an empty string attribute to hold the encrypted phrase\n",
    "        self.encrypted_string = ''\n",
    "        \n",
    "        \n",
    "        # Use the string and random libraries to create two attributes\n",
    "        # One is the correct alphabet, another is a shuffled alphabet (hint: random.sample())\n",
    "        random.seed(seed)\n",
    "        alphabet = string.ascii_lowercase\n",
    "        shuffled_alphabet = random.sample(list(alphabet) , 26)\n",
    "        \n",
    "    def encryption(self,message):\n",
    "        '''\n",
    "        This method will take in a string message and encrypt it. Check the video or \n",
    "        the instructions above in the markdown for full description of how your\n",
    "        decryption method should work.\n",
    "        \n",
    "        '''\n",
    "        \n",
    "        list_message = list(message)\n",
    "        ################################################################\n",
    "        ### STEP 1: REPLACE EVERY OTHER LETTER WITH A RANDOM LETTER ###\n",
    "        ##############################################################\n",
    "        index = 1\n",
    "        for i in range(len(list_message)):\n",
    "            list_message.insert(index , random.choice(shuffled_alphabet))\n",
    "            index = index + 2\n",
    "            \n",
    "        string_message = ''.join(list_message)\n",
    "        \n",
    "        print('Message : ' , message)\n",
    "        \n",
    "        print('Gap filled message : ' , string_message)\n",
    "        \n",
    "        \n",
    "        \n",
    "        \n",
    "        #################################################\n",
    "        ### STEP 2: REVERSE THE STRING  ################\n",
    "        ###############################################\n",
    "        reversed_string = string_message[::-1]\n",
    "        \n",
    "        print('Reversed String : ' , reversed_string)\n",
    "         \n",
    "        \n",
    "        ##########################################################################\n",
    "        ##### STEP 3: USE THE RANDOM SHUFFLED ALPHABET FOR A CEASER CIPHER ######\n",
    "        ########################################################################\n",
    "        dict1 = {}\n",
    "\n",
    "        i = 0\n",
    "        for key in alphabet:\n",
    "            dict1[key] = shuffled_alphabet[i]\n",
    "            i = i+1\n",
    "            \n",
    "        output = list()\n",
    "        for letter in list(reversed_string.lower()):\n",
    "            if letter == ' ':\n",
    "                output.append(' ')\n",
    "            else:\n",
    "                output.append(dict1[letter])\n",
    "                \n",
    "        print('dict1 : ' , dict1)\n",
    "        \n",
    "        print('Output : ' , output)\n",
    "\n",
    "        \n",
    "        \n",
    "        \n",
    "        \n",
    "        return ''.join(output)\n",
    "     \n",
    "   \n",
    "    def decryption(self,message,seed):\n",
    "        '''\n",
    "        This method takes in a messsage and a seed for the random shuffled alphabet.\n",
    "        It then returns the decrypted alphabet.\n",
    "        '''\n",
    "        \n",
    "        \n",
    "        dict2 = dict()\n",
    "        for key , value in dict1.items():\n",
    "            dict2[value] = key\n",
    "        \n",
    "        print('dict2 : ' , dict2)\n",
    "        output2 = list()\n",
    "        for letter in list(str(message).lower()):\n",
    "            if letter == ' ':\n",
    "                output2.append(' ')\n",
    "            else:\n",
    "                output2.append(dict2[letter])\n",
    "                \n",
    "        \n",
    "\n",
    "        \n",
    "        print('output2 : ' , output2)\n",
    "        \n",
    "        output2 = ''.join(output2)[::-1]\n",
    "        \n",
    "        print('output2 reversed : ' , output2)\n",
    "        \n",
    "        \n",
    "        new_list = []\n",
    "        \n",
    "        new_list.append(output2[::2])\n",
    "                                          \n",
    "        \n",
    "        \n",
    "        return ''.join(new_list)"
   ]
  },
  {
   "cell_type": "markdown",
   "metadata": {},
   "source": [
    "**Example of this in action:**"
   ]
  },
  {
   "cell_type": "code",
   "execution_count": 133,
   "metadata": {},
   "outputs": [],
   "source": [
    "e = Encryption(20)"
   ]
  },
  {
   "cell_type": "code",
   "execution_count": 134,
   "metadata": {},
   "outputs": [
    {
     "name": "stdout",
     "output_type": "stream",
     "text": [
      "Message :  hello world\n",
      "Gap filled message :  hwehlqlrob ewdoorklvdd\n",
      "Reversed String :  ddvlkroodwe borlqlhewh\n",
      "dict1 :  {'a': 'x', 'b': 'v', 'c': 'e', 'd': 'i', 'e': 'y', 'f': 'u', 'g': 'd', 'h': 'k', 'i': 'f', 'j': 'a', 'k': 'n', 'l': 'g', 'm': 'b', 'n': 'p', 'o': 'c', 'p': 'r', 'q': 'h', 'r': 'j', 's': 'o', 't': 'm', 'u': 'w', 'v': 'l', 'w': 'z', 'x': 's', 'y': 't', 'z': 'q'}\n",
      "Output :  ['i', 'i', 'l', 'g', 'n', 'j', 'c', 'c', 'i', 'z', 'y', ' ', 'v', 'c', 'j', 'g', 'h', 'g', 'k', 'y', 'z', 'k']\n"
     ]
    },
    {
     "data": {
      "text/plain": [
       "'iilgnjccizy vcjghgkyzk'"
      ]
     },
     "execution_count": 134,
     "metadata": {},
     "output_type": "execute_result"
    }
   ],
   "source": [
    "e.encryption('hello world')"
   ]
  },
  {
   "cell_type": "code",
   "execution_count": 135,
   "metadata": {},
   "outputs": [
    {
     "name": "stdout",
     "output_type": "stream",
     "text": [
      "dict2 :  {'x': 'a', 'v': 'b', 'e': 'c', 'i': 'd', 'y': 'e', 'u': 'f', 'd': 'g', 'k': 'h', 'f': 'i', 'a': 'j', 'n': 'k', 'g': 'l', 'b': 'm', 'p': 'n', 'c': 'o', 'r': 'p', 'h': 'q', 'j': 'r', 'o': 's', 'm': 't', 'w': 'u', 'l': 'v', 'z': 'w', 's': 'x', 't': 'y', 'q': 'z'}\n",
      "output2 :  ['d', 'd', 'v', 'l', 'k', 'r', 'o', 'o', 'd', 'w', 'e', ' ', 'b', 'o', 'r', 'l', 'q', 'l', 'h', 'e', 'w', 'h']\n",
      "output2 reversed :  hwehlqlrob ewdoorklvdd\n"
     ]
    },
    {
     "data": {
      "text/plain": [
       "'hello world'"
      ]
     },
     "execution_count": 135,
     "metadata": {},
     "output_type": "execute_result"
    }
   ],
   "source": [
    "e.decryption('iilgnjccizy vcjghgkyzk',20)"
   ]
  },
  {
   "cell_type": "code",
   "execution_count": 136,
   "metadata": {},
   "outputs": [],
   "source": [
    "# Trying with Different INPUT"
   ]
  },
  {
   "cell_type": "code",
   "execution_count": 137,
   "metadata": {},
   "outputs": [],
   "source": [
    "en = Encryption(15)"
   ]
  },
  {
   "cell_type": "code",
   "execution_count": 138,
   "metadata": {},
   "outputs": [
    {
     "name": "stdout",
     "output_type": "stream",
     "text": [
      "Message :  Harry James Potter\n",
      "Gap filled message :  Hsahrprkyo cJparmeecso qPgoctotnezrw\n",
      "Reversed String :  wrzentotcogPq osceemrapJc oykrprhasH\n",
      "dict1 :  {'a': 'x', 'b': 'v', 'c': 'e', 'd': 'i', 'e': 'y', 'f': 'u', 'g': 'd', 'h': 'k', 'i': 'f', 'j': 'a', 'k': 'n', 'l': 'g', 'm': 'b', 'n': 'p', 'o': 'c', 'p': 'r', 'q': 'h', 'r': 'j', 's': 'o', 't': 'm', 'u': 'w', 'v': 'l', 'w': 'z', 'x': 's', 'y': 't', 'z': 'q'}\n",
      "Output :  ['z', 'j', 'q', 'y', 'p', 'm', 'c', 'm', 'e', 'c', 'd', 'r', 'h', ' ', 'c', 'o', 'e', 'y', 'y', 'b', 'j', 'x', 'r', 'a', 'e', ' ', 'c', 't', 'n', 'j', 'r', 'j', 'k', 'x', 'o', 'k']\n"
     ]
    },
    {
     "data": {
      "text/plain": [
       "'zjqypmcmecdrh coeyybjxrae ctnjrjkxok'"
      ]
     },
     "execution_count": 138,
     "metadata": {},
     "output_type": "execute_result"
    }
   ],
   "source": [
    "en.encryption('Harry James Potter')"
   ]
  },
  {
   "cell_type": "code",
   "execution_count": 139,
   "metadata": {},
   "outputs": [
    {
     "name": "stdout",
     "output_type": "stream",
     "text": [
      "dict2 :  {'x': 'a', 'v': 'b', 'e': 'c', 'i': 'd', 'y': 'e', 'u': 'f', 'd': 'g', 'k': 'h', 'f': 'i', 'a': 'j', 'n': 'k', 'g': 'l', 'b': 'm', 'p': 'n', 'c': 'o', 'r': 'p', 'h': 'q', 'j': 'r', 'o': 's', 'm': 't', 'w': 'u', 'l': 'v', 'z': 'w', 's': 'x', 't': 'y', 'q': 'z'}\n",
      "output2 :  ['w', 'r', 'z', 'e', 'n', 't', 'o', 't', 'c', 'o', 'g', 'p', 'q', ' ', 'o', 's', 'c', 'e', 'e', 'm', 'r', 'a', 'p', 'j', 'c', ' ', 'o', 'y', 'k', 'r', 'p', 'r', 'h', 'a', 's', 'h']\n",
      "output2 reversed :  hsahrprkyo cjparmeecso qpgoctotnezrw\n"
     ]
    },
    {
     "data": {
      "text/plain": [
       "'harry james potter'"
      ]
     },
     "execution_count": 139,
     "metadata": {},
     "output_type": "execute_result"
    }
   ],
   "source": [
    "en.decryption('zjqypmcmecdrh coeyybjxrae ctnjrjkxok' , 15)"
   ]
  },
  {
   "cell_type": "code",
   "execution_count": 103,
   "metadata": {},
   "outputs": [],
   "source": [
    "# The Actual Output Given in Notebook"
   ]
  },
  {
   "cell_type": "code",
   "execution_count": 12,
   "metadata": {
    "collapsed": true
   },
   "outputs": [],
   "source": [
    "e = Encryption(20)"
   ]
  },
  {
   "cell_type": "code",
   "execution_count": 13,
   "metadata": {},
   "outputs": [
    {
     "data": {
      "text/plain": [
       "'divgkjocdze bcrgqghywk'"
      ]
     },
     "execution_count": 13,
     "metadata": {},
     "output_type": "execute_result"
    }
   ],
   "source": [
    "e.encryption('hello world')"
   ]
  },
  {
   "cell_type": "code",
   "execution_count": 14,
   "metadata": {},
   "outputs": [
    {
     "data": {
      "text/plain": [
       "'hello world'"
      ]
     },
     "execution_count": 14,
     "metadata": {},
     "output_type": "execute_result"
    }
   ],
   "source": [
    "e.decryption('divgkjocdze bcrgqghywk',20)"
   ]
  },
  {
   "cell_type": "markdown",
   "metadata": {},
   "source": [
    "Best of luck!"
   ]
  }
 ],
 "metadata": {
  "kernelspec": {
   "display_name": "Python 3",
   "language": "python",
   "name": "python3"
  },
  "language_info": {
   "codemirror_mode": {
    "name": "ipython",
    "version": 3
   },
   "file_extension": ".py",
   "mimetype": "text/x-python",
   "name": "python",
   "nbconvert_exporter": "python",
   "pygments_lexer": "ipython3",
   "version": "3.7.4"
  }
 },
 "nbformat": 4,
 "nbformat_minor": 2
}
